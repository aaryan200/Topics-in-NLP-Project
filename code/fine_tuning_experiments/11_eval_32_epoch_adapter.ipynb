{
 "cells": [
  {
   "cell_type": "markdown",
   "id": "d8663cc6",
   "metadata": {
    "papermill": {
     "duration": 0.025739,
     "end_time": "2024-11-11T16:16:18.935753",
     "exception": false,
     "start_time": "2024-11-11T16:16:18.910014",
     "status": "completed"
    },
    "tags": []
   },
   "source": [
    "# Evaluate the TwoLayerNN adapter fine-tuned on `mpnet` model for 32 epochs"
   ]
  },
  {
   "cell_type": "code",
   "execution_count": 1,
   "id": "e956a237",
   "metadata": {
    "execution": {
     "iopub.execute_input": "2024-11-11T16:16:18.970186Z",
     "iopub.status.busy": "2024-11-11T16:16:18.969736Z",
     "iopub.status.idle": "2024-11-11T16:16:26.772356Z",
     "shell.execute_reply": "2024-11-11T16:16:26.771644Z"
    },
    "papermill": {
     "duration": 7.827436,
     "end_time": "2024-11-11T16:16:26.775266",
     "exception": false,
     "start_time": "2024-11-11T16:16:18.947830",
     "status": "completed"
    },
    "tags": []
   },
   "outputs": [],
   "source": [
    "import numpy as np\n",
    "import pandas as pd\n",
    "import matplotlib.pyplot as plt\n",
    "from scipy import spatial\n",
    "from llama_index.embeddings.adapter.utils import TwoLayerNN\n",
    "from llama_index.embeddings.adapter import AdapterEmbeddingModel\n",
    "from llama_index.core.embeddings import resolve_embed_model\n",
    "import time\n",
    "from IPython.display import clear_output"
   ]
  },
  {
   "cell_type": "code",
   "execution_count": 2,
   "id": "bf3d9920",
   "metadata": {
    "execution": {
     "iopub.execute_input": "2024-11-11T16:16:26.834353Z",
     "iopub.status.busy": "2024-11-11T16:16:26.833992Z",
     "iopub.status.idle": "2024-11-11T16:16:33.661186Z",
     "shell.execute_reply": "2024-11-11T16:16:33.659483Z"
    },
    "papermill": {
     "duration": 6.866426,
     "end_time": "2024-11-11T16:16:33.664634",
     "exception": false,
     "start_time": "2024-11-11T16:16:26.798208",
     "status": "completed"
    },
    "tags": []
   },
   "outputs": [
    {
     "name": "stderr",
     "output_type": "stream",
     "text": [
      "/export/home/co21btech11001/.conda/envs/nlp_new/lib/python3.10/site-packages/tqdm/auto.py:21: TqdmWarning: IProgress not found. Please update jupyter and ipywidgets. See https://ipywidgets.readthedocs.io/en/stable/user_install.html\n",
      "  from .autonotebook import tqdm as notebook_tqdm\n"
     ]
    }
   ],
   "source": [
    "model_name = \"sentence-transformers/paraphrase-mpnet-base-v2\"\n",
    "base_embed_model = resolve_embed_model(f\"local:{model_name}\")"
   ]
  },
  {
   "cell_type": "code",
   "execution_count": 3,
   "id": "9b86a13b",
   "metadata": {
    "execution": {
     "iopub.execute_input": "2024-11-11T16:16:33.708529Z",
     "iopub.status.busy": "2024-11-11T16:16:33.707420Z",
     "iopub.status.idle": "2024-11-11T16:16:33.891423Z",
     "shell.execute_reply": "2024-11-11T16:16:33.890676Z"
    },
    "papermill": {
     "duration": 0.212614,
     "end_time": "2024-11-11T16:16:33.893050",
     "exception": false,
     "start_time": "2024-11-11T16:16:33.680436",
     "status": "completed"
    },
    "tags": []
   },
   "outputs": [
    {
     "name": "stderr",
     "output_type": "stream",
     "text": [
      "/export/home/co21btech11001/.conda/envs/nlp_new/lib/python3.10/site-packages/llama_index/embeddings/adapter/utils.py:49: FutureWarning: You are using `torch.load` with `weights_only=False` (the current default value), which uses the default pickle module implicitly. It is possible to construct malicious pickle data which will execute arbitrary code during unpickling (See https://github.com/pytorch/pytorch/blob/main/SECURITY.md#untrusted-models for more details). In a future release, the default value for `weights_only` will be flipped to `True`. This limits the functions that could be executed during unpickling. Arbitrary objects will no longer be allowed to be loaded via this mode unless they are explicitly allowlisted by the user via `torch.serialization.add_safe_globals`. We recommend you start setting `weights_only=True` for any use case where you don't have full control of the loaded file. Please open an issue on GitHub for any issues related to this experimental feature.\n",
      "  torch.load(\n"
     ]
    }
   ],
   "source": [
    "embed_model = AdapterEmbeddingModel(\n",
    "    base_embed_model,\n",
    "    \"mpnet_finetuned_ep32\",\n",
    "    TwoLayerNN,\n",
    "    device=\"cuda\"\n",
    ")"
   ]
  },
  {
   "cell_type": "code",
   "execution_count": 4,
   "id": "ba967fbd",
   "metadata": {
    "execution": {
     "iopub.execute_input": "2024-11-11T16:16:33.913141Z",
     "iopub.status.busy": "2024-11-11T16:16:33.912611Z",
     "iopub.status.idle": "2024-11-11T16:16:34.010402Z",
     "shell.execute_reply": "2024-11-11T16:16:34.009683Z"
    },
    "papermill": {
     "duration": 0.110027,
     "end_time": "2024-11-11T16:16:34.013098",
     "exception": false,
     "start_time": "2024-11-11T16:16:33.903071",
     "status": "completed"
    },
    "tags": []
   },
   "outputs": [
    {
     "name": "stdout",
     "output_type": "stream",
     "text": [
      "(20000, 3)\n",
      "(5000, 3)\n"
     ]
    },
    {
     "data": {
      "text/html": [
       "<div>\n",
       "<style scoped>\n",
       "    .dataframe tbody tr th:only-of-type {\n",
       "        vertical-align: middle;\n",
       "    }\n",
       "\n",
       "    .dataframe tbody tr th {\n",
       "        vertical-align: top;\n",
       "    }\n",
       "\n",
       "    .dataframe thead th {\n",
       "        text-align: right;\n",
       "    }\n",
       "</style>\n",
       "<table border=\"1\" class=\"dataframe\">\n",
       "  <thead>\n",
       "    <tr style=\"text-align: right;\">\n",
       "      <th></th>\n",
       "      <th>question</th>\n",
       "      <th>relevant_docs_urls</th>\n",
       "      <th>num_rel_chunks</th>\n",
       "    </tr>\n",
       "  </thead>\n",
       "  <tbody>\n",
       "    <tr>\n",
       "      <th>0</th>\n",
       "      <td>What is (are) keratoderma with woolly hair ?</td>\n",
       "      <td>[https://ghr.nlm.nih.gov/condition/keratoderma...</td>\n",
       "      <td>5</td>\n",
       "    </tr>\n",
       "    <tr>\n",
       "      <th>1</th>\n",
       "      <td>How many people are affected by keratoderma wi...</td>\n",
       "      <td>[https://ghr.nlm.nih.gov/condition/keratoderma...</td>\n",
       "      <td>5</td>\n",
       "    </tr>\n",
       "    <tr>\n",
       "      <th>2</th>\n",
       "      <td>What are the genetic changes related to kerato...</td>\n",
       "      <td>[https://ghr.nlm.nih.gov/condition/keratoderma...</td>\n",
       "      <td>5</td>\n",
       "    </tr>\n",
       "  </tbody>\n",
       "</table>\n",
       "</div>"
      ],
      "text/plain": [
       "                                            question  \\\n",
       "0       What is (are) keratoderma with woolly hair ?   \n",
       "1  How many people are affected by keratoderma wi...   \n",
       "2  What are the genetic changes related to kerato...   \n",
       "\n",
       "                                  relevant_docs_urls  num_rel_chunks  \n",
       "0  [https://ghr.nlm.nih.gov/condition/keratoderma...               5  \n",
       "1  [https://ghr.nlm.nih.gov/condition/keratoderma...               5  \n",
       "2  [https://ghr.nlm.nih.gov/condition/keratoderma...               5  "
      ]
     },
     "execution_count": 4,
     "metadata": {},
     "output_type": "execute_result"
    }
   ],
   "source": [
    "df_ques_url_train = pd.read_pickle('../../data/questions_relevant_urls_chunks_train.pkl')\n",
    "df_ques_url_test = pd.read_pickle('../../data/questions_relevant_urls_chunks_test.pkl')\n",
    "\n",
    "print(df_ques_url_train.shape)\n",
    "print(df_ques_url_test.shape)\n",
    "df_ques_url_train.head(3)"
   ]
  },
  {
   "cell_type": "code",
   "execution_count": 5,
   "id": "e2835974",
   "metadata": {
    "execution": {
     "iopub.execute_input": "2024-11-11T16:16:34.039405Z",
     "iopub.status.busy": "2024-11-11T16:16:34.038984Z",
     "iopub.status.idle": "2024-11-11T16:16:37.249360Z",
     "shell.execute_reply": "2024-11-11T16:16:37.247939Z"
    },
    "papermill": {
     "duration": 3.226433,
     "end_time": "2024-11-11T16:16:37.252137",
     "exception": false,
     "start_time": "2024-11-11T16:16:34.025704",
     "status": "completed"
    },
    "tags": []
   },
   "outputs": [
    {
     "name": "stdout",
     "output_type": "stream",
     "text": [
      "(33545, 3)\n"
     ]
    },
    {
     "data": {
      "text/html": [
       "<div>\n",
       "<style scoped>\n",
       "    .dataframe tbody tr th:only-of-type {\n",
       "        vertical-align: middle;\n",
       "    }\n",
       "\n",
       "    .dataframe tbody tr th {\n",
       "        vertical-align: top;\n",
       "    }\n",
       "\n",
       "    .dataframe thead th {\n",
       "        text-align: right;\n",
       "    }\n",
       "</style>\n",
       "<table border=\"1\" class=\"dataframe\">\n",
       "  <thead>\n",
       "    <tr style=\"text-align: right;\">\n",
       "      <th></th>\n",
       "      <th>doc_url</th>\n",
       "      <th>chunk_content</th>\n",
       "      <th>embedding</th>\n",
       "    </tr>\n",
       "  </thead>\n",
       "  <tbody>\n",
       "    <tr>\n",
       "      <th>0</th>\n",
       "      <td>https://ghr.nlm.nih.gov/condition/keratoderma-...</td>\n",
       "      <td>keratoderma with woolly hair : medlineplus gen...</td>\n",
       "      <td>[-0.0015540259191766381, 0.031236015260219574,...</td>\n",
       "    </tr>\n",
       "    <tr>\n",
       "      <th>1</th>\n",
       "      <td>https://ghr.nlm.nih.gov/condition/keratoderma-...</td>\n",
       "      <td>##ma, woolly hair, and a form of cardiomyopath...</td>\n",
       "      <td>[-0.03523554652929306, -0.03372985124588013, 0...</td>\n",
       "    </tr>\n",
       "    <tr>\n",
       "      <th>2</th>\n",
       "      <td>https://ghr.nlm.nih.gov/condition/keratoderma-...</td>\n",
       "      <td>##pathy in people with this group of condition...</td>\n",
       "      <td>[0.009989160113036633, 0.02316436544060707, 0....</td>\n",
       "    </tr>\n",
       "  </tbody>\n",
       "</table>\n",
       "</div>"
      ],
      "text/plain": [
       "                                             doc_url  \\\n",
       "0  https://ghr.nlm.nih.gov/condition/keratoderma-...   \n",
       "1  https://ghr.nlm.nih.gov/condition/keratoderma-...   \n",
       "2  https://ghr.nlm.nih.gov/condition/keratoderma-...   \n",
       "\n",
       "                                       chunk_content  \\\n",
       "0  keratoderma with woolly hair : medlineplus gen...   \n",
       "1  ##ma, woolly hair, and a form of cardiomyopath...   \n",
       "2  ##pathy in people with this group of condition...   \n",
       "\n",
       "                                           embedding  \n",
       "0  [-0.0015540259191766381, 0.031236015260219574,...  \n",
       "1  [-0.03523554652929306, -0.03372985124588013, 0...  \n",
       "2  [0.009989160113036633, 0.02316436544060707, 0....  "
      ]
     },
     "execution_count": 5,
     "metadata": {},
     "output_type": "execute_result"
    }
   ],
   "source": [
    "df_kb = pd.read_pickle('../../data/kb_chunks_emb_finetuned.pkl')\n",
    "print(df_kb.shape)\n",
    "df_kb.head(3)"
   ]
  },
  {
   "cell_type": "code",
   "execution_count": 7,
   "id": "207c3bed",
   "metadata": {
    "execution": {
     "iopub.execute_input": "2024-11-11T16:16:37.330053Z",
     "iopub.status.busy": "2024-11-11T16:16:37.329485Z",
     "iopub.status.idle": "2024-11-11T16:28:17.521503Z",
     "shell.execute_reply": "2024-11-11T16:28:17.520178Z"
    },
    "papermill": {
     "duration": 700.207844,
     "end_time": "2024-11-11T16:28:17.523257",
     "exception": false,
     "start_time": "2024-11-11T16:16:37.315413",
     "status": "completed"
    },
    "tags": []
   },
   "outputs": [],
   "source": [
    "df_kb['embedding'] = df_kb['chunk_content'].apply(\n",
    "    lambda x: np.array(embed_model.get_text_embedding(x))\n",
    ")"
   ]
  },
  {
   "cell_type": "code",
   "execution_count": 8,
   "id": "e3bc7e10",
   "metadata": {
    "execution": {
     "iopub.execute_input": "2024-11-11T16:28:17.576770Z",
     "iopub.status.busy": "2024-11-11T16:28:17.576276Z",
     "iopub.status.idle": "2024-11-11T16:28:20.815578Z",
     "shell.execute_reply": "2024-11-11T16:28:20.813787Z"
    },
    "papermill": {
     "duration": 3.252643,
     "end_time": "2024-11-11T16:28:20.818043",
     "exception": false,
     "start_time": "2024-11-11T16:28:17.565400",
     "status": "completed"
    },
    "tags": []
   },
   "outputs": [],
   "source": [
    "df_kb.to_pickle('../../data/kb_chunks_emb_finetuned_ep32.pkl')"
   ]
  },
  {
   "cell_type": "code",
   "execution_count": 9,
   "id": "25e39071",
   "metadata": {
    "execution": {
     "iopub.execute_input": "2024-11-11T16:28:20.839964Z",
     "iopub.status.busy": "2024-11-11T16:28:20.839332Z",
     "iopub.status.idle": "2024-11-11T16:28:20.857460Z",
     "shell.execute_reply": "2024-11-11T16:28:20.855791Z"
    },
    "papermill": {
     "duration": 0.030573,
     "end_time": "2024-11-11T16:28:20.859451",
     "exception": false,
     "start_time": "2024-11-11T16:28:20.828878",
     "status": "completed"
    },
    "tags": []
   },
   "outputs": [],
   "source": [
    "def cos_sim(a, b):\n",
    "    return 1 - spatial.distance.cosine(a, b)\n",
    "\n",
    "def retrieve(ques, df_kb, model):\n",
    "    question_embedding = np.array(model.get_query_embedding(ques))\n",
    "    # Copy the 'doc_url' and 'embedding' columns to a new dataframe\n",
    "    df_kb_copy = df_kb[['doc_url', 'embedding']].copy()\n",
    "     # Calculate the cosine similarity between the question embedding and all document embeddings\n",
    "    df_kb_copy['cosine_similarity'] = df_kb_copy['embedding'].apply(\n",
    "        lambda x: cos_sim(question_embedding, x))\n",
    "    # Sort the dataframe by the cosine similarity in descending order\n",
    "    df_kb_copy = df_kb_copy.sort_values(by='cosine_similarity', ascending=False)\n",
    "    ret_urls = df_kb_copy['doc_url'].values\n",
    "    return ret_urls\n",
    "\n",
    "def recall_at_k(num_rel_chunks, relevant_docs_urls, top_retrieved_urls):\n",
    "    \"\"\"\n",
    "    Procedure:\n",
    "    - Among top_retrieved_urls, count the number of urls which are relevant\n",
    "    - Divide this count by the total number of relevant urls\n",
    "    \"\"\"\n",
    "    num_relevant = 0\n",
    "    for url in top_retrieved_urls:\n",
    "        if url in relevant_docs_urls:\n",
    "            num_relevant += 1\n",
    "    return num_relevant / num_rel_chunks\n",
    "\n",
    "def mrr_at_k(relevant_docs_urls, top_retrieved_urls):\n",
    "    \"\"\"\n",
    "    Procedure:\n",
    "    - For each relevant_docs_urls, find the top index in top_retrieved_urls\n",
    "    - Take the reciprocal of this index\n",
    "    - Return the mean of these reciprocals\n",
    "    \"\"\"\n",
    "    li = []\n",
    "    for url in relevant_docs_urls:\n",
    "        if url in top_retrieved_urls:\n",
    "            # list.index returns the first occurrence of the url\n",
    "            li.append(1 / (list(top_retrieved_urls).index(url) + 1))\n",
    "    if len(li) == 0:\n",
    "        return 0\n",
    "    return np.mean(li)"
   ]
  },
  {
   "cell_type": "code",
   "execution_count": 10,
   "id": "0733de54",
   "metadata": {
    "execution": {
     "iopub.execute_input": "2024-11-11T16:28:20.880180Z",
     "iopub.status.busy": "2024-11-11T16:28:20.879587Z",
     "iopub.status.idle": "2024-11-11T16:28:20.910656Z",
     "shell.execute_reply": "2024-11-11T16:28:20.909079Z"
    },
    "papermill": {
     "duration": 0.044183,
     "end_time": "2024-11-11T16:28:20.912668",
     "exception": false,
     "start_time": "2024-11-11T16:28:20.868485",
     "status": "completed"
    },
    "tags": []
   },
   "outputs": [],
   "source": [
    "def evaluate(df_ques_url):\n",
    "    recall_1_li = []; mrr_1_li = []\n",
    "    recall_3_li = []; mrr_3_li = []\n",
    "    recall_10_li = []; mrr_10_li = []\n",
    "    recall_100_li = []; mrr_100_li = []\n",
    "\n",
    "    start_time = time.time()\n",
    "    complete = 0\n",
    "    total = len(df_ques_url)\n",
    "    for _, row in df_ques_url.iterrows():\n",
    "        ques = row['question']\n",
    "        relevant_urls = row['relevant_docs_urls']\n",
    "        num_rel_chunks = row['num_rel_chunks']\n",
    "\n",
    "        retrieved_urls = retrieve(ques, df_kb, embed_model)\n",
    "\n",
    "        temp_recall_1 = recall_at_k(num_rel_chunks, relevant_urls, retrieved_urls[:1])\n",
    "        temp_mrr_1 = mrr_at_k(relevant_urls, retrieved_urls[:1])\n",
    "        temp_recall_3 = recall_at_k(num_rel_chunks, relevant_urls, retrieved_urls[:3])\n",
    "        temp_mrr_3 = mrr_at_k(relevant_urls, retrieved_urls[:3])\n",
    "        temp_recall_10 = recall_at_k(num_rel_chunks, relevant_urls, retrieved_urls[:10])\n",
    "        temp_mrr_10 = mrr_at_k(relevant_urls, retrieved_urls[:10])\n",
    "        temp_recall_100 = recall_at_k(num_rel_chunks, relevant_urls, retrieved_urls[:100])\n",
    "        temp_mrr_100 = mrr_at_k(relevant_urls, retrieved_urls[:100])\n",
    "\n",
    "        recall_1_li.append(temp_recall_1); mrr_1_li.append(temp_mrr_1)\n",
    "        recall_3_li.append(temp_recall_3); mrr_3_li.append(temp_mrr_3)\n",
    "        recall_10_li.append(temp_recall_10); mrr_10_li.append(temp_mrr_10)\n",
    "        recall_100_li.append(temp_recall_100); mrr_100_li.append(temp_mrr_100)\n",
    "\n",
    "        complete += 1\n",
    "        percent_comp = (complete/total)*100\n",
    "        clear_output(wait=True)\n",
    "        print(f\"Completed: {complete}/{total}: ({percent_comp:.2f}%)\")\n",
    "\n",
    "    end_time = time.time()\n",
    "    time_taken = end_time - start_time\n",
    "    print(f\"Time taken: {time_taken:.2f} seconds\")\n",
    "\n",
    "    return recall_1_li, mrr_1_li, recall_3_li, mrr_3_li, recall_10_li, mrr_10_li, recall_100_li, mrr_100_li\n",
    "\n",
    "def print_plot_results(df_ques_url):\n",
    "    recall_1, mrr_1, recall_3, mrr_3, \\\n",
    "    recall_10, mrr_10, recall_100, mrr_100 = evaluate(df_ques_url)\n",
    "\n",
    "    recall_1_score = np.mean(recall_1); mrr_1_score = np.mean(mrr_1)\n",
    "    recall_3_score = np.mean(recall_3); mrr_3_score = np.mean(mrr_3)\n",
    "    recall_10_score = np.mean(recall_10); mrr_10_score = np.mean(mrr_10)\n",
    "    recall_100_score = np.mean(recall_100); mrr_100_score = np.mean(mrr_100)\n",
    "\n",
    "    print(f\"Recall@1: {recall_1_score:.4f}\")\n",
    "    print(f\"Recall@3: {recall_3_score:.4f}\")\n",
    "    print(f\"Recall@10: {recall_10_score:.4f}\")\n",
    "    print(f\"Recall@100: {recall_100_score:.4f}\")\n",
    "    print()\n",
    "    print(f\"MRR@1: {mrr_1_score:.4f}\")\n",
    "    print(f\"MRR@3: {mrr_3_score:.4f}\")\n",
    "    print(f\"MRR@10: {mrr_10_score:.4f}\")\n",
    "    print(f\"MRR@100: {mrr_100_score:.4f}\")\n",
    "\n",
    "    # Plot recall scores on histograms\n",
    "    fig, ax = plt.subplots(2, 2, figsize=(15, 10))\n",
    "    ax[0, 0].hist(recall_1, bins=10, color='r', alpha=0.7)\n",
    "    ax[0, 0].set_title('Recall@1')\n",
    "    ax[0, 1].hist(recall_3, bins=10, color='g', alpha=0.7)\n",
    "    ax[0, 1].set_title('Recall@3')\n",
    "    ax[1, 0].hist(recall_10, bins=10, color='b', alpha=0.7)\n",
    "    ax[1, 0].set_title('Recall@10')\n",
    "    ax[1, 1].hist(recall_100, bins=10, color='y', alpha=0.7)\n",
    "    ax[1, 1].set_title('Recall@100')\n",
    "    plt.show()"
   ]
  },
  {
   "cell_type": "code",
   "execution_count": 11,
   "id": "48c5a8ff",
   "metadata": {
    "execution": {
     "iopub.execute_input": "2024-11-11T16:28:20.931315Z",
     "iopub.status.busy": "2024-11-11T16:28:20.930750Z",
     "iopub.status.idle": "2024-11-11T18:03:23.357022Z",
     "shell.execute_reply": "2024-11-11T18:03:23.356201Z"
    },
    "papermill": {
     "duration": 5702.44063,
     "end_time": "2024-11-11T18:03:23.361394",
     "exception": false,
     "start_time": "2024-11-11T16:28:20.920764",
     "status": "completed"
    },
    "tags": []
   },
   "outputs": [
    {
     "name": "stdout",
     "output_type": "stream",
     "text": [
      "Completed: 20000/20000: (100.00%)\n",
      "Time taken: 5701.59 seconds\n",
      "Recall@1: 0.2022\n",
      "Recall@3: 0.3925\n",
      "Recall@10: 0.5505\n",
      "Recall@100: 0.6977\n",
      "\n",
      "MRR@1: 0.8156\n",
      "MRR@3: 0.8687\n",
      "MRR@10: 0.8753\n",
      "MRR@100: 0.8756\n"
     ]
    },
    {
     "data": {
      "image/png": "[encoded data removed]",
      "text/plain": [
       "<Figure size 1500x1000 with 4 Axes>"
      ]
     },
     "metadata": {},
     "output_type": "display_data"
    }
   ],
   "source": [
    "print_plot_results(df_ques_url_train)"
   ]
  },
  {
   "cell_type": "code",
   "execution_count": 12,
   "id": "dad46aa6",
   "metadata": {
    "execution": {
     "iopub.execute_input": "2024-11-11T18:03:23.452810Z",
     "iopub.status.busy": "2024-11-11T18:03:23.452407Z",
     "iopub.status.idle": "2024-11-11T18:26:46.855866Z",
     "shell.execute_reply": "2024-11-11T18:26:46.855045Z"
    },
    "papermill": {
     "duration": 1403.45002,
     "end_time": "2024-11-11T18:26:46.859817",
     "exception": false,
     "start_time": "2024-11-11T18:03:23.409797",
     "status": "completed"
    },
    "tags": []
   },
   "outputs": [
    {
     "name": "stdout",
     "output_type": "stream",
     "text": [
      "Completed: 5000/5000: (100.00%)\n",
      "Time taken: 1402.99 seconds\n",
      "Recall@1: 0.2089\n",
      "Recall@3: 0.3790\n",
      "Recall@10: 0.5132\n",
      "Recall@100: 0.6563\n",
      "\n",
      "MRR@1: 0.8074\n",
      "MRR@3: 0.8652\n",
      "MRR@10: 0.8731\n",
      "MRR@100: 0.8739\n"
     ]
    },
    {
     "data": {
      "image/png": "[encoded data removed]",
      "text/plain": [
       "<Figure size 1500x1000 with 4 Axes>"
      ]
     },
     "metadata": {},
     "output_type": "display_data"
    }
   ],
   "source": [
    "print_plot_results(df_ques_url_test)"
   ]
  }
 ],
 "metadata": {
  "kernelspec": {
   "display_name": "nlp_new",
   "language": "python",
   "name": "python3"
  },
  "language_info": {
   "codemirror_mode": {
    "name": "ipython",
    "version": 3
   },
   "file_extension": ".py",
   "mimetype": "text/x-python",
   "name": "python",
   "nbconvert_exporter": "python",
   "pygments_lexer": "ipython3",
   "version": "3.10.15"
  },
  "papermill": {
   "default_parameters": {},
   "duration": 7831.565787,
   "end_time": "2024-11-11T18:26:48.450136",
   "environment_variables": {},
   "exception": null,
   "input_path": "09_eval_rig_adapter.ipynb",
   "output_path": "09_eval_rig_adapter_out.ipynb",
   "parameters": {},
   "start_time": "2024-11-11T16:16:16.884349",
   "version": "2.6.0"
  }
 },
 "nbformat": 4,
 "nbformat_minor": 5
}
