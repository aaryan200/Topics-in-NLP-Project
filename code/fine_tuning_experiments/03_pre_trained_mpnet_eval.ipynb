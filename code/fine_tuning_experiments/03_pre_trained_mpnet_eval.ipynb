{
 "cells": [
  {
   "cell_type": "markdown",
   "id": "2d1fd0e1",
   "metadata": {},
   "source": [
    "# Notebook to evaluate pre-trained [paraphrase-mpnet-base-v2](https://huggingface.co/sentence-transformers/paraphrase-mpnet-base-v2) model\n",
    "Metrics used:\n",
    "- `Recall@k`\n",
    "- `Mean Reciprocal Rank (MRR)@k`<br>\n",
    "\n",
    "for $k \\in \\{1, 3, 10, 100\\}$"
   ]
  },
  {
   "cell_type": "code",
   "execution_count": 1,
   "id": "ccd0e2f6",
   "metadata": {
    "execution": {
     "iopub.execute_input": "2024-10-31T12:50:43.400993Z",
     "iopub.status.busy": "2024-10-31T12:50:43.400838Z",
     "iopub.status.idle": "2024-10-31T12:50:49.398597Z",
     "shell.execute_reply": "2024-10-31T12:50:49.397164Z"
    },
    "papermill": {
     "duration": 6.015763,
     "end_time": "2024-10-31T12:50:49.400270",
     "exception": false,
     "start_time": "2024-10-31T12:50:43.384507",
     "status": "completed"
    },
    "tags": []
   },
   "outputs": [
    {
     "name": "stderr",
     "output_type": "stream",
     "text": [
      "/export/home/co21btech11001/.conda/envs/nlp_env/lib/python3.10/site-packages/sentence_transformers/cross_encoder/CrossEncoder.py:13: TqdmExperimentalWarning: Using `tqdm.autonotebook.tqdm` in notebook mode. Use `tqdm.tqdm` instead to force console mode (e.g. in jupyter console)\n",
      "  from tqdm.autonotebook import tqdm, trange\n"
     ]
    }
   ],
   "source": [
    "from sentence_transformers import SentenceTransformer\n",
    "from transformers import AutoTokenizer\n",
    "import matplotlib.pyplot as plt\n",
    "import pandas as pd\n",
    "from tqdm import tqdm\n",
    "import numpy as np\n",
    "from scipy import spatial\n",
    "from torchinfo import summary\n",
    "import time\n",
    "from IPython.display import clear_output"
   ]
  },
  {
   "cell_type": "markdown",
   "id": "fb0fa01f",
   "metadata": {
    "papermill": {
     "duration": 0.007735,
     "end_time": "2024-10-31T12:50:49.425442",
     "exception": false,
     "start_time": "2024-10-31T12:50:49.417707",
     "status": "completed"
    },
    "tags": []
   },
   "source": [
    "## Load Data"
   ]
  },
  {
   "cell_type": "code",
   "execution_count": 2,
   "id": "f16fbefa",
   "metadata": {
    "execution": {
     "iopub.execute_input": "2024-10-31T12:50:49.440014Z",
     "iopub.status.busy": "2024-10-31T12:50:49.439666Z",
     "iopub.status.idle": "2024-10-31T12:50:49.613135Z",
     "shell.execute_reply": "2024-10-31T12:50:49.611934Z"
    },
    "papermill": {
     "duration": 0.182946,
     "end_time": "2024-10-31T12:50:49.614939",
     "exception": false,
     "start_time": "2024-10-31T12:50:49.431993",
     "status": "completed"
    },
    "tags": []
   },
   "outputs": [
    {
     "name": "stdout",
     "output_type": "stream",
     "text": [
      "(20000, 3)\n",
      "(5000, 3)\n"
     ]
    },
    {
     "data": {
      "text/html": [
       "<div>\n",
       "<style scoped>\n",
       "    .dataframe tbody tr th:only-of-type {\n",
       "        vertical-align: middle;\n",
       "    }\n",
       "\n",
       "    .dataframe tbody tr th {\n",
       "        vertical-align: top;\n",
       "    }\n",
       "\n",
       "    .dataframe thead th {\n",
       "        text-align: right;\n",
       "    }\n",
       "</style>\n",
       "<table border=\"1\" class=\"dataframe\">\n",
       "  <thead>\n",
       "    <tr style=\"text-align: right;\">\n",
       "      <th></th>\n",
       "      <th>question</th>\n",
       "      <th>relevant_docs_urls</th>\n",
       "      <th>num_rel_chunks</th>\n",
       "    </tr>\n",
       "  </thead>\n",
       "  <tbody>\n",
       "    <tr>\n",
       "      <th>0</th>\n",
       "      <td>What is (are) keratoderma with woolly hair ?</td>\n",
       "      <td>[https://ghr.nlm.nih.gov/condition/keratoderma...</td>\n",
       "      <td>5</td>\n",
       "    </tr>\n",
       "    <tr>\n",
       "      <th>1</th>\n",
       "      <td>How many people are affected by keratoderma wi...</td>\n",
       "      <td>[https://ghr.nlm.nih.gov/condition/keratoderma...</td>\n",
       "      <td>5</td>\n",
       "    </tr>\n",
       "    <tr>\n",
       "      <th>2</th>\n",
       "      <td>What are the genetic changes related to kerato...</td>\n",
       "      <td>[https://ghr.nlm.nih.gov/condition/keratoderma...</td>\n",
       "      <td>5</td>\n",
       "    </tr>\n",
       "  </tbody>\n",
       "</table>\n",
       "</div>"
      ],
      "text/plain": [
       "                                            question  \\\n",
       "0       What is (are) keratoderma with woolly hair ?   \n",
       "1  How many people are affected by keratoderma wi...   \n",
       "2  What are the genetic changes related to kerato...   \n",
       "\n",
       "                                  relevant_docs_urls  num_rel_chunks  \n",
       "0  [https://ghr.nlm.nih.gov/condition/keratoderma...               5  \n",
       "1  [https://ghr.nlm.nih.gov/condition/keratoderma...               5  \n",
       "2  [https://ghr.nlm.nih.gov/condition/keratoderma...               5  "
      ]
     },
     "execution_count": 2,
     "metadata": {},
     "output_type": "execute_result"
    }
   ],
   "source": [
    "df_ques_url_train = pd.read_pickle('../../data/questions_relevant_urls_chunks_train.pkl')\n",
    "df_ques_url_test = pd.read_pickle('../../data/questions_relevant_urls_chunks_test.pkl')\n",
    "\n",
    "print(df_ques_url_train.shape)\n",
    "print(df_ques_url_test.shape)\n",
    "df_ques_url_train.head(3)"
   ]
  },
  {
   "cell_type": "code",
   "execution_count": 3,
   "id": "a01d786f",
   "metadata": {
    "execution": {
     "iopub.execute_input": "2024-10-31T12:50:49.653546Z",
     "iopub.status.busy": "2024-10-31T12:50:49.652710Z",
     "iopub.status.idle": "2024-10-31T12:50:49.797757Z",
     "shell.execute_reply": "2024-10-31T12:50:49.796768Z"
    },
    "papermill": {
     "duration": 0.156372,
     "end_time": "2024-10-31T12:50:49.799442",
     "exception": false,
     "start_time": "2024-10-31T12:50:49.643070",
     "status": "completed"
    },
    "tags": []
   },
   "outputs": [
    {
     "name": "stdout",
     "output_type": "stream",
     "text": [
      "(33545, 3)\n"
     ]
    },
    {
     "data": {
      "text/html": [
       "<div>\n",
       "<style scoped>\n",
       "    .dataframe tbody tr th:only-of-type {\n",
       "        vertical-align: middle;\n",
       "    }\n",
       "\n",
       "    .dataframe tbody tr th {\n",
       "        vertical-align: top;\n",
       "    }\n",
       "\n",
       "    .dataframe thead th {\n",
       "        text-align: right;\n",
       "    }\n",
       "</style>\n",
       "<table border=\"1\" class=\"dataframe\">\n",
       "  <thead>\n",
       "    <tr style=\"text-align: right;\">\n",
       "      <th></th>\n",
       "      <th>doc_url</th>\n",
       "      <th>chunk_content</th>\n",
       "      <th>embedding</th>\n",
       "    </tr>\n",
       "  </thead>\n",
       "  <tbody>\n",
       "    <tr>\n",
       "      <th>0</th>\n",
       "      <td>https://ghr.nlm.nih.gov/condition/keratoderma-...</td>\n",
       "      <td>keratoderma with woolly hair : medlineplus gen...</td>\n",
       "      <td>[-0.0039987266, 0.08037464, 0.049785912, -0.12...</td>\n",
       "    </tr>\n",
       "    <tr>\n",
       "      <th>1</th>\n",
       "      <td>https://ghr.nlm.nih.gov/condition/keratoderma-...</td>\n",
       "      <td>##ma, woolly hair, and a form of cardiomyopath...</td>\n",
       "      <td>[-0.09539697, -0.09132044, 0.0027289127, 0.005...</td>\n",
       "    </tr>\n",
       "    <tr>\n",
       "      <th>2</th>\n",
       "      <td>https://ghr.nlm.nih.gov/condition/keratoderma-...</td>\n",
       "      <td>##pathy in people with this group of condition...</td>\n",
       "      <td>[0.026278932, 0.060939535, 0.031438153, -0.044...</td>\n",
       "    </tr>\n",
       "  </tbody>\n",
       "</table>\n",
       "</div>"
      ],
      "text/plain": [
       "                                             doc_url  \\\n",
       "0  https://ghr.nlm.nih.gov/condition/keratoderma-...   \n",
       "1  https://ghr.nlm.nih.gov/condition/keratoderma-...   \n",
       "2  https://ghr.nlm.nih.gov/condition/keratoderma-...   \n",
       "\n",
       "                                       chunk_content  \\\n",
       "0  keratoderma with woolly hair : medlineplus gen...   \n",
       "1  ##ma, woolly hair, and a form of cardiomyopath...   \n",
       "2  ##pathy in people with this group of condition...   \n",
       "\n",
       "                                           embedding  \n",
       "0  [-0.0039987266, 0.08037464, 0.049785912, -0.12...  \n",
       "1  [-0.09539697, -0.09132044, 0.0027289127, 0.005...  \n",
       "2  [0.026278932, 0.060939535, 0.031438153, -0.044...  "
      ]
     },
     "execution_count": 3,
     "metadata": {},
     "output_type": "execute_result"
    }
   ],
   "source": [
    "df_kb = pd.read_pickle('../../data/kb_chunks_emb.pkl')\n",
    "print(df_kb.shape)\n",
    "df_kb.head(3)"
   ]
  },
  {
   "cell_type": "markdown",
   "id": "50ef08e8",
   "metadata": {
    "papermill": {
     "duration": 0.008084,
     "end_time": "2024-10-31T12:50:49.835363",
     "exception": false,
     "start_time": "2024-10-31T12:50:49.827279",
     "status": "completed"
    },
    "tags": []
   },
   "source": [
    "## Load Model"
   ]
  },
  {
   "cell_type": "code",
   "execution_count": 4,
   "id": "d8ae6028",
   "metadata": {
    "execution": {
     "iopub.execute_input": "2024-10-31T12:50:49.853841Z",
     "iopub.status.busy": "2024-10-31T12:50:49.853564Z",
     "iopub.status.idle": "2024-10-31T12:50:54.066397Z",
     "shell.execute_reply": "2024-10-31T12:50:54.065089Z"
    },
    "papermill": {
     "duration": 4.224754,
     "end_time": "2024-10-31T12:50:54.067836",
     "exception": false,
     "start_time": "2024-10-31T12:50:49.843082",
     "status": "completed"
    },
    "tags": []
   },
   "outputs": [],
   "source": [
    "model_name = \"sentence-transformers/paraphrase-mpnet-base-v2\"\n",
    "model = SentenceTransformer(model_name)\n",
    "model = model.to('cuda')"
   ]
  },
  {
   "cell_type": "markdown",
   "id": "7c5ead03",
   "metadata": {
    "papermill": {
     "duration": 0.023301,
     "end_time": "2024-10-31T12:50:54.102930",
     "exception": false,
     "start_time": "2024-10-31T12:50:54.079629",
     "status": "completed"
    },
    "tags": []
   },
   "source": [
    "## Evaluate"
   ]
  },
  {
   "cell_type": "code",
   "execution_count": 5,
   "id": "d36151ca",
   "metadata": {
    "execution": {
     "iopub.execute_input": "2024-10-31T12:50:54.122216Z",
     "iopub.status.busy": "2024-10-31T12:50:54.121385Z",
     "iopub.status.idle": "2024-10-31T12:50:54.128793Z",
     "shell.execute_reply": "2024-10-31T12:50:54.127866Z"
    },
    "papermill": {
     "duration": 0.018839,
     "end_time": "2024-10-31T12:50:54.130364",
     "exception": false,
     "start_time": "2024-10-31T12:50:54.111525",
     "status": "completed"
    },
    "tags": []
   },
   "outputs": [],
   "source": [
    "def cos_sim(a, b):\n",
    "    return 1 - spatial.distance.cosine(a, b)\n",
    "\n",
    "def retrieve(ques, df_kb, model):\n",
    "    question_embedding = model.encode(ques, convert_to_tensor=True).cpu().numpy()\n",
    "    # Copy the 'doc_url' and 'embedding' columns to a new dataframe\n",
    "    df_kb_copy = df_kb[['doc_url', 'embedding']].copy()\n",
    "     # Calculate the cosine similarity between the question embedding and all document embeddings\n",
    "    df_kb_copy['cosine_similarity'] = df_kb_copy['embedding'].apply(\n",
    "        lambda x: cos_sim(question_embedding, x))\n",
    "    # Sort the dataframe by the cosine similarity in descending order\n",
    "    df_kb_copy = df_kb_copy.sort_values(by='cosine_similarity', ascending=False)\n",
    "    ret_urls = df_kb_copy['doc_url'].values\n",
    "    return ret_urls\n",
    "\n",
    "def recall_at_k(num_rel_chunks, relevant_docs_urls, top_retrieved_urls):\n",
    "    \"\"\"\n",
    "    Procedure:\n",
    "    - Among top_retrieved_urls, count the number of urls which are relevant\n",
    "    - Divide this count by the total number of relevant urls\n",
    "    \"\"\"\n",
    "    num_relevant = 0\n",
    "    for url in top_retrieved_urls:\n",
    "        if url in relevant_docs_urls:\n",
    "            num_relevant += 1\n",
    "    return num_relevant / num_rel_chunks\n",
    "\n",
    "def mrr_at_k(relevant_docs_urls, top_retrieved_urls):\n",
    "    \"\"\"\n",
    "    Procedure:\n",
    "    - For each relevant_docs_urls, find the top index in top_retrieved_urls\n",
    "    - Take the reciprocal of this index\n",
    "    - Return the mean of these reciprocals\n",
    "    \"\"\"\n",
    "    li = []\n",
    "    for url in relevant_docs_urls:\n",
    "        if url in top_retrieved_urls:\n",
    "            # list.index returns the first occurrence of the url\n",
    "            li.append(1 / (list(top_retrieved_urls).index(url) + 1))\n",
    "    if len(li) == 0:\n",
    "        return 0\n",
    "    return np.mean(li)"
   ]
  },
  {
   "cell_type": "code",
   "execution_count": 6,
   "id": "1de558ca",
   "metadata": {
    "execution": {
     "iopub.execute_input": "2024-10-31T12:50:54.163678Z",
     "iopub.status.busy": "2024-10-31T12:50:54.162796Z",
     "iopub.status.idle": "2024-10-31T12:50:54.175014Z",
     "shell.execute_reply": "2024-10-31T12:50:54.174126Z"
    },
    "papermill": {
     "duration": 0.037182,
     "end_time": "2024-10-31T12:50:54.176001",
     "exception": false,
     "start_time": "2024-10-31T12:50:54.138819",
     "status": "completed"
    },
    "tags": []
   },
   "outputs": [],
   "source": [
    "def evaluate(df_ques_url):\n",
    "    recall_1_li = []; mrr_1_li = []\n",
    "    recall_3_li = []; mrr_3_li = []\n",
    "    recall_10_li = []; mrr_10_li = []\n",
    "    recall_100_li = []; mrr_100_li = []\n",
    "\n",
    "    start_time = time.time()\n",
    "    complete = 0\n",
    "    total = len(df_ques_url)\n",
    "    for _, row in df_ques_url.iterrows():\n",
    "        ques = row['question']\n",
    "        relevant_urls = row['relevant_docs_urls']\n",
    "        num_rel_chunks = row['num_rel_chunks']\n",
    "\n",
    "        retrieved_urls = retrieve(ques, df_kb, model)\n",
    "\n",
    "        temp_recall_1 = recall_at_k(num_rel_chunks, relevant_urls, retrieved_urls[:1])\n",
    "        temp_mrr_1 = mrr_at_k(relevant_urls, retrieved_urls[:1])\n",
    "        temp_recall_3 = recall_at_k(num_rel_chunks, relevant_urls, retrieved_urls[:3])\n",
    "        temp_mrr_3 = mrr_at_k(relevant_urls, retrieved_urls[:3])\n",
    "        temp_recall_10 = recall_at_k(num_rel_chunks, relevant_urls, retrieved_urls[:10])\n",
    "        temp_mrr_10 = mrr_at_k(relevant_urls, retrieved_urls[:10])\n",
    "        temp_recall_100 = recall_at_k(num_rel_chunks, relevant_urls, retrieved_urls[:100])\n",
    "        temp_mrr_100 = mrr_at_k(relevant_urls, retrieved_urls[:100])\n",
    "\n",
    "        recall_1_li.append(temp_recall_1); mrr_1_li.append(temp_mrr_1)\n",
    "        recall_3_li.append(temp_recall_3); mrr_3_li.append(temp_mrr_3)\n",
    "        recall_10_li.append(temp_recall_10); mrr_10_li.append(temp_mrr_10)\n",
    "        recall_100_li.append(temp_recall_100); mrr_100_li.append(temp_mrr_100)\n",
    "\n",
    "        complete += 1\n",
    "        percent_comp = (complete/total)*100\n",
    "        clear_output(wait=True)\n",
    "        print(f\"Completed: {complete}/{total}: ({percent_comp:.2f}%)\")\n",
    "\n",
    "    end_time = time.time()\n",
    "    time_taken = end_time - start_time\n",
    "    print(f\"Time taken: {time_taken:.2f} seconds\")\n",
    "\n",
    "    return recall_1_li, mrr_1_li, recall_3_li, mrr_3_li, recall_10_li, mrr_10_li, recall_100_li, mrr_100_li\n",
    "\n",
    "def print_plot_results(df_ques_url):\n",
    "    recall_1, mrr_1, recall_3, mrr_3, \\\n",
    "    recall_10, mrr_10, recall_100, mrr_100 = evaluate(df_ques_url)\n",
    "\n",
    "    recall_1_score = np.mean(recall_1); mrr_1_score = np.mean(mrr_1)\n",
    "    recall_3_score = np.mean(recall_3); mrr_3_score = np.mean(mrr_3)\n",
    "    recall_10_score = np.mean(recall_10); mrr_10_score = np.mean(mrr_10)\n",
    "    recall_100_score = np.mean(recall_100); mrr_100_score = np.mean(mrr_100)\n",
    "\n",
    "    print(f\"Recall@1: {recall_1_score:.4f}\")\n",
    "    print(f\"Recall@3: {recall_3_score:.4f}\")\n",
    "    print(f\"Recall@10: {recall_10_score:.4f}\")\n",
    "    print(f\"Recall@100: {recall_100_score:.4f}\")\n",
    "    print()\n",
    "    print(f\"MRR@1: {mrr_1_score:.4f}\")\n",
    "    print(f\"MRR@3: {mrr_3_score:.4f}\")\n",
    "    print(f\"MRR@10: {mrr_10_score:.4f}\")\n",
    "    print(f\"MRR@100: {mrr_100_score:.4f}\")\n",
    "\n",
    "    # Plot recall scores on histograms\n",
    "    fig, ax = plt.subplots(2, 2, figsize=(15, 10))\n",
    "    ax[0, 0].hist(recall_1, bins=10, color='r', alpha=0.7)\n",
    "    ax[0, 0].set_title('Recall@1')\n",
    "    ax[0, 1].hist(recall_3, bins=10, color='g', alpha=0.7)\n",
    "    ax[0, 1].set_title('Recall@3')\n",
    "    ax[1, 0].hist(recall_10, bins=10, color='b', alpha=0.7)\n",
    "    ax[1, 0].set_title('Recall@10')\n",
    "    ax[1, 1].hist(recall_100, bins=10, color='y', alpha=0.7)\n",
    "    ax[1, 1].set_title('Recall@100')\n",
    "    plt.show()"
   ]
  },
  {
   "cell_type": "code",
   "execution_count": 7,
   "id": "f1a31443",
   "metadata": {
    "execution": {
     "iopub.execute_input": "2024-10-31T12:50:54.213318Z",
     "iopub.status.busy": "2024-10-31T12:50:54.213017Z",
     "iopub.status.idle": "2024-10-31T14:10:50.204863Z",
     "shell.execute_reply": "2024-10-31T14:10:50.204287Z"
    },
    "papermill": {
     "duration": 4796.003052,
     "end_time": "2024-10-31T14:10:50.206703",
     "exception": false,
     "start_time": "2024-10-31T12:50:54.203651",
     "status": "completed"
    },
    "tags": []
   },
   "outputs": [
    {
     "name": "stdout",
     "output_type": "stream",
     "text": [
      "Completed: 20000/20000: (100.00%)\n",
      "Time taken: 4795.38 seconds\n",
      "Recall@1: 0.1944\n",
      "Recall@3: 0.3811\n",
      "Recall@10: 0.5261\n",
      "Recall@100: 0.6763\n",
      "\n",
      "MRR@1: 0.7909\n",
      "MRR@3: 0.8497\n",
      "MRR@10: 0.8570\n",
      "MRR@100: 0.8573\n"
     ]
    },
    {
     "data": {
      "image/png": "[encoded data removed]",
      "text/plain": [
       "<Figure size 1500x1000 with 4 Axes>"
      ]
     },
     "metadata": {},
     "output_type": "display_data"
    }
   ],
   "source": [
    "print_plot_results(df_ques_url_train)"
   ]
  },
  {
   "cell_type": "code",
   "execution_count": 8,
   "id": "de9c2d4c",
   "metadata": {
    "execution": {
     "iopub.execute_input": "2024-10-31T14:10:50.255496Z",
     "iopub.status.busy": "2024-10-31T14:10:50.255178Z",
     "iopub.status.idle": "2024-10-31T14:30:58.320578Z",
     "shell.execute_reply": "2024-10-31T14:30:58.319967Z"
    },
    "papermill": {
     "duration": 1208.077251,
     "end_time": "2024-10-31T14:30:58.322244",
     "exception": false,
     "start_time": "2024-10-31T14:10:50.244993",
     "status": "completed"
    },
    "tags": []
   },
   "outputs": [
    {
     "name": "stdout",
     "output_type": "stream",
     "text": [
      "Completed: 5000/5000: (100.00%)\n",
      "Time taken: 1207.73 seconds\n",
      "Recall@1: 0.2002\n",
      "Recall@3: 0.3766\n",
      "Recall@10: 0.5068\n",
      "Recall@100: 0.6439\n",
      "\n",
      "MRR@1: 0.7780\n",
      "MRR@3: 0.8409\n",
      "MRR@10: 0.8505\n",
      "MRR@100: 0.8517\n"
     ]
    },
    {
     "data": {
      "image/png": "[encoded data removed]",
      "text/plain": [
       "<Figure size 1500x1000 with 4 Axes>"
      ]
     },
     "metadata": {},
     "output_type": "display_data"
    }
   ],
   "source": [
    "print_plot_results(df_ques_url_test)"
   ]
  }
 ],
 "metadata": {
  "kernelspec": {
   "display_name": "nlp_env",
   "language": "python",
   "name": "python3"
  },
  "language_info": {
   "codemirror_mode": {
    "name": "ipython",
    "version": 3
   },
   "file_extension": ".py",
   "mimetype": "text/x-python",
   "name": "python",
   "nbconvert_exporter": "python",
   "pygments_lexer": "ipython3",
   "version": "3.10.15"
  },
  "papermill": {
   "default_parameters": {},
   "duration": 6019.92526,
   "end_time": "2024-10-31T14:31:02.226799",
   "environment_variables": {},
   "exception": null,
   "input_path": "02_mpnet_eval.ipynb",
   "output_path": "02_mpnet_eval_out.ipynb",
   "parameters": {},
   "start_time": "2024-10-31T12:50:42.301539",
   "version": "2.6.0"
  }
 },
 "nbformat": 4,
 "nbformat_minor": 5
}
