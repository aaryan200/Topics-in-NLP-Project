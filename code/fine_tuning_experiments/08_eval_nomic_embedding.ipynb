{
 "cells": [
  {
   "cell_type": "markdown",
   "metadata": {},
   "source": [
    "## Evaluate [nomic](https://huggingface.co/nomic-ai/nomic-embed-text-v1) model on the dataset"
   ]
  },
  {
   "cell_type": "code",
   "execution_count": 1,
   "metadata": {},
   "outputs": [
    {
     "name": "stderr",
     "output_type": "stream",
     "text": [
      "/export/home/co21btech11001/.conda/envs/nlp_env/lib/python3.10/site-packages/sentence_transformers/cross_encoder/CrossEncoder.py:13: TqdmExperimentalWarning: Using `tqdm.autonotebook.tqdm` in notebook mode. Use `tqdm.tqdm` instead to force console mode (e.g. in jupyter console)\n",
      "  from tqdm.autonotebook import tqdm, trange\n"
     ]
    }
   ],
   "source": [
    "from sentence_transformers import SentenceTransformer\n",
    "from transformers import AutoTokenizer\n",
    "import matplotlib.pyplot as plt\n",
    "import pandas as pd\n",
    "# from tqdm.auto import tqdm\n",
    "import numpy as np\n",
    "from scipy import spatial\n",
    "from IPython.display import clear_output"
   ]
  },
  {
   "cell_type": "markdown",
   "metadata": {},
   "source": [
    "## Load dataset"
   ]
  },
  {
   "cell_type": "code",
   "execution_count": 2,
   "metadata": {},
   "outputs": [
    {
     "name": "stdout",
     "output_type": "stream",
     "text": [
      "(36925, 2)\n"
     ]
    },
    {
     "data": {
      "text/html": [
       "<div>\n",
       "<style scoped>\n",
       "    .dataframe tbody tr th:only-of-type {\n",
       "        vertical-align: middle;\n",
       "    }\n",
       "\n",
       "    .dataframe tbody tr th {\n",
       "        vertical-align: top;\n",
       "    }\n",
       "\n",
       "    .dataframe thead th {\n",
       "        text-align: right;\n",
       "    }\n",
       "</style>\n",
       "<table border=\"1\" class=\"dataframe\">\n",
       "  <thead>\n",
       "    <tr style=\"text-align: right;\">\n",
       "      <th></th>\n",
       "      <th>question</th>\n",
       "      <th>relevant_docs_urls</th>\n",
       "    </tr>\n",
       "  </thead>\n",
       "  <tbody>\n",
       "    <tr>\n",
       "      <th>0</th>\n",
       "      <td>What is (are) keratoderma with woolly hair ?</td>\n",
       "      <td>[https://ghr.nlm.nih.gov/condition/keratoderma...</td>\n",
       "    </tr>\n",
       "    <tr>\n",
       "      <th>1</th>\n",
       "      <td>How many people are affected by keratoderma wi...</td>\n",
       "      <td>[https://ghr.nlm.nih.gov/condition/keratoderma...</td>\n",
       "    </tr>\n",
       "    <tr>\n",
       "      <th>2</th>\n",
       "      <td>What are the genetic changes related to kerato...</td>\n",
       "      <td>[https://ghr.nlm.nih.gov/condition/keratoderma...</td>\n",
       "    </tr>\n",
       "  </tbody>\n",
       "</table>\n",
       "</div>"
      ],
      "text/plain": [
       "                                            question  \\\n",
       "0       What is (are) keratoderma with woolly hair ?   \n",
       "1  How many people are affected by keratoderma wi...   \n",
       "2  What are the genetic changes related to kerato...   \n",
       "\n",
       "                                  relevant_docs_urls  \n",
       "0  [https://ghr.nlm.nih.gov/condition/keratoderma...  \n",
       "1  [https://ghr.nlm.nih.gov/condition/keratoderma...  \n",
       "2  [https://ghr.nlm.nih.gov/condition/keratoderma...  "
      ]
     },
     "execution_count": 2,
     "metadata": {},
     "output_type": "execute_result"
    }
   ],
   "source": [
    "df_ques_url = pd.read_pickle('data/questions_relevant_urls.pkl')\n",
    "df_ques_url = pd.DataFrame(df_ques_url)\n",
    "print(df_ques_url.shape)\n",
    "df_ques_url.head(3)"
   ]
  },
  {
   "cell_type": "code",
   "execution_count": 3,
   "metadata": {},
   "outputs": [
    {
     "name": "stdout",
     "output_type": "stream",
     "text": [
      "(7873, 3)\n"
     ]
    },
    {
     "data": {
      "text/html": [
       "<div>\n",
       "<style scoped>\n",
       "    .dataframe tbody tr th:only-of-type {\n",
       "        vertical-align: middle;\n",
       "    }\n",
       "\n",
       "    .dataframe tbody tr th {\n",
       "        vertical-align: top;\n",
       "    }\n",
       "\n",
       "    .dataframe thead th {\n",
       "        text-align: right;\n",
       "    }\n",
       "</style>\n",
       "<table border=\"1\" class=\"dataframe\">\n",
       "  <thead>\n",
       "    <tr style=\"text-align: right;\">\n",
       "      <th></th>\n",
       "      <th>document_url</th>\n",
       "      <th>document_content</th>\n",
       "      <th>doc_embedding</th>\n",
       "    </tr>\n",
       "  </thead>\n",
       "  <tbody>\n",
       "    <tr>\n",
       "      <th>0</th>\n",
       "      <td>https://ghr.nlm.nih.gov/condition/keratoderma-...</td>\n",
       "      <td>Keratoderma with woolly hair: MedlinePlus Gene...</td>\n",
       "      <td>[0.027755575, 0.022915872, 0.011107209, -0.010...</td>\n",
       "    </tr>\n",
       "    <tr>\n",
       "      <th>1</th>\n",
       "      <td>https://ghr.nlm.nih.gov/condition/kniest-dyspl...</td>\n",
       "      <td>Kniest dysplasia: MedlinePlus Genetics\\nSkip n...</td>\n",
       "      <td>[0.0025378147, 0.047727477, 0.01681844, -0.035...</td>\n",
       "    </tr>\n",
       "  </tbody>\n",
       "</table>\n",
       "</div>"
      ],
      "text/plain": [
       "                                        document_url  \\\n",
       "0  https://ghr.nlm.nih.gov/condition/keratoderma-...   \n",
       "1  https://ghr.nlm.nih.gov/condition/kniest-dyspl...   \n",
       "\n",
       "                                    document_content  \\\n",
       "0  Keratoderma with woolly hair: MedlinePlus Gene...   \n",
       "1  Kniest dysplasia: MedlinePlus Genetics\\nSkip n...   \n",
       "\n",
       "                                       doc_embedding  \n",
       "0  [0.027755575, 0.022915872, 0.011107209, -0.010...  \n",
       "1  [0.0025378147, 0.047727477, 0.01681844, -0.035...  "
      ]
     },
     "execution_count": 3,
     "metadata": {},
     "output_type": "execute_result"
    }
   ],
   "source": [
    "df_kb = pd.read_pickle('data/docs_url_content_ems_pre_trained.pkl')\n",
    "df_kb = pd.DataFrame(df_kb)\n",
    "print(df_kb.shape)\n",
    "df_kb.head(2)"
   ]
  },
  {
   "cell_type": "markdown",
   "metadata": {},
   "source": [
    "## Load model"
   ]
  },
  {
   "cell_type": "code",
   "execution_count": 4,
   "metadata": {},
   "outputs": [
    {
     "name": "stderr",
     "output_type": "stream",
     "text": [
      "/export/home/co21btech11001/.cache/huggingface/modules/transformers_modules/nomic-ai/nomic-bert-2048/c1b1fd7a715b8eb2e232d34593154ac782c98ac9/modeling_hf_nomic_bert.py:98: FutureWarning: You are using `torch.load` with `weights_only=False` (the current default value), which uses the default pickle module implicitly. It is possible to construct malicious pickle data which will execute arbitrary code during unpickling (See https://github.com/pytorch/pytorch/blob/main/SECURITY.md#untrusted-models for more details). In a future release, the default value for `weights_only` will be flipped to `True`. This limits the functions that could be executed during unpickling. Arbitrary objects will no longer be allowed to be loaded via this mode unless they are explicitly allowlisted by the user via `torch.serialization.add_safe_globals`. We recommend you start setting `weights_only=True` for any use case where you don't have full control of the loaded file. Please open an issue on GitHub for any issues related to this experimental feature.\n",
      "  state_dict = loader(resolved_archive_file)\n",
      "<All keys matched successfully>\n"
     ]
    }
   ],
   "source": [
    "model_name = \"nomic-ai/nomic-embed-text-v1\"\n",
    "model = SentenceTransformer(model_name, trust_remote_code=True)\n",
    "model = model.to('cuda')"
   ]
  },
  {
   "cell_type": "markdown",
   "metadata": {},
   "source": [
    "## Evaluate"
   ]
  },
  {
   "cell_type": "code",
   "execution_count": 5,
   "metadata": {},
   "outputs": [],
   "source": [
    "def cos_sim(a, b):\n",
    "    return 1 - spatial.distance.cosine(a, b)\n",
    "\n",
    "def retrieve(ques, df_kb, model):\n",
    "    question_embedding = model.encode(ques, convert_to_tensor=True).cpu().numpy()\n",
    "    # Copy the 'document_url' and 'doc_embedding' columns to a new dataframe\n",
    "    df_kb_copy = df_kb[['document_url', 'doc_embedding']].copy()\n",
    "    # Calculate the cosine similarity between the question embedding and all document embeddings\n",
    "    df_kb_copy['cosine_similarity'] = df_kb_copy['doc_embedding'].apply(\n",
    "        lambda x: cos_sim(question_embedding, x))\n",
    "    # Sort the dataframe by the cosine similarity in descending order\n",
    "    df_kb_copy = df_kb_copy.sort_values(by='cosine_similarity', ascending=False)\n",
    "    ret_urls = df_kb_copy['document_url'].values\n",
    "    return ret_urls\n",
    "\n",
    "def recall_at_k(top_retrieved_urls, relevant_urls):\n",
    "    common = set(top_retrieved_urls).intersection(set(relevant_urls))\n",
    "    return len(common) / len(relevant_urls)\n",
    "\n",
    "def mrr_at_k(top_retrieved_urls, relevant_urls):\n",
    "    res = []\n",
    "    for i, url in enumerate(top_retrieved_urls):\n",
    "        if url in relevant_urls:\n",
    "            res.append(1/(i+1))\n",
    "    if len(res) == 0:\n",
    "        return 0\n",
    "    return np.mean(res)"
   ]
  },
  {
   "cell_type": "code",
   "execution_count": 6,
   "metadata": {},
   "outputs": [],
   "source": [
    "recall_1_li = []; mrr_1_li = []\n",
    "recall_3_li = []; mrr_3_li = []\n",
    "recall_10_li = []; mrr_10_li = []\n",
    "recall_100_li = []; mrr_100_li = []"
   ]
  },
  {
   "cell_type": "code",
   "execution_count": 7,
   "metadata": {},
   "outputs": [],
   "source": [
    "f = open('logs/eval_pre_trained.txt', 'w')"
   ]
  },
  {
   "cell_type": "code",
   "execution_count": 8,
   "metadata": {},
   "outputs": [
    {
     "name": "stdout",
     "output_type": "stream",
     "text": [
      "Completed: 36925/36925: (100.00%)\n",
      "Time taken: 2923.94 seconds\n"
     ]
    }
   ],
   "source": [
    "import time\n",
    "\n",
    "start_time = time.time()\n",
    "\n",
    "complete = 0\n",
    "total = len(df_ques_url)\n",
    "for _, row in df_ques_url.iterrows():\n",
    "    ques = row['question']\n",
    "    relevant_urls = row['relevant_docs_urls']\n",
    "    try:\n",
    "        retrieved_urls = retrieve(ques, df_kb, model)\n",
    "    except Exception as e:\n",
    "        f.write(f\"row: {_}, ques: {ques}, error: {e}\\n\")\n",
    "        f.flush()\n",
    "        continue\n",
    "    temp_recall_1 = recall_at_k(retrieved_urls[:1], relevant_urls)\n",
    "    temp_mrr_1 = mrr_at_k(retrieved_urls[:1], relevant_urls)\n",
    "    temp_recall_3 = recall_at_k(retrieved_urls[:3], relevant_urls)\n",
    "    temp_mrr_3 = mrr_at_k(retrieved_urls[:3], relevant_urls)\n",
    "    temp_recall_10 = recall_at_k(retrieved_urls[:10], relevant_urls)\n",
    "    temp_mrr_10 = mrr_at_k(retrieved_urls[:10], relevant_urls)\n",
    "    temp_recall_100 = recall_at_k(retrieved_urls[:100], relevant_urls)\n",
    "    temp_mrr_100 = mrr_at_k(retrieved_urls[:100], relevant_urls)\n",
    "\n",
    "    recall_1_li.append(temp_recall_1); mrr_1_li.append(temp_mrr_1)\n",
    "    recall_3_li.append(temp_recall_3); mrr_3_li.append(temp_mrr_3)\n",
    "    recall_10_li.append(temp_recall_10); mrr_10_li.append(temp_mrr_10)\n",
    "    recall_100_li.append(temp_recall_100); mrr_100_li.append(temp_mrr_100)\n",
    "\n",
    "    complete += 1\n",
    "    percent_comp = (complete/total)*100\n",
    "    clear_output(wait=True)\n",
    "    print(f\"Completed: {complete}/{total}: ({percent_comp:.2f}%)\")\n",
    "\n",
    "end_time = time.time()\n",
    "time_taken = end_time - start_time\n",
    "print(f\"Time taken: {time_taken:.2f} seconds\")"
   ]
  },
  {
   "cell_type": "code",
   "execution_count": 9,
   "metadata": {},
   "outputs": [],
   "source": [
    "f.close()"
   ]
  },
  {
   "cell_type": "code",
   "execution_count": 10,
   "metadata": {},
   "outputs": [
    {
     "name": "stdout",
     "output_type": "stream",
     "text": [
      "36925 36925\n"
     ]
    }
   ],
   "source": [
    "print(len(recall_1_li), len(mrr_1_li))"
   ]
  },
  {
   "cell_type": "code",
   "execution_count": 11,
   "metadata": {},
   "outputs": [
    {
     "name": "stdout",
     "output_type": "stream",
     "text": [
      "Recall@1: 0.8860\n",
      "Recall@3: 0.9776\n",
      "Recall@10: 0.9919\n",
      "Recall@100: 0.9969\n",
      "\n",
      "MRR@1: 0.8902\n",
      "MRR@3: 0.9298\n",
      "MRR@10: 0.9318\n",
      "MRR@100: 0.9318\n"
     ]
    }
   ],
   "source": [
    "recall_1_score = np.mean(recall_1_li); mrr_1_score = np.mean(mrr_1_li)\n",
    "recall_3_score = np.mean(recall_3_li); mrr_3_score = np.mean(mrr_3_li)\n",
    "recall_10_score = np.mean(recall_10_li); mrr_10_score = np.mean(mrr_10_li)\n",
    "recall_100_score = np.mean(recall_100_li); mrr_100_score = np.mean(mrr_100_li)\n",
    "\n",
    "print(f\"Recall@1: {recall_1_score:.4f}\")\n",
    "print(f'Recall@3: {recall_3_score:.4f}')\n",
    "print(f'Recall@10: {recall_10_score:.4f}')\n",
    "print(f'Recall@100: {recall_100_score:.4f}')\n",
    "print()\n",
    "print(f'MRR@1: {mrr_1_score:.4f}')\n",
    "print(f'MRR@3: {mrr_3_score:.4f}')\n",
    "print(f'MRR@10: {mrr_10_score:.4f}')\n",
    "print(f'MRR@100: {mrr_100_score:.4f}')"
   ]
  },
  {
   "cell_type": "code",
   "execution_count": 13,
   "metadata": {},
   "outputs": [
    {
     "data": {
      "image/png": "[encoded data removed]",
      "text/plain": [
       "<Figure size 1500x1000 with 4 Axes>"
      ]
     },
     "metadata": {},
     "output_type": "display_data"
    }
   ],
   "source": [
    "# Plot recall scores on histograms\n",
    "fig, ax = plt.subplots(2, 2, figsize=(15, 10))\n",
    "ax[0, 0].hist(recall_1_li, bins=10, color='r', alpha=0.7)\n",
    "ax[0, 0].set_title('Recall@1')\n",
    "ax[0, 1].hist(recall_3_li, bins=10, color='g', alpha=0.7)\n",
    "ax[0, 1].set_title('Recall@3')\n",
    "ax[1, 0].hist(recall_10_li, bins=10, color='b', alpha=0.7)\n",
    "ax[1, 0].set_title('Recall@10')\n",
    "ax[1, 1].hist(recall_100_li, bins=10, color='y', alpha=0.7)\n",
    "ax[1, 1].set_title('Recall@100')\n",
    "plt.show()"
   ]
  },
  {
   "cell_type": "code",
   "execution_count": 15,
   "metadata": {},
   "outputs": [
    {
     "name": "stdout",
     "output_type": "stream",
     "text": [
      "[   65    69    80 ... 36865 36922 36924] (4361,)\n"
     ]
    }
   ],
   "source": [
    "# Find the indices for which recall@1 is less than 0.6\n",
    "recall_1_li = np.array(recall_1_li)\n",
    "indices = np.where(recall_1_li < 0.6)[0]\n",
    "print(indices, indices.shape)"
   ]
  },
  {
   "cell_type": "code",
   "execution_count": 16,
   "metadata": {},
   "outputs": [
    {
     "name": "stdout",
     "output_type": "stream",
     "text": [
      "Question: What is (are) Parkinson disease ?\n",
      "Relevant URLs:\n",
      "https://www.nlm.nih.gov/medlineplus/ency/article/000755.htm\n",
      "https://ghr.nlm.nih.gov/condition/parkinson-disease\n"
     ]
    }
   ],
   "source": [
    "# Print a question and the relevant urls for which recall@1 is less than 0.6\n",
    "idx = indices[0]\n",
    "ques = df_ques_url.iloc[idx]['question']\n",
    "relevant_urls = df_ques_url.iloc[idx]['relevant_docs_urls']\n",
    "print(f\"Question: {ques}\")\n",
    "print(f\"Relevant URLs:\")\n",
    "for url in relevant_urls:\n",
    "    print(url)"
   ]
  },
  {
   "cell_type": "code",
   "execution_count": 17,
   "metadata": {},
   "outputs": [
    {
     "name": "stdout",
     "output_type": "stream",
     "text": [
      "Retrieved URLs:\n",
      "https://www.nlm.nih.gov/medlineplus/parkinsonsdisease.html\n",
      "https://ghr.nlm.nih.gov/condition/parkinson-disease\n",
      "https://www.nlm.nih.gov/medlineplus/ency/article/000755.htm\n",
      "https://www.nlm.nih.gov/medlineplus/ency/article/000757.htm\n",
      "https://www.nlm.nih.gov/medlineplus/ency/patientinstructions/000394.htm\n"
     ]
    }
   ],
   "source": [
    "retrieved_urls = retrieve(ques, df_kb, model)\n",
    "print(f\"Retrieved URLs:\")\n",
    "for url in retrieved_urls[:5]:\n",
    "    print(url)"
   ]
  },
  {
   "cell_type": "code",
   "execution_count": null,
   "metadata": {},
   "outputs": [],
   "source": []
  }
 ],
 "metadata": {
  "kernelspec": {
   "display_name": "nlp_env",
   "language": "python",
   "name": "python3"
  },
  "language_info": {
   "codemirror_mode": {
    "name": "ipython",
    "version": 3
   },
   "file_extension": ".py",
   "mimetype": "text/x-python",
   "name": "python",
   "nbconvert_exporter": "python",
   "pygments_lexer": "ipython3",
   "version": "3.10.15"
  }
 },
 "nbformat": 4,
 "nbformat_minor": 2
}
