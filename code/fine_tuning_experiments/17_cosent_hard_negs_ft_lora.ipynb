{
 "cells": [
  {
   "cell_type": "markdown",
   "metadata": {},
   "source": [
    "## Finetune [paraphrase-mpnet-base-v2](https://huggingface.co/sentence-transformers/paraphrase-mpnet-base-v2) using LoRA\n",
    "In this notebook, **Contrastive Learning** is used to finetune the `paraphrase-mpnet-base-v2` model. Specifically, for every query, one relevant chunk is used as a positive example and the irrelevant chunk that appeared on the top of retrieval is used as a negative example.<br>\n",
    "Loss function used: [`CoSENTLoss`](https://www.sbert.net/docs/package_reference/sentence_transformer/losses.html#cosentloss)<br><br>\n",
    "Here is the expression for the loss function:\n",
    "$$\n",
    "\\text{loss} = \\text{logsum}(1 + \\exp(s(k, l) - s(i, j)) + ...)\n",
    "$$\n",
    "where $(i,j)$ and $(k,l)$ are any of the input pairs in the batch such that the expected similarity of $(i,j)$ is greater than $(k,l)$. The summation is over all possible pairs of input pairs in the batch that match this condition."
   ]
  },
  {
   "cell_type": "code",
   "execution_count": 3,
   "metadata": {},
   "outputs": [
    {
     "name": "stderr",
     "output_type": "stream",
     "text": [
      "/export/home/co21btech11001/.conda/envs/nlp_new/lib/python3.10/site-packages/tqdm/auto.py:21: TqdmWarning: IProgress not found. Please update jupyter and ipywidgets. See https://ipywidgets.readthedocs.io/en/stable/user_install.html\n",
      "  from .autonotebook import tqdm as notebook_tqdm\n"
     ]
    }
   ],
   "source": [
    "from transformers import AutoModel, AutoTokenizer, TrainingArguments, Trainer\n",
    "from peft import LoraConfig, get_peft_model\n",
    "import torch\n",
    "import numpy as np\n",
    "import pandas as pd\n",
    "from tqdm import tqdm\n",
    "torch.manual_seed(0)\n",
    "np.random.seed(0)"
   ]
  },
  {
   "cell_type": "code",
   "execution_count": 4,
   "metadata": {},
   "outputs": [],
   "source": [
    "device = torch.device(\"cuda\" if torch.cuda.is_available() else \"cpu\")"
   ]
  },
  {
   "cell_type": "markdown",
   "metadata": {},
   "source": [
    "## Load model"
   ]
  },
  {
   "cell_type": "code",
   "execution_count": 5,
   "metadata": {},
   "outputs": [],
   "source": [
    "model_name = \"sentence-transformers/paraphrase-mpnet-base-v2\"\n",
    "tokenizer = AutoTokenizer.from_pretrained(model_name)\n",
    "model = AutoModel.from_pretrained(model_name)"
   ]
  },
  {
   "cell_type": "code",
   "execution_count": 6,
   "metadata": {},
   "outputs": [
    {
     "data": {
      "text/plain": [
       "MPNetModel(\n",
       "  (embeddings): MPNetEmbeddings(\n",
       "    (word_embeddings): Embedding(30527, 768, padding_idx=1)\n",
       "    (position_embeddings): Embedding(514, 768, padding_idx=1)\n",
       "    (LayerNorm): LayerNorm((768,), eps=1e-05, elementwise_affine=True)\n",
       "    (dropout): Dropout(p=0.1, inplace=False)\n",
       "  )\n",
       "  (encoder): MPNetEncoder(\n",
       "    (layer): ModuleList(\n",
       "      (0-11): 12 x MPNetLayer(\n",
       "        (attention): MPNetAttention(\n",
       "          (attn): MPNetSelfAttention(\n",
       "            (q): Linear(in_features=768, out_features=768, bias=True)\n",
       "            (k): Linear(in_features=768, out_features=768, bias=True)\n",
       "            (v): Linear(in_features=768, out_features=768, bias=True)\n",
       "            (o): Linear(in_features=768, out_features=768, bias=True)\n",
       "            (dropout): Dropout(p=0.1, inplace=False)\n",
       "          )\n",
       "          (LayerNorm): LayerNorm((768,), eps=1e-05, elementwise_affine=True)\n",
       "          (dropout): Dropout(p=0.1, inplace=False)\n",
       "        )\n",
       "        (intermediate): MPNetIntermediate(\n",
       "          (dense): Linear(in_features=768, out_features=3072, bias=True)\n",
       "          (intermediate_act_fn): GELUActivation()\n",
       "        )\n",
       "        (output): MPNetOutput(\n",
       "          (dense): Linear(in_features=3072, out_features=768, bias=True)\n",
       "          (LayerNorm): LayerNorm((768,), eps=1e-05, elementwise_affine=True)\n",
       "          (dropout): Dropout(p=0.1, inplace=False)\n",
       "        )\n",
       "      )\n",
       "    )\n",
       "    (relative_attention_bias): Embedding(32, 12)\n",
       "  )\n",
       "  (pooler): MPNetPooler(\n",
       "    (dense): Linear(in_features=768, out_features=768, bias=True)\n",
       "    (activation): Tanh()\n",
       "  )\n",
       ")"
      ]
     },
     "execution_count": 6,
     "metadata": {},
     "output_type": "execute_result"
    }
   ],
   "source": [
    "model"
   ]
  },
  {
   "cell_type": "markdown",
   "metadata": {},
   "source": [
    "## Configure LoRA using [peft](https://huggingface.co/docs/peft/en/index) library"
   ]
  },
  {
   "cell_type": "code",
   "execution_count": null,
   "metadata": {},
   "outputs": [
    {
     "name": "stdout",
     "output_type": "stream",
     "text": [
      "trainable params: 589,824 || all params: 110,076,288 || trainable%: 0.5358\n"
     ]
    }
   ],
   "source": [
    "config = LoraConfig(\n",
    "    r = 8,\n",
    "    lora_alpha=16,\n",
    "    lora_dropout=0.05,\n",
    "    task_type=\"FEATURE_EXTRACTION\",\n",
    "    target_modules=[\"q\", \"v\", \"k\", \"o\"]\n",
    ")\n",
    "\n",
    "model = get_peft_model(model, config)\n",
    "model.print_trainable_parameters()"
   ]
  },
  {
   "cell_type": "code",
   "execution_count": 8,
   "metadata": {},
   "outputs": [],
   "source": [
    "batch_size = 16\n",
    "\n",
    "args = TrainingArguments(\n",
    "    output_dir=\"train_output\",\n",
    "    eval_strategy = \"epoch\",\n",
    "    save_strategy=\"epoch\",\n",
    "    learning_rate=5e-5,\n",
    "    per_device_train_batch_size=batch_size,\n",
    "    per_device_eval_batch_size=batch_size,\n",
    "    fp16=True,\n",
    "    num_train_epochs=8,\n",
    "    logging_dir=\"train_logs\",\n",
    "    logging_steps=10,\n",
    "    load_best_model_at_end=True,\n",
    ")"
   ]
  },
  {
   "cell_type": "markdown",
   "metadata": {},
   "source": [
    "## Load data"
   ]
  },
  {
   "cell_type": "code",
   "execution_count": 9,
   "metadata": {},
   "outputs": [
    {
     "name": "stdout",
     "output_type": "stream",
     "text": [
      "(20000, 4)\n"
     ]
    },
    {
     "data": {
      "text/html": [
       "<div>\n",
       "<style scoped>\n",
       "    .dataframe tbody tr th:only-of-type {\n",
       "        vertical-align: middle;\n",
       "    }\n",
       "\n",
       "    .dataframe tbody tr th {\n",
       "        vertical-align: top;\n",
       "    }\n",
       "\n",
       "    .dataframe thead th {\n",
       "        text-align: right;\n",
       "    }\n",
       "</style>\n",
       "<table border=\"1\" class=\"dataframe\">\n",
       "  <thead>\n",
       "    <tr style=\"text-align: right;\">\n",
       "      <th></th>\n",
       "      <th>question</th>\n",
       "      <th>relevant_docs_urls</th>\n",
       "      <th>num_rel_chunks</th>\n",
       "      <th>hard_negatives_li</th>\n",
       "    </tr>\n",
       "  </thead>\n",
       "  <tbody>\n",
       "    <tr>\n",
       "      <th>0</th>\n",
       "      <td>What is (are) keratoderma with woolly hair ?</td>\n",
       "      <td>[https://ghr.nlm.nih.gov/condition/keratoderma...</td>\n",
       "      <td>5</td>\n",
       "      <td>[https://www.nlm.nih.gov/medlineplus/ency/arti...</td>\n",
       "    </tr>\n",
       "    <tr>\n",
       "      <th>1</th>\n",
       "      <td>How many people are affected by keratoderma wi...</td>\n",
       "      <td>[https://ghr.nlm.nih.gov/condition/keratoderma...</td>\n",
       "      <td>5</td>\n",
       "      <td>[https://www.nlm.nih.gov/medlineplus/ency/arti...</td>\n",
       "    </tr>\n",
       "    <tr>\n",
       "      <th>2</th>\n",
       "      <td>What are the genetic changes related to kerato...</td>\n",
       "      <td>[https://ghr.nlm.nih.gov/condition/keratoderma...</td>\n",
       "      <td>5</td>\n",
       "      <td>[https://ghr.nlm.nih.gov/condition/monilethrix...</td>\n",
       "    </tr>\n",
       "    <tr>\n",
       "      <th>3</th>\n",
       "      <td>Is keratoderma with woolly hair inherited ?</td>\n",
       "      <td>[https://ghr.nlm.nih.gov/condition/keratoderma...</td>\n",
       "      <td>5</td>\n",
       "      <td>[https://www.nlm.nih.gov/medlineplus/ency/arti...</td>\n",
       "    </tr>\n",
       "    <tr>\n",
       "      <th>4</th>\n",
       "      <td>What are the treatments for keratoderma with w...</td>\n",
       "      <td>[https://ghr.nlm.nih.gov/condition/keratoderma...</td>\n",
       "      <td>5</td>\n",
       "      <td>[https://www.nlm.nih.gov/medlineplus/ency/arti...</td>\n",
       "    </tr>\n",
       "  </tbody>\n",
       "</table>\n",
       "</div>"
      ],
      "text/plain": [
       "                                            question  \\\n",
       "0       What is (are) keratoderma with woolly hair ?   \n",
       "1  How many people are affected by keratoderma wi...   \n",
       "2  What are the genetic changes related to kerato...   \n",
       "3        Is keratoderma with woolly hair inherited ?   \n",
       "4  What are the treatments for keratoderma with w...   \n",
       "\n",
       "                                  relevant_docs_urls  num_rel_chunks  \\\n",
       "0  [https://ghr.nlm.nih.gov/condition/keratoderma...               5   \n",
       "1  [https://ghr.nlm.nih.gov/condition/keratoderma...               5   \n",
       "2  [https://ghr.nlm.nih.gov/condition/keratoderma...               5   \n",
       "3  [https://ghr.nlm.nih.gov/condition/keratoderma...               5   \n",
       "4  [https://ghr.nlm.nih.gov/condition/keratoderma...               5   \n",
       "\n",
       "                                   hard_negatives_li  \n",
       "0  [https://www.nlm.nih.gov/medlineplus/ency/arti...  \n",
       "1  [https://www.nlm.nih.gov/medlineplus/ency/arti...  \n",
       "2  [https://ghr.nlm.nih.gov/condition/monilethrix...  \n",
       "3  [https://www.nlm.nih.gov/medlineplus/ency/arti...  \n",
       "4  [https://www.nlm.nih.gov/medlineplus/ency/arti...  "
      ]
     },
     "execution_count": 9,
     "metadata": {},
     "output_type": "execute_result"
    }
   ],
   "source": [
    "df_ques_url_train = pd.read_pickle('../../data/ques_rel_url_hard_negs_train.pkl')\n",
    "print(df_ques_url_train.shape)\n",
    "df_ques_url_train.head()"
   ]
  },
  {
   "cell_type": "code",
   "execution_count": 10,
   "metadata": {},
   "outputs": [
    {
     "data": {
      "text/plain": [
       "hard_negatives_li\n",
       "33541    8028\n",
       "33542    4436\n",
       "33540    3735\n",
       "33539    1618\n",
       "33543     631\n",
       "33538     546\n",
       "33537     200\n",
       "33536     149\n",
       "33531     130\n",
       "33535     115\n",
       "33533     105\n",
       "33530      90\n",
       "33534      85\n",
       "33532      59\n",
       "33529      45\n",
       "33528      13\n",
       "33524       4\n",
       "33514       2\n",
       "33525       2\n",
       "33526       2\n",
       "33518       2\n",
       "33521       1\n",
       "33523       1\n",
       "33516       1\n",
       "Name: count, dtype: int64"
      ]
     },
     "execution_count": 10,
     "metadata": {},
     "output_type": "execute_result"
    }
   ],
   "source": [
    "# Check if length of 'hard_negatives_li' column is not zero\n",
    "df_ques_url_train['hard_negatives_li'].apply(lambda x: len(x)).value_counts()"
   ]
  },
  {
   "cell_type": "code",
   "execution_count": 11,
   "metadata": {},
   "outputs": [
    {
     "name": "stdout",
     "output_type": "stream",
     "text": [
      "(33545, 3)\n"
     ]
    },
    {
     "data": {
      "text/html": [
       "<div>\n",
       "<style scoped>\n",
       "    .dataframe tbody tr th:only-of-type {\n",
       "        vertical-align: middle;\n",
       "    }\n",
       "\n",
       "    .dataframe tbody tr th {\n",
       "        vertical-align: top;\n",
       "    }\n",
       "\n",
       "    .dataframe thead th {\n",
       "        text-align: right;\n",
       "    }\n",
       "</style>\n",
       "<table border=\"1\" class=\"dataframe\">\n",
       "  <thead>\n",
       "    <tr style=\"text-align: right;\">\n",
       "      <th></th>\n",
       "      <th>doc_url</th>\n",
       "      <th>chunk_content</th>\n",
       "      <th>embedding</th>\n",
       "    </tr>\n",
       "  </thead>\n",
       "  <tbody>\n",
       "    <tr>\n",
       "      <th>0</th>\n",
       "      <td>https://ghr.nlm.nih.gov/condition/keratoderma-...</td>\n",
       "      <td>keratoderma with woolly hair : medlineplus gen...</td>\n",
       "      <td>[-0.0039987266, 0.08037464, 0.049785912, -0.12...</td>\n",
       "    </tr>\n",
       "    <tr>\n",
       "      <th>1</th>\n",
       "      <td>https://ghr.nlm.nih.gov/condition/keratoderma-...</td>\n",
       "      <td>##ma, woolly hair, and a form of cardiomyopath...</td>\n",
       "      <td>[-0.09539697, -0.09132044, 0.0027289127, 0.005...</td>\n",
       "    </tr>\n",
       "    <tr>\n",
       "      <th>2</th>\n",
       "      <td>https://ghr.nlm.nih.gov/condition/keratoderma-...</td>\n",
       "      <td>##pathy in people with this group of condition...</td>\n",
       "      <td>[0.026278932, 0.060939535, 0.031438153, -0.044...</td>\n",
       "    </tr>\n",
       "  </tbody>\n",
       "</table>\n",
       "</div>"
      ],
      "text/plain": [
       "                                             doc_url  \\\n",
       "0  https://ghr.nlm.nih.gov/condition/keratoderma-...   \n",
       "1  https://ghr.nlm.nih.gov/condition/keratoderma-...   \n",
       "2  https://ghr.nlm.nih.gov/condition/keratoderma-...   \n",
       "\n",
       "                                       chunk_content  \\\n",
       "0  keratoderma with woolly hair : medlineplus gen...   \n",
       "1  ##ma, woolly hair, and a form of cardiomyopath...   \n",
       "2  ##pathy in people with this group of condition...   \n",
       "\n",
       "                                           embedding  \n",
       "0  [-0.0039987266, 0.08037464, 0.049785912, -0.12...  \n",
       "1  [-0.09539697, -0.09132044, 0.0027289127, 0.005...  \n",
       "2  [0.026278932, 0.060939535, 0.031438153, -0.044...  "
      ]
     },
     "execution_count": 11,
     "metadata": {},
     "output_type": "execute_result"
    }
   ],
   "source": [
    "df_kb = pd.read_pickle('../../data/kb_chunks_emb.pkl')\n",
    "print(df_kb.shape)\n",
    "df_kb.head(3)"
   ]
  },
  {
   "cell_type": "code",
   "execution_count": 12,
   "metadata": {},
   "outputs": [],
   "source": [
    "def create_pairs(df_ques_url, df_kb, train_size):\n",
    "    \"\"\"\n",
    "    For every question, choose a random relevant document and a random chunk from that document.\n",
    "    \"\"\"\n",
    "    pos_pairs = []\n",
    "    neg_pairs = []\n",
    "\n",
    "    for i in range(train_size):\n",
    "        query = df_ques_url['question'][i]\n",
    "        rel_docs = df_ques_url['relevant_docs_urls'][i]\n",
    "        # Choose a random relevant doc\n",
    "        rel_doc = np.random.choice(rel_docs)\n",
    "        # Choose the first negative doc\n",
    "        neg_doc = df_ques_url['hard_negatives_li'][i][0]\n",
    "        # Choose a chunk from the relevant doc\n",
    "        rel_doc_chunk = df_kb[df_kb['doc_url'] == rel_doc]['chunk_content'].values[0]\n",
    "        # Choose a chunk from the negative doc\n",
    "        neg_doc_chunk = df_kb[df_kb['doc_url'] == neg_doc]['chunk_content'].values[0]\n",
    "        pos_pairs.append((query, rel_doc_chunk))\n",
    "        neg_pairs.append((query, neg_doc_chunk))\n",
    "\n",
    "    return pos_pairs, neg_pairs\n",
    "\n",
    "TRAIN_SIZE = 12_000\n",
    "train_pos_pairs, train_neg_pairs = create_pairs(df_ques_url_train, df_kb, TRAIN_SIZE)"
   ]
  },
  {
   "cell_type": "code",
   "execution_count": 13,
   "metadata": {},
   "outputs": [],
   "source": [
    "from torch.utils.data import Dataset\n",
    "import torch.nn.functional as F\n",
    "\n",
    "class BioDataset(Dataset):\n",
    "    def __init__(self, pos_pairs, neg_pairs, tokenizer):\n",
    "        self.pairs = pos_pairs + neg_pairs\n",
    "        self.labels = [1.0] * len(pos_pairs) + [-1.0] * len(neg_pairs)\n",
    "        self.tokenizer = tokenizer\n",
    "\n",
    "    def __len__(self):\n",
    "        return len(self.pairs)\n",
    "    \n",
    "    def __getitem__(self, idx):\n",
    "        query, doc = self.pairs[idx]\n",
    "        inputs = self.tokenizer([query, doc], padding=\"max_length\", truncation=True, return_tensors=\"pt\")\n",
    "        inputs[\"label\"] = self.labels[idx]\n",
    "        return inputs\n",
    "    \n",
    "train_dataset = BioDataset(train_pos_pairs, train_neg_pairs, tokenizer)"
   ]
  },
  {
   "cell_type": "code",
   "execution_count": 14,
   "metadata": {},
   "outputs": [
    {
     "name": "stdout",
     "output_type": "stream",
     "text": [
      "torch.Size([2, 512])\n"
     ]
    }
   ],
   "source": [
    "print(train_dataset[0]['input_ids'].shape, flush = True)"
   ]
  },
  {
   "cell_type": "code",
   "execution_count": 15,
   "metadata": {},
   "outputs": [],
   "source": [
    "# Collate function\n",
    "def collate_fn(batch):\n",
    "    input_ids = torch.stack([item['input_ids'].squeeze() for item in batch])\n",
    "    attention_mask = torch.stack([item['attention_mask'].squeeze() for item in batch])\n",
    "    labels = torch.tensor([item['label'] for item in batch])\n",
    "    return {\"input_ids\": input_ids, \"attention_mask\": attention_mask, \"labels\": labels}"
   ]
  },
  {
   "cell_type": "code",
   "execution_count": 16,
   "metadata": {},
   "outputs": [],
   "source": [
    "BATCH_SIZE = 2\n",
    "train_dataloader = torch.utils.data.DataLoader(train_dataset, batch_size=BATCH_SIZE,\n",
    "                                               shuffle=True, collate_fn=collate_fn)"
   ]
  },
  {
   "cell_type": "code",
   "execution_count": 17,
   "metadata": {},
   "outputs": [
    {
     "name": "stdout",
     "output_type": "stream",
     "text": [
      "torch.Size([2, 2, 512]) torch.Size([2, 2, 512]) torch.Size([2])\n"
     ]
    }
   ],
   "source": [
    "batch = next(iter(train_dataloader))\n",
    "print(batch[\"input_ids\"].shape, batch[\"attention_mask\"].shape, batch[\"labels\"].shape, flush = True)"
   ]
  },
  {
   "cell_type": "code",
   "execution_count": 18,
   "metadata": {},
   "outputs": [
    {
     "name": "stdout",
     "output_type": "stream",
     "text": [
      "last_hidden_state torch.Size([4, 512, 768])\n",
      "pooler_output torch.Size([4, 768])\n"
     ]
    }
   ],
   "source": [
    "# Forward pass on the model without gradients\n",
    "with torch.no_grad():\n",
    "    outputs = model(\n",
    "        input_ids=batch[\"input_ids\"].view(-1, batch[\"input_ids\"].size(-1)),\n",
    "        attention_mask=batch[\"attention_mask\"].view(-1, batch[\"attention_mask\"].size(-1))\n",
    "    )\n",
    "\n",
    "for k, v in outputs.items():\n",
    "    print(k, v.shape)"
   ]
  },
  {
   "cell_type": "markdown",
   "metadata": {},
   "source": [
    "## Fine-tune using LoRA"
   ]
  },
  {
   "cell_type": "code",
   "execution_count": 19,
   "metadata": {},
   "outputs": [
    {
     "name": "stdout",
     "output_type": "stream",
     "text": [
      "Model loaded on device\n"
     ]
    }
   ],
   "source": [
    "# Transfer model to the device\n",
    "model.to(device)\n",
    "print(\"Model loaded on device\", flush=True)"
   ]
  },
  {
   "cell_type": "code",
   "execution_count": 20,
   "metadata": {},
   "outputs": [],
   "source": [
    "def mean_pooling(model_output, attention_mask):\n",
    "    token_embeddings = model_output[0] #First element of model_output contains all token embeddings\n",
    "    input_mask_expanded = attention_mask.unsqueeze(-1).expand(token_embeddings.size()).float()\n",
    "    return torch.sum(token_embeddings * input_mask_expanded, 1) / torch.clamp(input_mask_expanded.sum(1), min=1e-9)"
   ]
  },
  {
   "cell_type": "code",
   "execution_count": 21,
   "metadata": {},
   "outputs": [],
   "source": [
    "from typing import Any, Dict\n",
    "from torch import nn, Tensor\n",
    "\n",
    "class CoSENTLoss(nn.Module):\n",
    "    def __init__(self, model: AutoModel, mean_pooling_fn, scale: float = 20.0, similarity_fct=nn.CosineSimilarity(dim=-1)) -> None:\n",
    "        \"\"\"\n",
    "        Implements CoSENT (Cosine Sentence) loss using mean pooling.\n",
    "\n",
    "        Args:\n",
    "            model: AutoModel instance.\n",
    "            mean_pooling_fn: Function to perform mean pooling on model outputs.\n",
    "            scale: Inverse temperature scaling factor.\n",
    "            similarity_fct: Function to compute pairwise cosine similarity.\n",
    "        \"\"\"\n",
    "        super().__init__()\n",
    "        self.model = model\n",
    "        self.mean_pooling = mean_pooling_fn\n",
    "        self.similarity_fct = similarity_fct\n",
    "        self.scale = scale\n",
    "\n",
    "    def forward(self, batch: Dict) -> Tensor:\n",
    "        input_ids = batch[\"input_ids\"].view(-1, batch[\"input_ids\"].size(-1))\n",
    "        attention_mask = batch[\"attention_mask\"].view(-1, batch[\"attention_mask\"].size(-1))\n",
    "        labels = batch[\"labels\"]\n",
    "\n",
    "        outputs = self.model(input_ids=input_ids, attention_mask=attention_mask)\n",
    "        embeddings = self.mean_pooling(outputs, attention_mask)\n",
    "\n",
    "\n",
    "        scores = self.similarity_fct(embeddings[::2], embeddings[1::2])\n",
    "        scores = scores * self.scale\n",
    "        # scores[:, None] converts scores to a column vector\n",
    "        # scores[None, :] converts scores to a row vector\n",
    "        # column vector - row vector is a matrix M where M[i, j] = scores[i] - scores[j]\n",
    "        scores = scores[:, None] - scores[None, :]\n",
    "\n",
    "        # Label matrix indicating which pairs are relevant\n",
    "        # labels[:, None] is a column vector\n",
    "        # labels[None, :] is a row vector\n",
    "        # column vector - row vector is a matrix M where M[i, j] = labels[i] < labels[j]\n",
    "        labels = labels[:, None] < labels[None, :]\n",
    "        labels = labels.float()\n",
    "\n",
    "        # Mask out irrelevant pairs so they are negligible after exp()\n",
    "        # When labels[i, j] = 0, scores[i, j] = -inf => exp(-inf) = 0\n",
    "        scores = scores - (1 - labels) * 1e12\n",
    "\n",
    "        # Append a zero as e^0 = 1\n",
    "        scores = torch.cat((torch.zeros(1).to(scores.device), scores.view(-1)), dim=0)\n",
    "        loss = torch.logsumexp(scores, dim=0)\n",
    "\n",
    "        return loss\n",
    "\n",
    "    def get_config_dict(self) -> Dict[str, Any]:\n",
    "        return {\"scale\": self.scale, \"similarity_fct\": self.similarity_fct.__name__}"
   ]
  },
  {
   "cell_type": "code",
   "execution_count": 22,
   "metadata": {},
   "outputs": [],
   "source": [
    "from torch.optim import AdamW\n",
    "\n",
    "# Initialize optimizer and loss function\n",
    "optimizer = AdamW(model.parameters(), lr=args.learning_rate)\n",
    "loss_fn = CoSENTLoss(model, mean_pooling)"
   ]
  },
  {
   "cell_type": "code",
   "execution_count": null,
   "metadata": {},
   "outputs": [
    {
     "name": "stderr",
     "output_type": "stream",
     "text": [
      "Epoch 1:   0%|          | 0/12000 [00:00<?, ?it/s]"
     ]
    },
    {
     "name": "stdout",
     "output_type": "stream",
     "text": [
      "Loss:  0.0\n"
     ]
    },
    {
     "name": "stderr",
     "output_type": "stream",
     "text": [
      "Epoch 1:   0%|          | 41/12000 [00:16<1:18:54,  2.53it/s]"
     ]
    }
   ],
   "source": [
    "# Training loop\n",
    "losses = []\n",
    "for epoch in range(args.num_train_epochs):\n",
    "    model.train()\n",
    "    total_loss = 0\n",
    "    for i, batch in enumerate(tqdm(train_dataloader, desc=f\"Epoch {epoch+1}\")):\n",
    "        optimizer.zero_grad()\n",
    "\n",
    "        # Move inputs to device\n",
    "        batch = {k: v.to(device) for k, v in batch.items()}\n",
    "\n",
    "        loss = loss_fn(batch)\n",
    "        \n",
    "        # Backward pass and optimization\n",
    "        loss.backward()\n",
    "        optimizer.step()\n",
    "        \n",
    "        total_loss += loss.item()\n",
    "\n",
    "        if (i % 100 == 0):\n",
    "            if i > 0:\n",
    "                avg_loss = total_loss / ((i+1) * batch_size)\n",
    "            else:\n",
    "                avg_loss = total_loss\n",
    "            print(\"Loss: \", avg_loss, flush=True)\n",
    "            losses.append(avg_loss)\n",
    "\n",
    "    # Shuffle the dataloader\n",
    "    train_dataloader = torch.utils.data.DataLoader(train_dataset, batch_size=BATCH_SIZE,\n",
    "                                               shuffle=True, collate_fn=collate_fn)    \n",
    "    \n",
    "    avg_loss = total_loss / len(train_dataloader)\n",
    "    print(f\"Epoch {epoch+1} - Average Loss: {avg_loss:.4f}\", flush=True)"
   ]
  },
  {
   "cell_type": "markdown",
   "metadata": {},
   "source": [
    "**Note:** Takes 10 GB of GPU memory for batch size of 8, 20GB for batch size of 16<br>\n",
    "Takes 18 minutes per epoch"
   ]
  },
  {
   "cell_type": "code",
   "execution_count": null,
   "metadata": {},
   "outputs": [
    {
     "name": "stdout",
     "output_type": "stream",
     "text": [
      "Model saved at mpnet_peft_ft_cosent\n"
     ]
    }
   ],
   "source": [
    "# Save the model\n",
    "model_save_path = \"mpnet_peft_ft_cosent\"\n",
    "model.save_pretrained(model_save_path)\n",
    "print(f\"Model saved at {model_save_path}\", flush=True)"
   ]
  },
  {
   "cell_type": "code",
   "execution_count": null,
   "metadata": {},
   "outputs": [
    {
     "data": {
      "image/png": "[encoded data removed]",
      "text/plain": [
       "<Figure size 640x480 with 1 Axes>"
      ]
     },
     "metadata": {},
     "output_type": "display_data"
    }
   ],
   "source": [
    "# Loss curve\n",
    "import matplotlib.pyplot as plt\n",
    "\n",
    "plt.plot(losses)\n",
    "plt.xlabel(\"100 steps\")\n",
    "plt.ylabel(\"Loss\")\n",
    "plt.title(\"Training Loss Curve\")\n",
    "plt.grid()\n",
    "plt.show()"
   ]
  }
 ],
 "metadata": {
  "kernelspec": {
   "display_name": "nlp_new",
   "language": "python",
   "name": "python3"
  },
  "language_info": {
   "codemirror_mode": {
    "name": "ipython",
    "version": 3
   },
   "file_extension": ".py",
   "mimetype": "text/x-python",
   "name": "python",
   "nbconvert_exporter": "python",
   "pygments_lexer": "ipython3",
   "version": "3.10.15"
  }
 },
 "nbformat": 4,
 "nbformat_minor": 2
}
