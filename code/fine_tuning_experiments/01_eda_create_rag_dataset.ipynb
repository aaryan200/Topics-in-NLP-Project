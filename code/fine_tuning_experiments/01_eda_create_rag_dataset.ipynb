{
 "cells": [
  {
   "cell_type": "markdown",
   "metadata": {},
   "source": [
    "# Notebook to perform EDA on [MedQuAD](https://huggingface.co/datasets/lavita/MedQuAD) dataset and create dataset for RAG"
   ]
  },
  {
   "cell_type": "code",
   "execution_count": 1,
   "metadata": {},
   "outputs": [],
   "source": [
    "from datasets import load_dataset\n",
    "import pandas as pd\n",
    "from sentence_transformers import SentenceTransformer\n",
    "from transformers import AutoTokenizer\n",
    "import matplotlib.pyplot as plt\n",
    "import bs4 as soup\n",
    "import requests\n",
    "from tqdm import tqdm\n",
    "import re"
   ]
  },
  {
   "cell_type": "markdown",
   "metadata": {},
   "source": [
    "## Load the dataset and explore"
   ]
  },
  {
   "cell_type": "code",
   "execution_count": 3,
   "metadata": {},
   "outputs": [],
   "source": [
    "ds = load_dataset(\"lavita/MedQuAD\")"
   ]
  },
  {
   "cell_type": "code",
   "execution_count": 4,
   "metadata": {},
   "outputs": [
    {
     "name": "stdout",
     "output_type": "stream",
     "text": [
      "(47441, 13)\n"
     ]
    }
   ],
   "source": [
    "df_train = pd.DataFrame(ds['train'])\n",
    "print(df_train.shape)"
   ]
  },
  {
   "cell_type": "code",
   "execution_count": 5,
   "metadata": {},
   "outputs": [
    {
     "data": {
      "text/html": [
       "<div>\n",
       "<style scoped>\n",
       "    .dataframe tbody tr th:only-of-type {\n",
       "        vertical-align: middle;\n",
       "    }\n",
       "\n",
       "    .dataframe tbody tr th {\n",
       "        vertical-align: top;\n",
       "    }\n",
       "\n",
       "    .dataframe thead th {\n",
       "        text-align: right;\n",
       "    }\n",
       "</style>\n",
       "<table border=\"1\" class=\"dataframe\">\n",
       "  <thead>\n",
       "    <tr style=\"text-align: right;\">\n",
       "      <th></th>\n",
       "      <th>document_id</th>\n",
       "      <th>document_source</th>\n",
       "      <th>document_url</th>\n",
       "      <th>category</th>\n",
       "      <th>umls_cui</th>\n",
       "      <th>umls_semantic_types</th>\n",
       "      <th>umls_semantic_group</th>\n",
       "      <th>synonyms</th>\n",
       "      <th>question_id</th>\n",
       "      <th>question_focus</th>\n",
       "      <th>question_type</th>\n",
       "      <th>question</th>\n",
       "      <th>answer</th>\n",
       "    </tr>\n",
       "  </thead>\n",
       "  <tbody>\n",
       "    <tr>\n",
       "      <th>0</th>\n",
       "      <td>0000559</td>\n",
       "      <td>GHR</td>\n",
       "      <td>https://ghr.nlm.nih.gov/condition/keratoderma-...</td>\n",
       "      <td>None</td>\n",
       "      <td>C0343073</td>\n",
       "      <td>T047</td>\n",
       "      <td>Disorders</td>\n",
       "      <td>KWWH</td>\n",
       "      <td>0000559-1</td>\n",
       "      <td>keratoderma with woolly hair</td>\n",
       "      <td>information</td>\n",
       "      <td>What is (are) keratoderma with woolly hair ?</td>\n",
       "      <td>Keratoderma with woolly hair is a group of rel...</td>\n",
       "    </tr>\n",
       "    <tr>\n",
       "      <th>1</th>\n",
       "      <td>0000559</td>\n",
       "      <td>GHR</td>\n",
       "      <td>https://ghr.nlm.nih.gov/condition/keratoderma-...</td>\n",
       "      <td>None</td>\n",
       "      <td>C0343073</td>\n",
       "      <td>T047</td>\n",
       "      <td>Disorders</td>\n",
       "      <td>KWWH</td>\n",
       "      <td>0000559-2</td>\n",
       "      <td>keratoderma with woolly hair</td>\n",
       "      <td>frequency</td>\n",
       "      <td>How many people are affected by keratoderma wi...</td>\n",
       "      <td>Keratoderma with woolly hair is rare; its prev...</td>\n",
       "    </tr>\n",
       "  </tbody>\n",
       "</table>\n",
       "</div>"
      ],
      "text/plain": [
       "  document_id document_source  \\\n",
       "0     0000559             GHR   \n",
       "1     0000559             GHR   \n",
       "\n",
       "                                        document_url category  umls_cui  \\\n",
       "0  https://ghr.nlm.nih.gov/condition/keratoderma-...     None  C0343073   \n",
       "1  https://ghr.nlm.nih.gov/condition/keratoderma-...     None  C0343073   \n",
       "\n",
       "  umls_semantic_types umls_semantic_group synonyms question_id  \\\n",
       "0                T047           Disorders     KWWH   0000559-1   \n",
       "1                T047           Disorders     KWWH   0000559-2   \n",
       "\n",
       "                 question_focus question_type  \\\n",
       "0  keratoderma with woolly hair   information   \n",
       "1  keratoderma with woolly hair     frequency   \n",
       "\n",
       "                                            question  \\\n",
       "0       What is (are) keratoderma with woolly hair ?   \n",
       "1  How many people are affected by keratoderma wi...   \n",
       "\n",
       "                                              answer  \n",
       "0  Keratoderma with woolly hair is a group of rel...  \n",
       "1  Keratoderma with woolly hair is rare; its prev...  "
      ]
     },
     "execution_count": 5,
     "metadata": {},
     "output_type": "execute_result"
    }
   ],
   "source": [
    "df_train.head(2)"
   ]
  },
  {
   "cell_type": "code",
   "execution_count": null,
   "metadata": {},
   "outputs": [
    {
     "data": {
      "text/plain": [
       "11254"
      ]
     },
     "execution_count": 7,
     "metadata": {},
     "output_type": "execute_result"
    }
   ],
   "source": [
    "doc_urls = df_train['document_url'].unique()\n",
    "len(doc_urls)"
   ]
  },
  {
   "cell_type": "code",
   "execution_count": 8,
   "metadata": {},
   "outputs": [
    {
     "data": {
      "text/plain": [
       "count                                                47441\n",
       "unique                                               11254\n",
       "top       http://nihseniorhealth.gov/breastcancer/toc.html\n",
       "freq                                                    28\n",
       "Name: document_url, dtype: object"
      ]
     },
     "execution_count": 8,
     "metadata": {},
     "output_type": "execute_result"
    }
   ],
   "source": [
    "df_train['document_url'].describe()"
   ]
  },
  {
   "cell_type": "code",
   "execution_count": 9,
   "metadata": {},
   "outputs": [
    {
     "data": {
      "text/plain": [
       "count       47436\n",
       "unique       5403\n",
       "top       0000008\n",
       "freq           79\n",
       "Name: document_id, dtype: object"
      ]
     },
     "execution_count": 9,
     "metadata": {},
     "output_type": "execute_result"
    }
   ],
   "source": [
    "df_train['document_id'].describe()"
   ]
  },
  {
   "cell_type": "code",
   "execution_count": 10,
   "metadata": {},
   "outputs": [
    {
     "data": {
      "text/plain": [
       "5404"
      ]
     },
     "execution_count": 10,
     "metadata": {},
     "output_type": "execute_result"
    }
   ],
   "source": [
    "doc_ids = df_train['document_id'].unique()\n",
    "len(doc_ids)"
   ]
  },
  {
   "cell_type": "code",
   "execution_count": 11,
   "metadata": {},
   "outputs": [
    {
     "name": "stdout",
     "output_type": "stream",
     "text": [
      "0000559\n"
     ]
    },
    {
     "data": {
      "text/plain": [
       "array(['https://ghr.nlm.nih.gov/condition/keratoderma-with-woolly-hair',\n",
       "       'https://ghr.nlm.nih.gov/condition/keratoderma-with-woolly-hair',\n",
       "       'https://ghr.nlm.nih.gov/condition/keratoderma-with-woolly-hair',\n",
       "       'https://ghr.nlm.nih.gov/condition/keratoderma-with-woolly-hair',\n",
       "       'https://ghr.nlm.nih.gov/condition/keratoderma-with-woolly-hair',\n",
       "       'https://rarediseases.info.nih.gov/gard/12439/autosomal-dominant-intermediate-charcot-marie-tooth-disease-type-c',\n",
       "       'https://www.nlm.nih.gov/medlineplus/listeriainfections.html',\n",
       "       'https://www.nlm.nih.gov/medlineplus/ency/article/003152.htm',\n",
       "       'https://www.nlm.nih.gov/medlineplus/ency/article/003152.htm',\n",
       "       'https://www.nlm.nih.gov/medlineplus/ency/article/003152.htm',\n",
       "       'https://www.nlm.nih.gov/medlineplus/ency/article/003152.htm',\n",
       "       'https://www.nlm.nih.gov/medlineplus/ency/article/003152.htm',\n",
       "       'https://www.nlm.nih.gov/medlineplus/ency/article/003152.htm',\n",
       "       'https://www.nlm.nih.gov/medlineplus/druginfo/meds/a602014.html',\n",
       "       'https://www.nlm.nih.gov/medlineplus/druginfo/meds/a602014.html',\n",
       "       'https://www.nlm.nih.gov/medlineplus/druginfo/meds/a602014.html',\n",
       "       'https://www.nlm.nih.gov/medlineplus/druginfo/meds/a602014.html',\n",
       "       'https://www.nlm.nih.gov/medlineplus/druginfo/meds/a602014.html',\n",
       "       'https://www.nlm.nih.gov/medlineplus/druginfo/meds/a602014.html',\n",
       "       'https://www.nlm.nih.gov/medlineplus/druginfo/meds/a602014.html',\n",
       "       'https://www.nlm.nih.gov/medlineplus/druginfo/meds/a602014.html',\n",
       "       'https://www.nlm.nih.gov/medlineplus/druginfo/meds/a602014.html',\n",
       "       'https://www.nlm.nih.gov/medlineplus/druginfo/meds/a602014.html'],\n",
       "      dtype=object)"
      ]
     },
     "execution_count": 11,
     "metadata": {},
     "output_type": "execute_result"
    }
   ],
   "source": [
    "print(doc_ids[0])\n",
    "df_train[df_train['document_id'] == doc_ids[0]]['document_url'].values"
   ]
  },
  {
   "cell_type": "code",
   "execution_count": 12,
   "metadata": {},
   "outputs": [
    {
     "data": {
      "text/plain": [
       "30086"
      ]
     },
     "execution_count": 12,
     "metadata": {},
     "output_type": "execute_result"
    }
   ],
   "source": [
    "q_ids = df_train['question_id'].unique()\n",
    "len(q_ids)"
   ]
  },
  {
   "cell_type": "markdown",
   "metadata": {},
   "source": [
    "## Scrape the data from the website"
   ]
  },
  {
   "cell_type": "code",
   "execution_count": null,
   "metadata": {},
   "outputs": [],
   "source": [
    "def get_doc_content(document_url, f = None):\n",
    "    \"\"\"\n",
    "    Scrape the webpage and return the content of the webpage\n",
    "    \"\"\"\n",
    "    headers = {\n",
    "        'User-Agent': 'Mozilla/5.0 (X11; Linux x86_64) AppleWebKit/537.36 (KHTML, like Gecko) Chrome/77.0.3865.90 Safari/537.36'\n",
    "        }\n",
    "    try:\n",
    "        response = requests.get(document_url, headers=headers, timeout=20)\n",
    "        if response.status_code == 200:\n",
    "            page = soup.BeautifulSoup(response.content, 'html.parser')\n",
    "            content = page.get_text()\n",
    "            return content\n",
    "        else:\n",
    "            if f is not None:\n",
    "                f.write(f'Error {response.status_code} in scraping {document_url}\\n')\n",
    "            else:\n",
    "                print(f'Error {response.status_code} in scraping {document_url}')\n",
    "            return None\n",
    "    except Exception as e:\n",
    "        if f is not None:\n",
    "            f.write(f'Error in scraping {document_url}: {e}\\n')\n",
    "        else:\n",
    "            print(f'Error in scraping {document_url}: {e}')\n",
    "        return None"
   ]
  },
  {
   "cell_type": "code",
   "execution_count": null,
   "metadata": {},
   "outputs": [
    {
     "name": "stdout",
     "output_type": "stream",
     "text": [
      "https://ghr.nlm.nih.gov/condition/keratoderma-with-woolly-hair\n"
     ]
    }
   ],
   "source": [
    "# Test\n",
    "idx = 0\n",
    "url = doc_urls[0]\n",
    "content = get_doc_content(url)\n",
    "print(url)"
   ]
  },
  {
   "cell_type": "code",
   "execution_count": 14,
   "metadata": {},
   "outputs": [
    {
     "name": "stdout",
     "output_type": "stream",
     "text": [
      "Keratoderma with woolly hair: MedlinePlus Genetics\n",
      "Skip navigation\n",
      "            An official website of the United States government\n",
      "          \n",
      "Here’s how you know\n",
      "Here’s how you know\n",
      "Official websites use .govA\n",
      "              .gov website belongs to an official government\n",
      "              organization in the United States.\n",
      "            \n",
      "Secure .gov websites use HTTPSA\n",
      "              lock (\n",
      "              \n",
      "Lock\n",
      "Locked padlock icon\n",
      " ) or https:// means you’ve safely connected to\n",
      "              the .gov website. Share sensitive information only on official,\n",
      "              secure websites.\n",
      "            \n",
      " National Library of Medicine\n",
      "Menu\n",
      "Health Topics\n",
      "Drugs & Supplements\n",
      "Genetics\n",
      "Medical Tests\n",
      "Medical Encyclopedia\n",
      "About MedlinePlus\n",
      "Search\n",
      "Search MedlinePlus\n",
      "GO\n",
      "About MedlinePlus\n",
      "What's New\n",
      "Site Map\n",
      "Customer Support\n",
      "Health TopicsDrugs & SupplementsGeneticsMedical TestsMedical Encyclopedia\n",
      "You Are Here:\n",
      "Home\n",
      "\t\t\t→\n",
      "\t\t\t\n",
      "Genetics\n",
      "\t\t\t\t\t→\n",
      "\t\t\t\t\t\n",
      "Genetic Conditions\n",
      "\t\t\t\t\t→\n",
      "\t\t\t\t\t\n",
      "Keratoderma with woolly hair\n",
      "URL of this page: https://medlineplus.gov/genetics/condition/keratoderma-with-woolly-hair/\n",
      "Keratoderma with woolly hair\n",
      "To use the sharing features on this page, please enable JavaScript.\n",
      "Description\n",
      "Keratoderma with woolly hair is a group of related conditions that affect the skin and hair and in many cases increase the risk of potentially life-threatening heart problems. People with these conditions have hair that is unusually coarse, dry, fine, and tightly curled. In some cases, the hair is also sparse. The woolly hair texture typically affects only scalp hair and is present from birth. Starting early in life, affected individuals also develop palmoplantar keratoderma, a condition that causes skin on the palms of the hands and the soles of the feet to become thick, scaly, and calloused.Cardiomyopathy, which is a disease of the heart muscle, is a life-threatening health problem that can develop in people with keratoderma with woolly hair. Unlike the other features of this condition, signs and symptoms of cardiomyopathy may not appear until adolescence or later. Complications of cardiomyopathy can include an abnormal heartbeat (arrhythmia), heart failure, and sudden death.Keratoderma with woolly hair comprises several related conditions with overlapping signs and symptoms. Researchers have recently proposed classifying keratoderma with woolly hair into four types, based on the underlying genetic cause. Type I, also known as Naxos disease, is characterized by palmoplantar keratoderma, woolly hair, and a form of cardiomyopathy called arrhythmogenic right ventricular cardiomyopathy (ARVC). Type II, also known as Carvajal syndrome, has hair and skin abnormalities similar to type I but features a different form of cardiomyopathy, called dilated left ventricular cardiomyopathy. Type III also has signs and symptoms similar to those of type I, including ARVC, although the hair and skin abnormalities are often milder. Type IV is characterized by palmoplantar keratoderma and woolly and sparse hair, as well as abnormal fingernails and toenails. Type IV does not appear to cause cardiomyopathy.\n",
      "Frequency\n",
      "Keratoderma with woolly hair is rare; its prevalence worldwide is unknown.Type I (Naxos disease) was first described in families from the Greek island of Naxos. Since then, affected families have been found in other Greek islands, Turkey, and the Middle East. This form of the condition may affect up to 1 in 1,000 people from the Greek islands.Type II (Carvajal syndrome), type III, and type IV have each been identified in only a small number of families worldwide.\n",
      "Causes\n",
      "Mutations in the JUP, DSP, DSC2, and KANK2 genes cause keratoderma with woolly hair types I through IV, respectively. The JUP, DSP, and DSC2 genes provide instructions for making components of specialized cell structures called desmosomes. Desmosomes are located in the membrane surrounding certain cells, including skin and heart muscle cells. Desmosomes help attach cells to one another, which provides strength and stability to tissues. They also play a role in signaling between cells.Mutations in the JUP, DSP, or DSC2 gene alter the structure and impair the function of desmosomes. Abnormal or missing desmosomes prevent cells from sticking to one another effectively, which likely makes the hair, skin, and heart muscle more fragile. Over time, as these tissues are exposed to mechanical stress (for example, friction on the surface of the skin or the constant contraction and relaxation of the heart muscle), they become damaged and can no longer function normally. This mechanism probably underlies the skin, hair, and heart problems that occur in keratoderma with woolly hair. Some studies suggest that abnormal cell signaling may also contribute to cardiomyopathy in people with this group of conditions.Unlike the other genes associated with keratoderma with woolly hair, the KANK2 gene provides instructions for making a protein that is not part of desmosomes. Instead, it regulates other proteins called steroid receptor coactivators (SRCs), whose function is to help turn on (activate) certain genes. SRCs play important roles in tissues throughout the body, including the skin. Studies suggest that mutations in the KANK2 gene disrupt the regulation of SRCs, which leads to abnormal gene activity. However, it is unclear how these changes underlie the skin and hair abnormalities in keratoderma with woolly hair type IV.\n",
      "Learn more about the genes associated with Keratoderma with woolly hair\n",
      "DSC2\n",
      "DSP\n",
      "JUP\n",
      "KANK2\n",
      "Inheritance\n",
      "Most cases of keratoderma with woolly hair have an autosomal recessive pattern of inheritance, which means both copies of the gene in each cell have mutations. The parents of an individual with an autosomal recessive condition each carry one copy of the mutated gene, but they usually do not show signs and symptoms of the condition.\n",
      "Other Names for This Condition\n",
      "KWWH\n",
      "Additional Information & Resources\n",
      "Genetic Testing Information\n",
      "Genetic Testing Registry: Arrhythmogenic right ventricular dysplasia 11 \n",
      "Genetic Testing Registry: Cardiomyopathy, dilated, with wooly hair, keratoderma, and tooth agenesis \n",
      "Genetic Testing Registry: Wooly hair-palmoplantar keratoderma syndrome \n",
      "Genetic Testing Registry: Naxos disease \n",
      "Genetic and Rare Diseases Information Center\n",
      "Carvajal syndrome \n",
      "Patient Support and Advocacy Resources\n",
      "National Organization for Rare Disorders (NORD)\n",
      "Catalog of Genes and Diseases from OMIM\n",
      "NAXOS DISEASE; NXD\n",
      "CARDIOMYOPATHY, DILATED, WITH WOOLLY HAIR AND KERATODERMA; DCWHK\n",
      "ARRHYTHMOGENIC RIGHT VENTRICULAR DYSPLASIA, FAMILIAL, 11; ARVD11\n",
      "CARDIOMYOPATHY, DILATED, WITH WOOLLY HAIR, KERATODERMA, AND TOOTH AGENESIS; DCWHKTA\n",
      "PALMOPLANTAR KERATODERMA AND WOOLLY HAIR; PPKWH\n",
      "Scientific Articles on PubMed\n",
      "PubMed \n",
      "References\n",
      "McKoy G, Protonotarios N, Crosby A, Tsatsopoulou A, Anastasakis A, Coonar A,\n",
      "Norman M, Baboonian C, Jeffery S, McKenna WJ. Identification of a deletion in\n",
      "plakoglobin in arrhythmogenic right ventricular cardiomyopathy with palmoplantar\n",
      "keratoderma and woolly hair (Naxos disease). Lancet. 2000 Jun\n",
      "17;355(9221):2119-24. doi: 10.1016/S0140-6736(00)02379-5.  Citation on PubMed\n",
      "Norgett EE, Hatsell SJ, Carvajal-Huerta L, Cabezas JC, Common J, Purkis PE,\n",
      "Whittock N, Leigh IM, Stevens HP, Kelsell DP. Recessive mutation in desmoplakin\n",
      "disrupts desmoplakin-intermediate filament interactions and causes dilated\n",
      "cardiomyopathy, woolly hair and keratoderma. Hum Mol Genet. 2000 Nov\n",
      "1;9(18):2761-6. doi: 10.1093/hmg/9.18.2761.  Citation on PubMed\n",
      "Petrof G, Mellerio JE, McGrath JA. Desmosomal genodermatoses. Br J Dermatol.\n",
      "2012 Jan;166(1):36-45. doi: 10.1111/j.1365-2133.2011.10640.x.  Citation on PubMed\n",
      "Polivka L, Bodemer C, Hadj-Rabia S. Combination of palmoplantar keratoderma\n",
      "and hair shaft anomalies, the warning signal of severe arrhythmogenic\n",
      "cardiomyopathy: a systematic review on genetic desmosomal diseases. J Med Genet.\n",
      "2016 May;53(5):289-95. doi: 10.1136/jmedgenet-2015-103403. Epub 2015 Sep 23.\n",
      " Citation on PubMed\n",
      "Ramot Y, Molho-Pessach V, Meir T, Alper-Pinus R, Siam I, Tams S, Babay S,\n",
      "Zlotogorski A. Mutation in KANK2, encoding a sequestering protein for steroid\n",
      "receptor coactivators, causes keratoderma and woolly hair. J Med Genet. 2014\n",
      "Jun;51(6):388-94. doi: 10.1136/jmedgenet-2014-102346. Epub 2014 Mar 26.  Citation on PubMed\n",
      "Ramot Y, Zlotogorski A. The twisting tale of woolly hair: a trait with many\n",
      "causes. J Med Genet. 2015 Apr;52(4):217-23. doi: 10.1136/jmedgenet-2014-102630.\n",
      "Epub 2015 Jan 5.  Citation on PubMed\n",
      "Simpson MA, Mansour S, Ahnood D, Kalidas K, Patton MA, McKenna WJ, Behr ER,\n",
      "Crosby AH. Homozygous mutation of desmocollin-2 in arrhythmogenic right\n",
      "ventricular cardiomyopathy with mild palmoplantar keratoderma and woolly hair.\n",
      "Cardiology. 2009;113(1):28-34. doi: 10.1159/000165696. Epub 2008 Oct 29.  Citation on PubMed\n",
      "Enlarge image\n",
      "Related Health Topics\n",
      "Cardiomyopathy\n",
      "Genetic Disorders\n",
      "Hair Problems\n",
      "Skin Conditions\n",
      "MEDICAL ENCYCLOPEDIA\n",
      "Cardiomyopathy\n",
      "Genetics\n",
      "Understanding Genetics\n",
      "What is the prognosis of a genetic condition?\n",
      "How can gene variants affect health and development?\n",
      "What does it mean if a disorder seems to run in my family?\n",
      "What are the different ways a genetic condition can be inherited?\n",
      "How are genetic conditions treated or managed?\n",
      "Disclaimers\n",
      "MedlinePlus links to health information from the National Institutes of Health and other federal government agencies. MedlinePlus also links to health information from non-government Web sites. See our disclaimer about external links and our quality guidelines.\n",
      "The information on this site should not be used as a substitute for professional medical care or advice. Contact a health care provider if you have questions about your health.\n",
      "Learn how to cite this page\n",
      "About MedlinePlus\n",
      "What's New\n",
      "Site Map\n",
      "Customer Support\n",
      "Subscribe to RSS\n",
      "Follow us\n",
      "Social Media Toolkit\n",
      "NLM Web Policies\n",
      "Copyright\n",
      "Accessibility\n",
      "Guidelines for Links\n",
      "Viewers & Players\n",
      "HHS Vulnerability Disclosure\n",
      "MedlinePlus Connect for EHRs\n",
      "For Developers\n",
      "National Library of Medicine\n",
      "8600 Rockville Pike, Bethesda, MD 20894\n",
      "U.S. Department of Health and Human Services\n",
      "National Institutes of Health\n",
      "Last updated February 1, 2019\n"
     ]
    }
   ],
   "source": [
    "# Replace multiple '\\n' with single '\\n'\n",
    "content = re.sub(r'\\n+', '\\n', content)\n",
    "content = content.strip()\n",
    "print(content)"
   ]
  },
  {
   "cell_type": "markdown",
   "metadata": {},
   "source": [
    "### Scrape unique urls using multi-threading"
   ]
  },
  {
   "cell_type": "code",
   "execution_count": null,
   "metadata": {},
   "outputs": [
    {
     "name": "stderr",
     "output_type": "stream",
     "text": [
      "100%|██████████| 64/64 [10:40<00:00, 10.00s/it]   "
     ]
    },
    {
     "name": "stdout",
     "output_type": "stream",
     "text": [
      "(7990, 2)\n"
     ]
    },
    {
     "name": "stderr",
     "output_type": "stream",
     "text": [
      "\n"
     ]
    }
   ],
   "source": [
    "from concurrent.futures import ThreadPoolExecutor\n",
    "\n",
    "f = open('errors.txt', 'w')\n",
    "\n",
    "def fetch_and_process_content(url):\n",
    "    content = get_doc_content(url, f)\n",
    "    if content is not None:\n",
    "        content = re.sub(r'\\n+', '\\n', content)\n",
    "        content = content.strip()\n",
    "        return {'document_url': url, 'document_content': content}\n",
    "    return None\n",
    "\n",
    "def process_urls_in_batches(urls):\n",
    "    temp_list = []\n",
    "    for url in urls:\n",
    "        result = fetch_and_process_content(url)\n",
    "        if result is not None:\n",
    "            temp_list.append(result)\n",
    "    return temp_list\n",
    "\n",
    "# Split doc_urls into 64 batches\n",
    "num_threads = 64\n",
    "batches = [doc_urls[i::num_threads] for i in range(num_threads)]\n",
    "\n",
    "li = []\n",
    "with ThreadPoolExecutor(max_workers=num_threads) as executor:\n",
    "    results = list(tqdm(executor.map(process_urls_in_batches, batches), total=num_threads))\n",
    "\n",
    "# Concatenate all temporary lists\n",
    "for result in results:\n",
    "    li.extend(result)\n",
    "\n",
    "df = pd.DataFrame(li)\n",
    "print(df.shape)\n",
    "\n",
    "f.close()"
   ]
  },
  {
   "cell_type": "code",
   "execution_count": null,
   "metadata": {},
   "outputs": [
    {
     "data": {
      "text/plain": [
       "3264"
      ]
     },
     "execution_count": 18,
     "metadata": {},
     "output_type": "execute_result"
    }
   ],
   "source": [
    "# Urls which can't be scraped\n",
    "len(doc_urls) - df.shape[0]"
   ]
  },
  {
   "cell_type": "code",
   "execution_count": 19,
   "metadata": {},
   "outputs": [
    {
     "data": {
      "text/html": [
       "<div>\n",
       "<style scoped>\n",
       "    .dataframe tbody tr th:only-of-type {\n",
       "        vertical-align: middle;\n",
       "    }\n",
       "\n",
       "    .dataframe tbody tr th {\n",
       "        vertical-align: top;\n",
       "    }\n",
       "\n",
       "    .dataframe thead th {\n",
       "        text-align: right;\n",
       "    }\n",
       "</style>\n",
       "<table border=\"1\" class=\"dataframe\">\n",
       "  <thead>\n",
       "    <tr style=\"text-align: right;\">\n",
       "      <th></th>\n",
       "      <th>document_url</th>\n",
       "      <th>document_content</th>\n",
       "    </tr>\n",
       "  </thead>\n",
       "  <tbody>\n",
       "    <tr>\n",
       "      <th>0</th>\n",
       "      <td>https://ghr.nlm.nih.gov/condition/keratoderma-...</td>\n",
       "      <td>Keratoderma with woolly hair: MedlinePlus Gene...</td>\n",
       "    </tr>\n",
       "    <tr>\n",
       "      <th>1</th>\n",
       "      <td>https://ghr.nlm.nih.gov/condition/kniest-dyspl...</td>\n",
       "      <td>Kniest dysplasia: MedlinePlus Genetics\\nSkip n...</td>\n",
       "    </tr>\n",
       "  </tbody>\n",
       "</table>\n",
       "</div>"
      ],
      "text/plain": [
       "                                        document_url  \\\n",
       "0  https://ghr.nlm.nih.gov/condition/keratoderma-...   \n",
       "1  https://ghr.nlm.nih.gov/condition/kniest-dyspl...   \n",
       "\n",
       "                                    document_content  \n",
       "0  Keratoderma with woolly hair: MedlinePlus Gene...  \n",
       "1  Kniest dysplasia: MedlinePlus Genetics\\nSkip n...  "
      ]
     },
     "execution_count": 19,
     "metadata": {},
     "output_type": "execute_result"
    }
   ],
   "source": [
    "df.head(2)"
   ]
  },
  {
   "cell_type": "code",
   "execution_count": 20,
   "metadata": {},
   "outputs": [
    {
     "data": {
      "text/plain": [
       "array([], dtype=object)"
      ]
     },
     "execution_count": 20,
     "metadata": {},
     "output_type": "execute_result"
    }
   ],
   "source": [
    "# df['document_content'] shouldn't be empty string\n",
    "df[df['document_content'] == '']['document_url'].values"
   ]
  },
  {
   "cell_type": "markdown",
   "metadata": {},
   "source": [
    "### Store unique documents"
   ]
  },
  {
   "cell_type": "code",
   "execution_count": 23,
   "metadata": {},
   "outputs": [
    {
     "data": {
      "text/plain": [
       "7951"
      ]
     },
     "execution_count": 23,
     "metadata": {},
     "output_type": "execute_result"
    }
   ],
   "source": [
    "len(df['document_content'].unique())"
   ]
  },
  {
   "cell_type": "code",
   "execution_count": 26,
   "metadata": {},
   "outputs": [
    {
     "name": "stdout",
     "output_type": "stream",
     "text": [
      "['http://www.nhlbi.nih.gov/health/health-topics/topics/holes'\n",
      " 'http://www.nhlbi.nih.gov/health/health-topics/topics/chd'\n",
      " 'http://www.nhlbi.nih.gov/health/health-topics/topics/tof'\n",
      " 'http://www.nhlbi.nih.gov/health/health-topics/topics/heartmurmur'\n",
      " 'http://www.nhlbi.nih.gov/health/health-topics/topics/pda']\n",
      "['http://www.nhlbi.nih.gov/health/health-topics/topics/hd'\n",
      " 'http://www.nhlbi.nih.gov/health/health-topics/topics/cad'\n",
      " 'http://www.nhlbi.nih.gov/health/health-topics/topics/cmd'\n",
      " 'http://www.nhlbi.nih.gov/health/health-topics/topics/dhd'\n",
      " 'http://www.nhlbi.nih.gov/health/health-topics/topics/hdw']\n",
      "['http://www.niddk.nih.gov/health-information/health-topics/Diabetes/causes-diabetes/Pages/index.aspx#type2'\n",
      " 'http://www.niddk.nih.gov/health-information/health-topics/Diabetes/causes-diabetes/Pages/index.aspx'\n",
      " 'http://www.niddk.nih.gov/health-information/health-topics/Diabetes/causes-diabetes/Pages/index.aspx#gestational'\n",
      " 'http://www.niddk.nih.gov/health-information/health-topics/Diabetes/causes-diabetes/Pages/index.aspx#causes']\n",
      "['http://www.nhlbi.nih.gov/health/health-topics/topics/arr'\n",
      " 'http://www.nhlbi.nih.gov/health/health-topics/topics/hpl'\n",
      " 'http://www.nhlbi.nih.gov/health/health-topics/topics/hemo']\n",
      "['https://ghr.nlm.nih.gov/condition/muckle-wells-syndrome'\n",
      " 'https://ghr.nlm.nih.gov/condition/neonatal-onset-multisystem-inflammatory-disease'\n",
      " 'https://ghr.nlm.nih.gov/condition/familial-cold-autoinflammatory-syndrome']\n",
      "['https://www.nlm.nih.gov/medlineplus/parenting.html'\n",
      " 'https://www.nlm.nih.gov/medlineplus/childcare.html'\n",
      " 'https://www.nlm.nih.gov/medlineplus/adoption.html']\n",
      "['http://www.nhlbi.nih.gov/health/health-topics/topics/hemophilia'\n",
      " 'http://www.nhlbi.nih.gov/health/health-topics/topics/vwd']\n",
      "['https://www.nlm.nih.gov/medlineplus/farmhealthandsafety.html'\n",
      " 'https://www.nlm.nih.gov/medlineplus/occupationalhealth.html']\n",
      "['https://www.nlm.nih.gov/medlineplus/childrenspage.html'\n",
      " 'https://www.nlm.nih.gov/medlineplus/childrenshealth.html']\n",
      "['https://www.nlm.nih.gov/medlineplus/medicareprescriptiondrugcoverage.html'\n",
      " 'https://www.nlm.nih.gov/medlineplus/medicare.html']\n",
      "['http://www.nhlbi.nih.gov/health/health-topics/topics/pe'\n",
      " 'http://www.nhlbi.nih.gov/health/health-topics/topics/dvt']\n",
      "['https://www.cancer.gov/types/brain/patient/child-astrocytoma-treament-pdq'\n",
      " 'https://www.cancer.gov/types/brain/patient/child-glioma-treatment-pdq']\n",
      "['https://www.nlm.nih.gov/medlineplus/safety.html'\n",
      " 'https://www.nlm.nih.gov/medlineplus/gunsafety.html']\n",
      "['https://www.nlm.nih.gov/medlineplus/teenspage.html'\n",
      " 'https://www.nlm.nih.gov/medlineplus/teenhealth.html']\n",
      "['https://www.nlm.nih.gov/medlineplus/toddlerdevelopment.html'\n",
      " 'https://www.nlm.nih.gov/medlineplus/toilettraining.html']\n",
      "['http://www.nhlbi.nih.gov/health/health-topics/topics/rds'\n",
      " 'http://www.nhlbi.nih.gov/health/health-topics/topics/bpd']\n",
      "['http://www.nhlbi.nih.gov/health/health-topics/topics/hvd'\n",
      " 'http://www.nhlbi.nih.gov/health/health-topics/topics/mvp']\n",
      "['https://www.nlm.nih.gov/medlineplus/bullying.html'\n",
      " 'https://www.nlm.nih.gov/medlineplus/internetsafety.html']\n",
      "['http://www.nhlbi.nih.gov/health/health-topics/topics/cough'\n",
      " 'http://www.nhlbi.nih.gov/health/health-topics/topics/brnchi']\n",
      "['https://www.nlm.nih.gov/medlineplus/childdevelopment.html'\n",
      " 'https://www.nlm.nih.gov/medlineplus/bedwetting.html']\n",
      "['http://www.nhlbi.nih.gov/health/health-topics/topics/vas'\n",
      " 'http://www.nhlbi.nih.gov/health/health-topics/topics/kd']\n",
      "['http://www.nhlbi.nih.gov/health/health-topics/topics/atherosclerosis'\n",
      " 'http://www.nhlbi.nih.gov/health/health-topics/topics/catd']\n",
      "['https://www.nlm.nih.gov/medlineplus/hazardouswaste.html'\n",
      " 'https://www.nlm.nih.gov/medlineplus/environmentalhealth.html']\n",
      "['https://www.nlm.nih.gov/medlineplus/familyissues.html'\n",
      " 'https://www.nlm.nih.gov/medlineplus/divorce.html']\n",
      "['http://www.nhlbi.nih.gov/health/health-topics/topics/hp'\n",
      " 'http://www.nhlbi.nih.gov/health/health-topics/topics/asb']\n",
      "['https://www.nlm.nih.gov/medlineplus/cosmeticdentistry.html'\n",
      " 'https://www.nlm.nih.gov/medlineplus/dentalhealth.html']\n",
      "['http://www.nhlbi.nih.gov/health/health-topics/topics/endo'\n",
      " 'http://www.nhlbi.nih.gov/health/health-topics/topics/peri']\n",
      "['https://ghr.nlm.nih.gov/condition/familial-cylindromatosis'\n",
      " 'https://ghr.nlm.nih.gov/condition/brooke-spiegler-syndrome']\n"
     ]
    }
   ],
   "source": [
    "vc = df['document_content'].value_counts()\n",
    "for doc_content, val in vc.items():\n",
    "    if val > 1:\n",
    "        print(df[df['document_content'] == doc_content]['document_url'].values)"
   ]
  },
  {
   "cell_type": "markdown",
   "metadata": {},
   "source": [
    "**Observation:** Documents having the same content are the same webpages. They are actually the re-directs to the same webpage."
   ]
  },
  {
   "cell_type": "markdown",
   "metadata": {},
   "source": [
    "### Dataset creation\n",
    "Create two dataframes:\n",
    "1. **question_urls_df**: Contains the question and a list of the urls of the relevant documents\n",
    "2. **urls_content_df**: Contains the url and the content of the document"
   ]
  },
  {
   "cell_type": "code",
   "execution_count": 29,
   "metadata": {},
   "outputs": [],
   "source": [
    "doc_contents = set()\n",
    "doc_to_parent = dict()\n",
    "url_to_parent = dict()\n",
    "url_to_content = dict()\n",
    "\n",
    "for _, row in df.iterrows():\n",
    "    url = row['document_url']\n",
    "    doc_content = row['document_content']\n",
    "    if doc_content in doc_contents:\n",
    "        url_to_parent[url] = doc_to_parent[doc_content]\n",
    "    else:\n",
    "        doc_contents.add(doc_content)\n",
    "        doc_to_parent[doc_content] = url\n",
    "        url_to_parent[url] = url\n",
    "        url_to_content[url] = doc_content"
   ]
  },
  {
   "cell_type": "code",
   "execution_count": 30,
   "metadata": {},
   "outputs": [
    {
     "name": "stdout",
     "output_type": "stream",
     "text": [
      "(7951, 2)\n"
     ]
    },
    {
     "data": {
      "text/html": [
       "<div>\n",
       "<style scoped>\n",
       "    .dataframe tbody tr th:only-of-type {\n",
       "        vertical-align: middle;\n",
       "    }\n",
       "\n",
       "    .dataframe tbody tr th {\n",
       "        vertical-align: top;\n",
       "    }\n",
       "\n",
       "    .dataframe thead th {\n",
       "        text-align: right;\n",
       "    }\n",
       "</style>\n",
       "<table border=\"1\" class=\"dataframe\">\n",
       "  <thead>\n",
       "    <tr style=\"text-align: right;\">\n",
       "      <th></th>\n",
       "      <th>document_url</th>\n",
       "      <th>document_content</th>\n",
       "    </tr>\n",
       "  </thead>\n",
       "  <tbody>\n",
       "    <tr>\n",
       "      <th>0</th>\n",
       "      <td>https://ghr.nlm.nih.gov/condition/keratoderma-...</td>\n",
       "      <td>Keratoderma with woolly hair: MedlinePlus Gene...</td>\n",
       "    </tr>\n",
       "    <tr>\n",
       "      <th>1</th>\n",
       "      <td>https://ghr.nlm.nih.gov/condition/kniest-dyspl...</td>\n",
       "      <td>Kniest dysplasia: MedlinePlus Genetics\\nSkip n...</td>\n",
       "    </tr>\n",
       "  </tbody>\n",
       "</table>\n",
       "</div>"
      ],
      "text/plain": [
       "                                        document_url  \\\n",
       "0  https://ghr.nlm.nih.gov/condition/keratoderma-...   \n",
       "1  https://ghr.nlm.nih.gov/condition/kniest-dyspl...   \n",
       "\n",
       "                                    document_content  \n",
       "0  Keratoderma with woolly hair: MedlinePlus Gene...  \n",
       "1  Kniest dysplasia: MedlinePlus Genetics\\nSkip n...  "
      ]
     },
     "execution_count": 30,
     "metadata": {},
     "output_type": "execute_result"
    }
   ],
   "source": [
    "# Create url, content dataframe\n",
    "df_url_content = pd.DataFrame(list(url_to_content.items()), columns=['document_url', 'document_content'])\n",
    "print(df_url_content.shape)\n",
    "df_url_content.head(2)"
   ]
  },
  {
   "cell_type": "code",
   "execution_count": 31,
   "metadata": {},
   "outputs": [
    {
     "data": {
      "text/plain": [
       "44603"
      ]
     },
     "execution_count": 31,
     "metadata": {},
     "output_type": "execute_result"
    }
   ],
   "source": [
    "# Create question, document_url dataframe\n",
    "ques_uniq = df_train['question'].unique()\n",
    "len(ques_uniq)"
   ]
  },
  {
   "cell_type": "code",
   "execution_count": 32,
   "metadata": {},
   "outputs": [
    {
     "data": {
      "text/plain": [
       "30086"
      ]
     },
     "execution_count": 32,
     "metadata": {},
     "output_type": "execute_result"
    }
   ],
   "source": [
    "ques_ids = df_train['question_id'].unique()\n",
    "len(ques_ids)"
   ]
  },
  {
   "cell_type": "code",
   "execution_count": 33,
   "metadata": {},
   "outputs": [
    {
     "data": {
      "text/plain": [
       "array(['What is (are) keratoderma with woolly hair ?',\n",
       "       'What are the symptoms of Autosomal dominant intermediate Charcot-Marie-Tooth disease type C ?',\n",
       "       'What is (are) Listeria Infections ?',\n",
       "       'What is (are) Breast pain ?',\n",
       "       'Who should get Glycopyrrolate and why is it prescribed ?'],\n",
       "      dtype=object)"
      ]
     },
     "execution_count": 33,
     "metadata": {},
     "output_type": "execute_result"
    }
   ],
   "source": [
    "df_train[df_train['question_id'] == ques_ids[0]]['question'].values"
   ]
  },
  {
   "cell_type": "markdown",
   "metadata": {},
   "source": [
    "They are different questions"
   ]
  },
  {
   "cell_type": "code",
   "execution_count": 35,
   "metadata": {},
   "outputs": [
    {
     "name": "stdout",
     "output_type": "stream",
     "text": [
      "(44603, 2)\n"
     ]
    },
    {
     "data": {
      "text/html": [
       "<div>\n",
       "<style scoped>\n",
       "    .dataframe tbody tr th:only-of-type {\n",
       "        vertical-align: middle;\n",
       "    }\n",
       "\n",
       "    .dataframe tbody tr th {\n",
       "        vertical-align: top;\n",
       "    }\n",
       "\n",
       "    .dataframe thead th {\n",
       "        text-align: right;\n",
       "    }\n",
       "</style>\n",
       "<table border=\"1\" class=\"dataframe\">\n",
       "  <thead>\n",
       "    <tr style=\"text-align: right;\">\n",
       "      <th></th>\n",
       "      <th>question</th>\n",
       "      <th>relevant_docs_urls</th>\n",
       "    </tr>\n",
       "  </thead>\n",
       "  <tbody>\n",
       "    <tr>\n",
       "      <th>0</th>\n",
       "      <td>What is (are) keratoderma with woolly hair ?</td>\n",
       "      <td>[https://ghr.nlm.nih.gov/condition/keratoderma...</td>\n",
       "    </tr>\n",
       "    <tr>\n",
       "      <th>1</th>\n",
       "      <td>How many people are affected by keratoderma wi...</td>\n",
       "      <td>[https://ghr.nlm.nih.gov/condition/keratoderma...</td>\n",
       "    </tr>\n",
       "  </tbody>\n",
       "</table>\n",
       "</div>"
      ],
      "text/plain": [
       "                                            question  \\\n",
       "0       What is (are) keratoderma with woolly hair ?   \n",
       "1  How many people are affected by keratoderma wi...   \n",
       "\n",
       "                                  relevant_docs_urls  \n",
       "0  [https://ghr.nlm.nih.gov/condition/keratoderma...  \n",
       "1  [https://ghr.nlm.nih.gov/condition/keratoderma...  "
      ]
     },
     "execution_count": 35,
     "metadata": {},
     "output_type": "execute_result"
    }
   ],
   "source": [
    "ques_url_li = []\n",
    "\n",
    "for ques in ques_uniq:\n",
    "    doc_urls = df_train[df_train['question'] == ques]['document_url'].values\n",
    "    relevant_docs = set()\n",
    "    for url in doc_urls:\n",
    "        if url in url_to_parent:\n",
    "            par_url = url_to_parent[url]\n",
    "            relevant_docs.add(par_url)\n",
    "    ques_url_li.append({\n",
    "        'question': ques,\n",
    "        'relevant_docs_urls': list(relevant_docs)\n",
    "    })\n",
    "\n",
    "df_ques_url = pd.DataFrame(ques_url_li)\n",
    "print(df_ques_url.shape)\n",
    "df_ques_url.head(2)"
   ]
  },
  {
   "cell_type": "code",
   "execution_count": 39,
   "metadata": {},
   "outputs": [
    {
     "name": "stdout",
     "output_type": "stream",
     "text": [
      "(37512, 2)\n"
     ]
    },
    {
     "data": {
      "text/html": [
       "<div>\n",
       "<style scoped>\n",
       "    .dataframe tbody tr th:only-of-type {\n",
       "        vertical-align: middle;\n",
       "    }\n",
       "\n",
       "    .dataframe tbody tr th {\n",
       "        vertical-align: top;\n",
       "    }\n",
       "\n",
       "    .dataframe thead th {\n",
       "        text-align: right;\n",
       "    }\n",
       "</style>\n",
       "<table border=\"1\" class=\"dataframe\">\n",
       "  <thead>\n",
       "    <tr style=\"text-align: right;\">\n",
       "      <th></th>\n",
       "      <th>question</th>\n",
       "      <th>relevant_docs_urls</th>\n",
       "    </tr>\n",
       "  </thead>\n",
       "  <tbody>\n",
       "    <tr>\n",
       "      <th>0</th>\n",
       "      <td>What is (are) keratoderma with woolly hair ?</td>\n",
       "      <td>[https://ghr.nlm.nih.gov/condition/keratoderma...</td>\n",
       "    </tr>\n",
       "    <tr>\n",
       "      <th>1</th>\n",
       "      <td>How many people are affected by keratoderma wi...</td>\n",
       "      <td>[https://ghr.nlm.nih.gov/condition/keratoderma...</td>\n",
       "    </tr>\n",
       "  </tbody>\n",
       "</table>\n",
       "</div>"
      ],
      "text/plain": [
       "                                            question  \\\n",
       "0       What is (are) keratoderma with woolly hair ?   \n",
       "1  How many people are affected by keratoderma wi...   \n",
       "\n",
       "                                  relevant_docs_urls  \n",
       "0  [https://ghr.nlm.nih.gov/condition/keratoderma...  \n",
       "1  [https://ghr.nlm.nih.gov/condition/keratoderma...  "
      ]
     },
     "execution_count": 39,
     "metadata": {},
     "output_type": "execute_result"
    }
   ],
   "source": [
    "# Drop the rows where relevant_docs_urls is empty\n",
    "df_ques_url = df_ques_url[df_ques_url['relevant_docs_urls'].apply(len) > 0]\n",
    "print(df_ques_url.shape)\n",
    "df_ques_url.head(2)"
   ]
  },
  {
   "cell_type": "code",
   "execution_count": 41,
   "metadata": {},
   "outputs": [
    {
     "data": {
      "text/plain": [
       "relevant_docs_urls\n",
       "1    37090\n",
       "2      394\n",
       "3       22\n",
       "4        5\n",
       "5        1\n",
       "Name: count, dtype: int64"
      ]
     },
     "execution_count": 41,
     "metadata": {},
     "output_type": "execute_result"
    }
   ],
   "source": [
    "# A histogram of len of relevant_docs_urls\n",
    "num_rel_docs = df_ques_url['relevant_docs_urls'].apply(len)\n",
    "num_rel_docs.value_counts()"
   ]
  },
  {
   "cell_type": "markdown",
   "metadata": {},
   "source": [
    "## Number of tokens analysis"
   ]
  },
  {
   "cell_type": "code",
   "execution_count": 36,
   "metadata": {},
   "outputs": [],
   "source": [
    "bge_base_model_name = \"BAAI/bge-base-en-v1.5\"\n",
    "model = SentenceTransformer(bge_base_model_name)\n",
    "model = model.to('cuda')\n",
    "tokenizer = AutoTokenizer.from_pretrained(bge_base_model_name)"
   ]
  },
  {
   "cell_type": "markdown",
   "metadata": {},
   "source": [
    "## Number of tokens analysis for `nomic-ai/nomic-embed-text-v1` model"
   ]
  },
  {
   "cell_type": "code",
   "execution_count": null,
   "metadata": {},
   "outputs": [],
   "source": [
    "# def trim_whitespaces(x):\n",
    "#     \"\"\"\n",
    "#     Replaces multiple consecutive whitespace characters in the input string with a single space.\n",
    "\n",
    "#     Args:\n",
    "#         x (str): The input string to be processed.\n",
    "\n",
    "#     Returns:\n",
    "#         str: The processed string with consecutive whitespace characters replaced by a single space.\n",
    "#     \"\"\"\n",
    "#     return re.sub(r'\\s+', ' ', x)\n",
    "\n",
    "def trim_whitespaces(x):\n",
    "    \"\"\"\n",
    "    Replaces multiple consecutive space and tab characters in the input string with a single space,\n",
    "    while retaining newline characters.\n",
    "\n",
    "    Args:\n",
    "        x (str): The input string to be processed.\n",
    "\n",
    "    Returns:\n",
    "        str: The processed string with consecutive space and tab characters replaced by a single space.\n",
    "    \"\"\"\n",
    "    return re.sub(r'[ \\t]+', ' ', x)\n",
    "\n",
    "df_url_content['document_content'] = df_url_content['document_content'].apply(trim_whitespaces)"
   ]
  },
  {
   "cell_type": "code",
   "execution_count": 80,
   "metadata": {},
   "outputs": [
    {
     "data": {
      "text/plain": [
       "'Hello\\n World'"
      ]
     },
     "execution_count": 80,
     "metadata": {},
     "output_type": "execute_result"
    }
   ],
   "source": [
    "s = 'Hello\\n   World'\n",
    "trim_whitespaces(s)"
   ]
  },
  {
   "cell_type": "code",
   "execution_count": 57,
   "metadata": {},
   "outputs": [],
   "source": [
    "model_name = \"nomic-ai/nomic-embed-text-v1\"\n",
    "# model = SentenceTransformer(model_name)\n",
    "# model = model.to('cuda')\n",
    "tokenizer = AutoTokenizer.from_pretrained(model_name)"
   ]
  },
  {
   "cell_type": "code",
   "execution_count": null,
   "metadata": {},
   "outputs": [
    {
     "data": {
      "image/png": "[encoded data removed]",
      "text/plain": [
       "<Figure size 640x480 with 1 Axes>"
      ]
     },
     "metadata": {},
     "output_type": "display_data"
    }
   ],
   "source": [
    "# Plot a histogram of the number of tokens in the documents\n",
    "doc_lengths = df_url_content['document_content'].apply(lambda x: len(tokenizer.encode(x)))\n",
    "plt.hist(doc_lengths, bins=100)\n",
    "plt.xlabel('Number of tokens')\n",
    "plt.ylabel('Number of documents')\n",
    "plt.title('Histogram of number of tokens in documents')\n",
    "plt.grid()\n",
    "plt.show()"
   ]
  },
  {
   "cell_type": "code",
   "execution_count": 84,
   "metadata": {},
   "outputs": [
    {
     "name": "stdout",
     "output_type": "stream",
     "text": [
      "Min number of tokens in the documents: 531\n",
      "Max number of tokens in the documents: 7952\n",
      "Mean number of tokens in the documents: 1918.5365172107201\n",
      "Median number of tokens in the documents: 1770.0\n",
      "99th percentile number of tokens in the documents: 6094.920000000009\n"
     ]
    }
   ],
   "source": [
    "# Print min, max, mean, median number of tokens in the documents\n",
    "print(f\"Min number of tokens in the documents: {doc_lengths.min()}\")\n",
    "print(f\"Max number of tokens in the documents: {doc_lengths.max()}\")\n",
    "print(f\"Mean number of tokens in the documents: {doc_lengths.mean()}\")\n",
    "print(f\"Median number of tokens in the documents: {doc_lengths.median()}\")\n",
    "print(f\"99th percentile number of tokens in the documents: {doc_lengths.quantile(0.995)}\")"
   ]
  },
  {
   "cell_type": "markdown",
   "metadata": {},
   "source": [
    "## Final check"
   ]
  },
  {
   "cell_type": "code",
   "execution_count": null,
   "metadata": {},
   "outputs": [],
   "source": [
    "for _, row in df_url_content.iterrows():\n",
    "    # Check if all relevant urls are present in df_url_content_final\n",
    "    rel_docs = row['relevant_docs_urls']\n",
    "    for url in rel_docs:\n",
    "        if url not in df_url_content['document_url'].values:\n",
    "            print(f\"Error: {url} not present in df_url_content_final\")"
   ]
  },
  {
   "cell_type": "code",
   "execution_count": null,
   "metadata": {},
   "outputs": [
    {
     "data": {
      "text/plain": [
       "(36925,)"
      ]
     },
     "execution_count": 62,
     "metadata": {},
     "output_type": "execute_result"
    }
   ],
   "source": [
    "df_ques_url['question'].unique().shape"
   ]
  },
  {
   "cell_type": "code",
   "execution_count": null,
   "metadata": {},
   "outputs": [
    {
     "data": {
      "text/plain": [
       "(7873,)"
      ]
     },
     "execution_count": 63,
     "metadata": {},
     "output_type": "execute_result"
    }
   ],
   "source": [
    "df_url_content['document_url'].unique().shape"
   ]
  },
  {
   "cell_type": "markdown",
   "metadata": {},
   "source": [
    "## Store the data as pickle files"
   ]
  },
  {
   "cell_type": "code",
   "execution_count": null,
   "metadata": {},
   "outputs": [],
   "source": [
    "df_ques_url.to_pickle('data/questions_relevant_urls.pkl')"
   ]
  },
  {
   "cell_type": "code",
   "execution_count": null,
   "metadata": {},
   "outputs": [],
   "source": [
    "df_url_content.to_pickle('data/docs_url_content_trimmed.pkl')"
   ]
  }
 ],
 "metadata": {
  "kernelspec": {
   "display_name": "nlp_env",
   "language": "python",
   "name": "python3"
  },
  "language_info": {
   "codemirror_mode": {
    "name": "ipython",
    "version": 3
   },
   "file_extension": ".py",
   "mimetype": "text/x-python",
   "name": "python",
   "nbconvert_exporter": "python",
   "pygments_lexer": "ipython3",
   "version": "3.10.15"
  }
 },
 "nbformat": 4,
 "nbformat_minor": 2
}
