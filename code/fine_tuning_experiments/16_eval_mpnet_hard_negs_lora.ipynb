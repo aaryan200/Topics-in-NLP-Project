{
 "cells": [
  {
   "cell_type": "markdown",
   "id": "2bac2abe",
   "metadata": {
    "papermill": {
     "duration": 0.012623,
     "end_time": "2024-11-14T07:49:37.926777",
     "exception": false,
     "start_time": "2024-11-14T07:49:37.914154",
     "status": "completed"
    },
    "tags": []
   },
   "source": [
    "## Evaluate LoRA-finetuned [paraphrase-mpnet-base-v2](https://huggingface.co/sentence-transformers/paraphrase-mpnet-base-v2) model\n",
    "The model which was finetuned using **Contrastive Learning** and `CosineSimilarityLoss` is evaluated in this notebook."
   ]
  },
  {
   "cell_type": "code",
   "execution_count": 1,
   "id": "f9883107",
   "metadata": {
    "execution": {
     "iopub.execute_input": "2024-11-14T07:49:37.942388Z",
     "iopub.status.busy": "2024-11-14T07:49:37.941647Z",
     "iopub.status.idle": "2024-11-14T07:49:44.060878Z",
     "shell.execute_reply": "2024-11-14T07:49:44.060168Z"
    },
    "papermill": {
     "duration": 6.127015,
     "end_time": "2024-11-14T07:49:44.062372",
     "exception": false,
     "start_time": "2024-11-14T07:49:37.935357",
     "status": "completed"
    },
    "tags": []
   },
   "outputs": [
    {
     "name": "stderr",
     "output_type": "stream",
     "text": [
      "/export/home/co21btech11001/.conda/envs/nlp_new/lib/python3.10/site-packages/tqdm/auto.py:21: TqdmWarning: IProgress not found. Please update jupyter and ipywidgets. See https://ipywidgets.readthedocs.io/en/stable/user_install.html\n",
      "  from .autonotebook import tqdm as notebook_tqdm\n"
     ]
    }
   ],
   "source": [
    "from peft import AutoPeftModelForFeatureExtraction\n",
    "import torch\n",
    "from transformers import AutoTokenizer\n",
    "import matplotlib.pyplot as plt\n",
    "import pandas as pd\n",
    "# from tqdm.auto import tqdm\n",
    "import numpy as np\n",
    "from scipy import spatial\n",
    "from IPython.display import clear_output\n",
    "import time"
   ]
  },
  {
   "cell_type": "markdown",
   "id": "45a8178c",
   "metadata": {
    "papermill": {
     "duration": 0.005899,
     "end_time": "2024-11-14T07:49:44.136685",
     "exception": false,
     "start_time": "2024-11-14T07:49:44.130786",
     "status": "completed"
    },
    "tags": []
   },
   "source": [
    "## Load data"
   ]
  },
  {
   "cell_type": "code",
   "execution_count": 3,
   "id": "4bb749c8",
   "metadata": {
    "execution": {
     "iopub.execute_input": "2024-11-14T07:49:44.149487Z",
     "iopub.status.busy": "2024-11-14T07:49:44.149244Z",
     "iopub.status.idle": "2024-11-14T07:49:44.174600Z",
     "shell.execute_reply": "2024-11-14T07:49:44.173969Z"
    },
    "papermill": {
     "duration": 0.032703,
     "end_time": "2024-11-14T07:49:44.175393",
     "exception": false,
     "start_time": "2024-11-14T07:49:44.142690",
     "status": "completed"
    },
    "tags": []
   },
   "outputs": [
    {
     "name": "stdout",
     "output_type": "stream",
     "text": [
      "(20000, 3)\n",
      "(5000, 3)\n"
     ]
    },
    {
     "data": {
      "text/html": [
       "<div>\n",
       "<style scoped>\n",
       "    .dataframe tbody tr th:only-of-type {\n",
       "        vertical-align: middle;\n",
       "    }\n",
       "\n",
       "    .dataframe tbody tr th {\n",
       "        vertical-align: top;\n",
       "    }\n",
       "\n",
       "    .dataframe thead th {\n",
       "        text-align: right;\n",
       "    }\n",
       "</style>\n",
       "<table border=\"1\" class=\"dataframe\">\n",
       "  <thead>\n",
       "    <tr style=\"text-align: right;\">\n",
       "      <th></th>\n",
       "      <th>question</th>\n",
       "      <th>relevant_docs_urls</th>\n",
       "      <th>num_rel_chunks</th>\n",
       "    </tr>\n",
       "  </thead>\n",
       "  <tbody>\n",
       "    <tr>\n",
       "      <th>0</th>\n",
       "      <td>What is (are) keratoderma with woolly hair ?</td>\n",
       "      <td>[https://ghr.nlm.nih.gov/condition/keratoderma...</td>\n",
       "      <td>5</td>\n",
       "    </tr>\n",
       "    <tr>\n",
       "      <th>1</th>\n",
       "      <td>How many people are affected by keratoderma wi...</td>\n",
       "      <td>[https://ghr.nlm.nih.gov/condition/keratoderma...</td>\n",
       "      <td>5</td>\n",
       "    </tr>\n",
       "    <tr>\n",
       "      <th>2</th>\n",
       "      <td>What are the genetic changes related to kerato...</td>\n",
       "      <td>[https://ghr.nlm.nih.gov/condition/keratoderma...</td>\n",
       "      <td>5</td>\n",
       "    </tr>\n",
       "  </tbody>\n",
       "</table>\n",
       "</div>"
      ],
      "text/plain": [
       "                                            question  \\\n",
       "0       What is (are) keratoderma with woolly hair ?   \n",
       "1  How many people are affected by keratoderma wi...   \n",
       "2  What are the genetic changes related to kerato...   \n",
       "\n",
       "                                  relevant_docs_urls  num_rel_chunks  \n",
       "0  [https://ghr.nlm.nih.gov/condition/keratoderma...               5  \n",
       "1  [https://ghr.nlm.nih.gov/condition/keratoderma...               5  \n",
       "2  [https://ghr.nlm.nih.gov/condition/keratoderma...               5  "
      ]
     },
     "execution_count": 3,
     "metadata": {},
     "output_type": "execute_result"
    }
   ],
   "source": [
    "df_ques_url_train = pd.read_pickle('../../data/questions_relevant_urls_chunks_train.pkl')\n",
    "df_ques_url_test = pd.read_pickle('../../data/questions_relevant_urls_chunks_test.pkl')\n",
    "\n",
    "print(df_ques_url_train.shape)\n",
    "print(df_ques_url_test.shape)\n",
    "df_ques_url_train.head(3)"
   ]
  },
  {
   "cell_type": "code",
   "execution_count": null,
   "id": "84fbb248",
   "metadata": {
    "execution": {
     "iopub.execute_input": "2024-11-14T07:49:44.220611Z",
     "iopub.status.busy": "2024-11-14T07:49:44.220341Z",
     "iopub.status.idle": "2024-11-14T07:49:44.530707Z",
     "shell.execute_reply": "2024-11-14T07:49:44.530080Z"
    },
    "papermill": {
     "duration": 0.349144,
     "end_time": "2024-11-14T07:49:44.531514",
     "exception": false,
     "start_time": "2024-11-14T07:49:44.182370",
     "status": "completed"
    },
    "tags": []
   },
   "outputs": [
    {
     "name": "stdout",
     "output_type": "stream",
     "text": [
      "(33545, 3)\n"
     ]
    },
    {
     "data": {
      "text/html": [
       "<div>\n",
       "<style scoped>\n",
       "    .dataframe tbody tr th:only-of-type {\n",
       "        vertical-align: middle;\n",
       "    }\n",
       "\n",
       "    .dataframe tbody tr th {\n",
       "        vertical-align: top;\n",
       "    }\n",
       "\n",
       "    .dataframe thead th {\n",
       "        text-align: right;\n",
       "    }\n",
       "</style>\n",
       "<table border=\"1\" class=\"dataframe\">\n",
       "  <thead>\n",
       "    <tr style=\"text-align: right;\">\n",
       "      <th></th>\n",
       "      <th>doc_url</th>\n",
       "      <th>chunk_content</th>\n",
       "      <th>embedding</th>\n",
       "    </tr>\n",
       "  </thead>\n",
       "  <tbody>\n",
       "    <tr>\n",
       "      <th>0</th>\n",
       "      <td>https://ghr.nlm.nih.gov/condition/keratoderma-...</td>\n",
       "      <td>keratoderma with woolly hair : medlineplus gen...</td>\n",
       "      <td>[-0.0090271365, 0.06953493, -0.00038522395, 0....</td>\n",
       "    </tr>\n",
       "    <tr>\n",
       "      <th>1</th>\n",
       "      <td>https://ghr.nlm.nih.gov/condition/keratoderma-...</td>\n",
       "      <td>##ma, woolly hair, and a form of cardiomyopath...</td>\n",
       "      <td>[0.0030107216, 0.11447586, 0.002855658, 0.1539...</td>\n",
       "    </tr>\n",
       "    <tr>\n",
       "      <th>2</th>\n",
       "      <td>https://ghr.nlm.nih.gov/condition/keratoderma-...</td>\n",
       "      <td>##pathy in people with this group of condition...</td>\n",
       "      <td>[0.25198996, 0.2756908, 0.018188898, -0.008292...</td>\n",
       "    </tr>\n",
       "  </tbody>\n",
       "</table>\n",
       "</div>"
      ],
      "text/plain": [
       "                                             doc_url  \\\n",
       "0  https://ghr.nlm.nih.gov/condition/keratoderma-...   \n",
       "1  https://ghr.nlm.nih.gov/condition/keratoderma-...   \n",
       "2  https://ghr.nlm.nih.gov/condition/keratoderma-...   \n",
       "\n",
       "                                       chunk_content  \\\n",
       "0  keratoderma with woolly hair : medlineplus gen...   \n",
       "1  ##ma, woolly hair, and a form of cardiomyopath...   \n",
       "2  ##pathy in people with this group of condition...   \n",
       "\n",
       "                                           embedding  \n",
       "0  [-0.0090271365, 0.06953493, -0.00038522395, 0....  \n",
       "1  [0.0030107216, 0.11447586, 0.002855658, 0.1539...  \n",
       "2  [0.25198996, 0.2756908, 0.018188898, -0.008292...  "
      ]
     },
     "execution_count": 4,
     "metadata": {},
     "output_type": "execute_result"
    }
   ],
   "source": [
    "df_kb = pd.read_pickle('../../data/kb_chunks_emb_finetuned.pkl')\n",
    "print(df_kb.shape)\n",
    "df_kb.head(3)"
   ]
  },
  {
   "cell_type": "markdown",
   "id": "4bbb53ce",
   "metadata": {
    "papermill": {
     "duration": 0.007051,
     "end_time": "2024-11-14T07:49:44.545855",
     "exception": false,
     "start_time": "2024-11-14T07:49:44.538804",
     "status": "completed"
    },
    "tags": []
   },
   "source": [
    "## Load finetuned model"
   ]
  },
  {
   "cell_type": "code",
   "execution_count": 5,
   "id": "658756c5",
   "metadata": {
    "execution": {
     "iopub.execute_input": "2024-11-14T07:49:44.570609Z",
     "iopub.status.busy": "2024-11-14T07:49:44.570116Z",
     "iopub.status.idle": "2024-11-14T07:49:46.451530Z",
     "shell.execute_reply": "2024-11-14T07:49:46.450736Z"
    },
    "papermill": {
     "duration": 1.900528,
     "end_time": "2024-11-14T07:49:46.452426",
     "exception": false,
     "start_time": "2024-11-14T07:49:44.551898",
     "status": "completed"
    },
    "tags": []
   },
   "outputs": [
    {
     "name": "stdout",
     "output_type": "stream",
     "text": [
      "Loaded model\n"
     ]
    }
   ],
   "source": [
    "model = AutoPeftModelForFeatureExtraction.from_pretrained(\"mpnet_peft_ft_hard_negs\").to(\"cuda\")\n",
    "print(\"Loaded model\")"
   ]
  },
  {
   "cell_type": "code",
   "execution_count": 6,
   "id": "4601e798",
   "metadata": {
    "execution": {
     "iopub.execute_input": "2024-11-14T07:49:46.470879Z",
     "iopub.status.busy": "2024-11-14T07:49:46.470347Z",
     "iopub.status.idle": "2024-11-14T07:49:46.743710Z",
     "shell.execute_reply": "2024-11-14T07:49:46.742875Z"
    },
    "papermill": {
     "duration": 0.281082,
     "end_time": "2024-11-14T07:49:46.744731",
     "exception": false,
     "start_time": "2024-11-14T07:49:46.463649",
     "status": "completed"
    },
    "tags": []
   },
   "outputs": [],
   "source": [
    "model_name = \"sentence-transformers/paraphrase-mpnet-base-v2\"\n",
    "tokenizer = AutoTokenizer.from_pretrained(model_name)"
   ]
  },
  {
   "cell_type": "code",
   "execution_count": 7,
   "id": "327d8280",
   "metadata": {
    "execution": {
     "iopub.execute_input": "2024-11-14T07:49:46.798297Z",
     "iopub.status.busy": "2024-11-14T07:49:46.797960Z",
     "iopub.status.idle": "2024-11-14T07:49:46.802839Z",
     "shell.execute_reply": "2024-11-14T07:49:46.802218Z"
    },
    "papermill": {
     "duration": 0.022708,
     "end_time": "2024-11-14T07:49:46.803650",
     "exception": false,
     "start_time": "2024-11-14T07:49:46.780942",
     "status": "completed"
    },
    "tags": []
   },
   "outputs": [],
   "source": [
    "def mean_pooling(model_output, attention_mask):\n",
    "    token_embeddings = model_output[0] #First element of model_output contains all token embeddings\n",
    "    input_mask_expanded = attention_mask.unsqueeze(-1).expand(token_embeddings.size()).float()\n",
    "    return torch.sum(token_embeddings * input_mask_expanded, 1) / torch.clamp(input_mask_expanded.sum(1), min=1e-9)\n",
    "\n",
    "def get_embedding(sentences):\n",
    "    inputs = tokenizer(sentences, padding=\"max_length\", truncation=True, return_tensors=\"pt\")\n",
    "    with torch.no_grad():\n",
    "        outputs = model(**inputs.to(model.device))\n",
    "\n",
    "    embeddings = mean_pooling(outputs, inputs['attention_mask']).cpu().numpy()\n",
    "    return embeddings"
   ]
  },
  {
   "cell_type": "code",
   "execution_count": 8,
   "id": "c2b8a154",
   "metadata": {
    "execution": {
     "iopub.execute_input": "2024-11-14T07:49:46.817998Z",
     "iopub.status.busy": "2024-11-14T07:49:46.817656Z",
     "iopub.status.idle": "2024-11-14T07:49:47.244100Z",
     "shell.execute_reply": "2024-11-14T07:49:47.243429Z"
    },
    "papermill": {
     "duration": 0.434326,
     "end_time": "2024-11-14T07:49:47.244916",
     "exception": false,
     "start_time": "2024-11-14T07:49:46.810590",
     "status": "completed"
    },
    "tags": []
   },
   "outputs": [
    {
     "name": "stdout",
     "output_type": "stream",
     "text": [
      "(2, 768)\n"
     ]
    }
   ],
   "source": [
    "sentences = [\"Hello world\", \"Hi there\"]\n",
    "embeddings = get_embedding(sentences)\n",
    "print(embeddings.shape)"
   ]
  },
  {
   "cell_type": "code",
   "execution_count": 9,
   "id": "2846554b",
   "metadata": {
    "execution": {
     "iopub.execute_input": "2024-11-14T07:49:47.298177Z",
     "iopub.status.busy": "2024-11-14T07:49:47.297703Z",
     "iopub.status.idle": "2024-11-14T07:49:47.302572Z",
     "shell.execute_reply": "2024-11-14T07:49:47.302093Z"
    },
    "papermill": {
     "duration": 0.041512,
     "end_time": "2024-11-14T07:49:47.303316",
     "exception": false,
     "start_time": "2024-11-14T07:49:47.261804",
     "status": "completed"
    },
    "tags": []
   },
   "outputs": [
    {
     "data": {
      "text/plain": [
       "np.float32(0.08807641)"
      ]
     },
     "execution_count": 9,
     "metadata": {},
     "output_type": "execute_result"
    }
   ],
   "source": [
    "1 - spatial.distance.cosine(embeddings[0], embeddings[1])"
   ]
  },
  {
   "cell_type": "code",
   "execution_count": null,
   "id": "a6bc25e0",
   "metadata": {
    "execution": {
     "iopub.execute_input": "2024-11-14T07:49:47.317926Z",
     "iopub.status.busy": "2024-11-14T07:49:47.317698Z",
     "iopub.status.idle": "2024-11-14T07:49:47.320024Z",
     "shell.execute_reply": "2024-11-14T07:49:47.319552Z"
    },
    "papermill": {
     "duration": 0.010056,
     "end_time": "2024-11-14T07:49:47.320721",
     "exception": false,
     "start_time": "2024-11-14T07:49:47.310665",
     "status": "completed"
    },
    "tags": []
   },
   "outputs": [],
   "source": [
    "df_kb['embedding'] = df_kb['chunk_content'].apply(\n",
    "    lambda x: get_embedding([x])[0]\n",
    ")\n",
    "df_kb.to_pickle('../../data/kb_chunks_emb_finetuned_lora_hard_negs.pkl')"
   ]
  },
  {
   "cell_type": "markdown",
   "id": "30fd62d2",
   "metadata": {
    "papermill": {
     "duration": 0.006652,
     "end_time": "2024-11-14T07:49:47.337545",
     "exception": false,
     "start_time": "2024-11-14T07:49:47.330893",
     "status": "completed"
    },
    "tags": []
   },
   "source": [
    "## Evaluate"
   ]
  },
  {
   "cell_type": "code",
   "execution_count": 11,
   "id": "4aa7a39f",
   "metadata": {
    "execution": {
     "iopub.execute_input": "2024-11-14T07:49:47.350781Z",
     "iopub.status.busy": "2024-11-14T07:49:47.350548Z",
     "iopub.status.idle": "2024-11-14T07:49:47.356139Z",
     "shell.execute_reply": "2024-11-14T07:49:47.355623Z"
    },
    "papermill": {
     "duration": 0.013165,
     "end_time": "2024-11-14T07:49:47.356852",
     "exception": false,
     "start_time": "2024-11-14T07:49:47.343687",
     "status": "completed"
    },
    "tags": []
   },
   "outputs": [],
   "source": [
    "def cos_sim(a, b):\n",
    "    return 1 - spatial.distance.cosine(a, b)\n",
    "\n",
    "def retrieve(ques, df_kb, model):\n",
    "    question_embedding = get_embedding([ques])[0]\n",
    "    # Copy the 'doc_url' and 'embedding' columns to a new dataframe\n",
    "    df_kb_copy = df_kb[['doc_url', 'embedding']].copy()\n",
    "     # Calculate the cosine similarity between the question embedding and all document embeddings\n",
    "    df_kb_copy['cosine_similarity'] = df_kb_copy['embedding'].apply(\n",
    "        lambda x: cos_sim(question_embedding, x))\n",
    "    # Sort the dataframe by the cosine similarity in descending order\n",
    "    df_kb_copy = df_kb_copy.sort_values(by='cosine_similarity', ascending=False)\n",
    "    ret_urls = df_kb_copy['doc_url'].values\n",
    "    return ret_urls\n",
    "\n",
    "def recall_at_k(num_rel_chunks, relevant_docs_urls, top_retrieved_urls):\n",
    "    \"\"\"\n",
    "    Procedure:\n",
    "    - Among top_retrieved_urls, count the number of urls which are relevant\n",
    "    - Divide this count by the total number of relevant urls\n",
    "    \"\"\"\n",
    "    num_relevant = 0\n",
    "    for url in top_retrieved_urls:\n",
    "        if url in relevant_docs_urls:\n",
    "            num_relevant += 1\n",
    "    return num_relevant / num_rel_chunks\n",
    "\n",
    "def mrr_at_k(relevant_docs_urls, top_retrieved_urls):\n",
    "    \"\"\"\n",
    "    Procedure:\n",
    "    - For each relevant_docs_urls, find the top index in top_retrieved_urls\n",
    "    - Take the reciprocal of this index\n",
    "    - Return the mean of these reciprocals\n",
    "    \"\"\"\n",
    "    li = []\n",
    "    for url in relevant_docs_urls:\n",
    "        if url in top_retrieved_urls:\n",
    "            # list.index returns the first occurrence of the url\n",
    "            li.append(1 / (list(top_retrieved_urls).index(url) + 1))\n",
    "    if len(li) == 0:\n",
    "        return 0\n",
    "    return np.mean(li)"
   ]
  },
  {
   "cell_type": "code",
   "execution_count": 12,
   "id": "eb0232e2",
   "metadata": {
    "execution": {
     "iopub.execute_input": "2024-11-14T07:49:47.378254Z",
     "iopub.status.busy": "2024-11-14T07:49:47.377790Z",
     "iopub.status.idle": "2024-11-14T07:49:47.387555Z",
     "shell.execute_reply": "2024-11-14T07:49:47.387072Z"
    },
    "papermill": {
     "duration": 0.017519,
     "end_time": "2024-11-14T07:49:47.388264",
     "exception": false,
     "start_time": "2024-11-14T07:49:47.370745",
     "status": "completed"
    },
    "tags": []
   },
   "outputs": [],
   "source": [
    "def evaluate(df_ques_url):\n",
    "    recall_1_li = []; mrr_1_li = []\n",
    "    recall_3_li = []; mrr_3_li = []\n",
    "    recall_10_li = []; mrr_10_li = []\n",
    "    recall_100_li = []; mrr_100_li = []\n",
    "\n",
    "    start_time = time.time()\n",
    "    complete = 0\n",
    "    total = len(df_ques_url)\n",
    "    for _, row in df_ques_url.iterrows():\n",
    "        ques = row['question']\n",
    "        relevant_urls = row['relevant_docs_urls']\n",
    "        num_rel_chunks = row['num_rel_chunks']\n",
    "\n",
    "        retrieved_urls = retrieve(ques, df_kb, model)\n",
    "\n",
    "        temp_recall_1 = recall_at_k(num_rel_chunks, relevant_urls, retrieved_urls[:1])\n",
    "        temp_mrr_1 = mrr_at_k(relevant_urls, retrieved_urls[:1])\n",
    "        temp_recall_3 = recall_at_k(num_rel_chunks, relevant_urls, retrieved_urls[:3])\n",
    "        temp_mrr_3 = mrr_at_k(relevant_urls, retrieved_urls[:3])\n",
    "        temp_recall_10 = recall_at_k(num_rel_chunks, relevant_urls, retrieved_urls[:10])\n",
    "        temp_mrr_10 = mrr_at_k(relevant_urls, retrieved_urls[:10])\n",
    "        temp_recall_100 = recall_at_k(num_rel_chunks, relevant_urls, retrieved_urls[:100])\n",
    "        temp_mrr_100 = mrr_at_k(relevant_urls, retrieved_urls[:100])\n",
    "\n",
    "        recall_1_li.append(temp_recall_1); mrr_1_li.append(temp_mrr_1)\n",
    "        recall_3_li.append(temp_recall_3); mrr_3_li.append(temp_mrr_3)\n",
    "        recall_10_li.append(temp_recall_10); mrr_10_li.append(temp_mrr_10)\n",
    "        recall_100_li.append(temp_recall_100); mrr_100_li.append(temp_mrr_100)\n",
    "\n",
    "        complete += 1\n",
    "        percent_comp = (complete/total)*100\n",
    "        clear_output(wait=True)\n",
    "        print(f\"Completed: {complete}/{total}: ({percent_comp:.2f}%)\")\n",
    "\n",
    "    end_time = time.time()\n",
    "    time_taken = end_time - start_time\n",
    "    print(f\"Time taken: {time_taken:.2f} seconds\")\n",
    "\n",
    "    return recall_1_li, mrr_1_li, recall_3_li, mrr_3_li, recall_10_li, mrr_10_li, recall_100_li, mrr_100_li\n",
    "\n",
    "def print_plot_results(df_ques_url):\n",
    "    recall_1, mrr_1, recall_3, mrr_3, \\\n",
    "    recall_10, mrr_10, recall_100, mrr_100 = evaluate(df_ques_url)\n",
    "\n",
    "    recall_1_score = np.mean(recall_1); mrr_1_score = np.mean(mrr_1)\n",
    "    recall_3_score = np.mean(recall_3); mrr_3_score = np.mean(mrr_3)\n",
    "    recall_10_score = np.mean(recall_10); mrr_10_score = np.mean(mrr_10)\n",
    "    recall_100_score = np.mean(recall_100); mrr_100_score = np.mean(mrr_100)\n",
    "\n",
    "    print(f\"Recall@1: {recall_1_score:.4f}\")\n",
    "    print(f\"Recall@3: {recall_3_score:.4f}\")\n",
    "    print(f\"Recall@10: {recall_10_score:.4f}\")\n",
    "    print(f\"Recall@100: {recall_100_score:.4f}\")\n",
    "    print()\n",
    "    print(f\"MRR@1: {mrr_1_score:.4f}\")\n",
    "    print(f\"MRR@3: {mrr_3_score:.4f}\")\n",
    "    print(f\"MRR@10: {mrr_10_score:.4f}\")\n",
    "    print(f\"MRR@100: {mrr_100_score:.4f}\")\n",
    "\n",
    "    # Plot recall scores on histograms\n",
    "    fig, ax = plt.subplots(2, 2, figsize=(15, 10))\n",
    "    ax[0, 0].hist(recall_1, bins=10, color='r', alpha=0.7)\n",
    "    ax[0, 0].set_title('Recall@1')\n",
    "    ax[0, 1].hist(recall_3, bins=10, color='g', alpha=0.7)\n",
    "    ax[0, 1].set_title('Recall@3')\n",
    "    ax[1, 0].hist(recall_10, bins=10, color='b', alpha=0.7)\n",
    "    ax[1, 0].set_title('Recall@10')\n",
    "    ax[1, 1].hist(recall_100, bins=10, color='y', alpha=0.7)\n",
    "    ax[1, 1].set_title('Recall@100')\n",
    "    plt.show()"
   ]
  },
  {
   "cell_type": "code",
   "execution_count": 13,
   "id": "c52c47bc",
   "metadata": {
    "execution": {
     "iopub.execute_input": "2024-11-14T07:49:47.402763Z",
     "iopub.status.busy": "2024-11-14T07:49:47.402570Z",
     "iopub.status.idle": "2024-11-14T10:16:47.201704Z",
     "shell.execute_reply": "2024-11-14T10:16:47.201047Z"
    },
    "papermill": {
     "duration": 8819.807765,
     "end_time": "2024-11-14T10:16:47.203396",
     "exception": false,
     "start_time": "2024-11-14T07:49:47.395631",
     "status": "completed"
    },
    "tags": []
   },
   "outputs": [
    {
     "name": "stdout",
     "output_type": "stream",
     "text": [
      "Completed: 20000/20000: (100.00%)\n",
      "Time taken: 8819.30 seconds\n",
      "Recall@1: 0.1731\n",
      "Recall@3: 0.2769\n",
      "Recall@10: 0.3488\n",
      "Recall@100: 0.4347\n",
      "\n",
      "MRR@1: 0.6977\n",
      "MRR@3: 0.7567\n",
      "MRR@10: 0.7671\n",
      "MRR@100: 0.7688\n"
     ]
    },
    {
     "data": {
      "image/png": "[encoded data removed]",
      "text/plain": [
       "<Figure size 1500x1000 with 4 Axes>"
      ]
     },
     "metadata": {},
     "output_type": "display_data"
    }
   ],
   "source": [
    "print_plot_results(df_ques_url_train)"
   ]
  },
  {
   "cell_type": "code",
   "execution_count": 14,
   "id": "1858dd6b",
   "metadata": {
    "execution": {
     "iopub.execute_input": "2024-11-14T10:16:47.247181Z",
     "iopub.status.busy": "2024-11-14T10:16:47.247015Z",
     "iopub.status.idle": "2024-11-14T10:54:08.647380Z",
     "shell.execute_reply": "2024-11-14T10:54:08.646655Z"
    },
    "papermill": {
     "duration": 2241.410801,
     "end_time": "2024-11-14T10:54:08.648860",
     "exception": false,
     "start_time": "2024-11-14T10:16:47.238059",
     "status": "completed"
    },
    "tags": []
   },
   "outputs": [
    {
     "name": "stdout",
     "output_type": "stream",
     "text": [
      "Completed: 5000/5000: (100.00%)\n",
      "Time taken: 2241.04 seconds\n",
      "Recall@1: 0.1598\n",
      "Recall@3: 0.2270\n",
      "Recall@10: 0.2769\n",
      "Recall@100: 0.3612\n",
      "\n",
      "MRR@1: 0.6044\n",
      "MRR@3: 0.6511\n",
      "MRR@10: 0.6657\n",
      "MRR@100: 0.6696\n"
     ]
    },
    {
     "data": {
      "image/png": "[encoded data removed]",
      "text/plain": [
       "<Figure size 1500x1000 with 4 Axes>"
      ]
     },
     "metadata": {},
     "output_type": "display_data"
    }
   ],
   "source": [
    "print_plot_results(df_ques_url_test)"
   ]
  }
 ],
 "metadata": {
  "kernelspec": {
   "display_name": "nlp_env",
   "language": "python",
   "name": "python3"
  },
  "language_info": {
   "codemirror_mode": {
    "name": "ipython",
    "version": 3
   },
   "file_extension": ".py",
   "mimetype": "text/x-python",
   "name": "python",
   "nbconvert_exporter": "python",
   "pygments_lexer": "ipython3",
   "version": "3.10.15"
  },
  "papermill": {
   "default_parameters": {},
   "duration": 11073.534331,
   "end_time": "2024-11-14T10:54:10.120475",
   "environment_variables": {},
   "exception": null,
   "input_path": "14_eval_mpnet_lora_hard_negs.ipynb",
   "output_path": "14_eval_mpnet_lora_hard_negs_out.ipynb",
   "parameters": {},
   "start_time": "2024-11-14T07:49:36.586144",
   "version": "2.6.0"
  }
 },
 "nbformat": 4,
 "nbformat_minor": 5
}
