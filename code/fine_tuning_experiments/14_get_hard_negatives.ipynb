{
 "cells": [
  {
   "cell_type": "markdown",
   "id": "2d1fd0e1",
   "metadata": {
    "papermill": {
     "duration": 0.010131,
     "end_time": "2024-11-13T18:21:58.941940",
     "exception": false,
     "start_time": "2024-11-13T18:21:58.931809",
     "status": "completed"
    },
    "tags": []
   },
   "source": [
    "## Notebook to create hard negatives for fine-tuning the [paraphrase-mpnet-base-v2](https://huggingface.co/sentence-transformers/paraphrase-mpnet-base-v2) model"
   ]
  },
  {
   "cell_type": "code",
   "execution_count": 1,
   "id": "ccd0e2f6",
   "metadata": {
    "execution": {
     "iopub.execute_input": "2024-11-13T18:21:58.963548Z",
     "iopub.status.busy": "2024-11-13T18:21:58.963087Z",
     "iopub.status.idle": "2024-11-13T18:22:02.504421Z",
     "shell.execute_reply": "2024-11-13T18:22:02.503588Z"
    },
    "papermill": {
     "duration": 3.55475,
     "end_time": "2024-11-13T18:22:02.507058",
     "exception": false,
     "start_time": "2024-11-13T18:21:58.952308",
     "status": "completed"
    },
    "tags": []
   },
   "outputs": [
    {
     "name": "stderr",
     "output_type": "stream",
     "text": [
      "/export/home/co21btech11001/.conda/envs/nlp_new/lib/python3.10/site-packages/sentence_transformers/cross_encoder/CrossEncoder.py:13: TqdmWarning: IProgress not found. Please update jupyter and ipywidgets. See https://ipywidgets.readthedocs.io/en/stable/user_install.html\n",
      "  from tqdm.autonotebook import tqdm, trange\n"
     ]
    }
   ],
   "source": [
    "from sentence_transformers import SentenceTransformer\n",
    "from transformers import AutoTokenizer\n",
    "import matplotlib.pyplot as plt\n",
    "import pandas as pd\n",
    "from tqdm import tqdm\n",
    "import numpy as np\n",
    "from scipy import spatial\n",
    "# from torchinfo import summary\n",
    "import time\n",
    "from IPython.display import clear_output"
   ]
  },
  {
   "cell_type": "markdown",
   "id": "fb0fa01f",
   "metadata": {
    "papermill": {
     "duration": 0.050276,
     "end_time": "2024-11-13T18:22:02.569877",
     "exception": false,
     "start_time": "2024-11-13T18:22:02.519601",
     "status": "completed"
    },
    "tags": []
   },
   "source": [
    "## Load Data"
   ]
  },
  {
   "cell_type": "code",
   "execution_count": 2,
   "id": "f16fbefa",
   "metadata": {
    "execution": {
     "iopub.execute_input": "2024-11-13T18:22:02.619144Z",
     "iopub.status.busy": "2024-11-13T18:22:02.618702Z",
     "iopub.status.idle": "2024-11-13T18:22:02.649310Z",
     "shell.execute_reply": "2024-11-13T18:22:02.648633Z"
    },
    "papermill": {
     "duration": 0.053814,
     "end_time": "2024-11-13T18:22:02.652315",
     "exception": false,
     "start_time": "2024-11-13T18:22:02.598501",
     "status": "completed"
    },
    "tags": []
   },
   "outputs": [
    {
     "name": "stdout",
     "output_type": "stream",
     "text": [
      "(20000, 3)\n",
      "(5000, 3)\n"
     ]
    },
    {
     "data": {
      "text/html": [
       "<div>\n",
       "<style scoped>\n",
       "    .dataframe tbody tr th:only-of-type {\n",
       "        vertical-align: middle;\n",
       "    }\n",
       "\n",
       "    .dataframe tbody tr th {\n",
       "        vertical-align: top;\n",
       "    }\n",
       "\n",
       "    .dataframe thead th {\n",
       "        text-align: right;\n",
       "    }\n",
       "</style>\n",
       "<table border=\"1\" class=\"dataframe\">\n",
       "  <thead>\n",
       "    <tr style=\"text-align: right;\">\n",
       "      <th></th>\n",
       "      <th>question</th>\n",
       "      <th>relevant_docs_urls</th>\n",
       "      <th>num_rel_chunks</th>\n",
       "    </tr>\n",
       "  </thead>\n",
       "  <tbody>\n",
       "    <tr>\n",
       "      <th>0</th>\n",
       "      <td>What is (are) keratoderma with woolly hair ?</td>\n",
       "      <td>[https://ghr.nlm.nih.gov/condition/keratoderma...</td>\n",
       "      <td>5</td>\n",
       "    </tr>\n",
       "    <tr>\n",
       "      <th>1</th>\n",
       "      <td>How many people are affected by keratoderma wi...</td>\n",
       "      <td>[https://ghr.nlm.nih.gov/condition/keratoderma...</td>\n",
       "      <td>5</td>\n",
       "    </tr>\n",
       "    <tr>\n",
       "      <th>2</th>\n",
       "      <td>What are the genetic changes related to kerato...</td>\n",
       "      <td>[https://ghr.nlm.nih.gov/condition/keratoderma...</td>\n",
       "      <td>5</td>\n",
       "    </tr>\n",
       "  </tbody>\n",
       "</table>\n",
       "</div>"
      ],
      "text/plain": [
       "                                            question  \\\n",
       "0       What is (are) keratoderma with woolly hair ?   \n",
       "1  How many people are affected by keratoderma wi...   \n",
       "2  What are the genetic changes related to kerato...   \n",
       "\n",
       "                                  relevant_docs_urls  num_rel_chunks  \n",
       "0  [https://ghr.nlm.nih.gov/condition/keratoderma...               5  \n",
       "1  [https://ghr.nlm.nih.gov/condition/keratoderma...               5  \n",
       "2  [https://ghr.nlm.nih.gov/condition/keratoderma...               5  "
      ]
     },
     "execution_count": 2,
     "metadata": {},
     "output_type": "execute_result"
    }
   ],
   "source": [
    "df_ques_url_train = pd.read_pickle('../../data/questions_relevant_urls_chunks_train.pkl')\n",
    "df_ques_url_test = pd.read_pickle('../../data/questions_relevant_urls_chunks_test.pkl')\n",
    "\n",
    "print(df_ques_url_train.shape)\n",
    "print(df_ques_url_test.shape)\n",
    "df_ques_url_train.head(3)"
   ]
  },
  {
   "cell_type": "code",
   "execution_count": 3,
   "id": "a01d786f",
   "metadata": {
    "execution": {
     "iopub.execute_input": "2024-11-13T18:22:02.674941Z",
     "iopub.status.busy": "2024-11-13T18:22:02.674733Z",
     "iopub.status.idle": "2024-11-13T18:22:03.255141Z",
     "shell.execute_reply": "2024-11-13T18:22:03.254475Z"
    },
    "papermill": {
     "duration": 0.595014,
     "end_time": "2024-11-13T18:22:03.258514",
     "exception": false,
     "start_time": "2024-11-13T18:22:02.663500",
     "status": "completed"
    },
    "tags": []
   },
   "outputs": [
    {
     "name": "stdout",
     "output_type": "stream",
     "text": [
      "(33545, 3)\n"
     ]
    },
    {
     "data": {
      "text/html": [
       "<div>\n",
       "<style scoped>\n",
       "    .dataframe tbody tr th:only-of-type {\n",
       "        vertical-align: middle;\n",
       "    }\n",
       "\n",
       "    .dataframe tbody tr th {\n",
       "        vertical-align: top;\n",
       "    }\n",
       "\n",
       "    .dataframe thead th {\n",
       "        text-align: right;\n",
       "    }\n",
       "</style>\n",
       "<table border=\"1\" class=\"dataframe\">\n",
       "  <thead>\n",
       "    <tr style=\"text-align: right;\">\n",
       "      <th></th>\n",
       "      <th>doc_url</th>\n",
       "      <th>chunk_content</th>\n",
       "      <th>embedding</th>\n",
       "    </tr>\n",
       "  </thead>\n",
       "  <tbody>\n",
       "    <tr>\n",
       "      <th>0</th>\n",
       "      <td>https://ghr.nlm.nih.gov/condition/keratoderma-...</td>\n",
       "      <td>keratoderma with woolly hair : medlineplus gen...</td>\n",
       "      <td>[-0.0039987266, 0.08037464, 0.049785912, -0.12...</td>\n",
       "    </tr>\n",
       "    <tr>\n",
       "      <th>1</th>\n",
       "      <td>https://ghr.nlm.nih.gov/condition/keratoderma-...</td>\n",
       "      <td>##ma, woolly hair, and a form of cardiomyopath...</td>\n",
       "      <td>[-0.09539697, -0.09132044, 0.0027289127, 0.005...</td>\n",
       "    </tr>\n",
       "    <tr>\n",
       "      <th>2</th>\n",
       "      <td>https://ghr.nlm.nih.gov/condition/keratoderma-...</td>\n",
       "      <td>##pathy in people with this group of condition...</td>\n",
       "      <td>[0.026278932, 0.060939535, 0.031438153, -0.044...</td>\n",
       "    </tr>\n",
       "  </tbody>\n",
       "</table>\n",
       "</div>"
      ],
      "text/plain": [
       "                                             doc_url  \\\n",
       "0  https://ghr.nlm.nih.gov/condition/keratoderma-...   \n",
       "1  https://ghr.nlm.nih.gov/condition/keratoderma-...   \n",
       "2  https://ghr.nlm.nih.gov/condition/keratoderma-...   \n",
       "\n",
       "                                       chunk_content  \\\n",
       "0  keratoderma with woolly hair : medlineplus gen...   \n",
       "1  ##ma, woolly hair, and a form of cardiomyopath...   \n",
       "2  ##pathy in people with this group of condition...   \n",
       "\n",
       "                                           embedding  \n",
       "0  [-0.0039987266, 0.08037464, 0.049785912, -0.12...  \n",
       "1  [-0.09539697, -0.09132044, 0.0027289127, 0.005...  \n",
       "2  [0.026278932, 0.060939535, 0.031438153, -0.044...  "
      ]
     },
     "execution_count": 3,
     "metadata": {},
     "output_type": "execute_result"
    }
   ],
   "source": [
    "df_kb = pd.read_pickle('../../data/kb_chunks_emb.pkl')\n",
    "print(df_kb.shape)\n",
    "df_kb.head(3)"
   ]
  },
  {
   "cell_type": "markdown",
   "id": "50ef08e8",
   "metadata": {
    "papermill": {
     "duration": 0.01131,
     "end_time": "2024-11-13T18:22:03.304560",
     "exception": false,
     "start_time": "2024-11-13T18:22:03.293250",
     "status": "completed"
    },
    "tags": []
   },
   "source": [
    "## Load Model"
   ]
  },
  {
   "cell_type": "code",
   "execution_count": 4,
   "id": "d8ae6028",
   "metadata": {
    "execution": {
     "iopub.execute_input": "2024-11-13T18:22:03.344933Z",
     "iopub.status.busy": "2024-11-13T18:22:03.344697Z",
     "iopub.status.idle": "2024-11-13T18:22:06.825898Z",
     "shell.execute_reply": "2024-11-13T18:22:06.824886Z"
    },
    "papermill": {
     "duration": 3.511581,
     "end_time": "2024-11-13T18:22:06.828640",
     "exception": false,
     "start_time": "2024-11-13T18:22:03.317059",
     "status": "completed"
    },
    "tags": []
   },
   "outputs": [],
   "source": [
    "model_name = \"sentence-transformers/paraphrase-mpnet-base-v2\"\n",
    "model = SentenceTransformer(model_name)\n",
    "model = model.to('cuda')"
   ]
  },
  {
   "cell_type": "markdown",
   "id": "25ee5245",
   "metadata": {
    "papermill": {
     "duration": 0.011314,
     "end_time": "2024-11-13T18:22:06.854311",
     "exception": false,
     "start_time": "2024-11-13T18:22:06.842997",
     "status": "completed"
    },
    "tags": []
   },
   "source": [
    "## Create Hard Negatives"
   ]
  },
  {
   "cell_type": "code",
   "execution_count": null,
   "id": "75ed3712",
   "metadata": {
    "execution": {
     "iopub.execute_input": "2024-11-13T18:22:06.903849Z",
     "iopub.status.busy": "2024-11-13T18:22:06.903413Z",
     "iopub.status.idle": "2024-11-13T18:22:06.911016Z",
     "shell.execute_reply": "2024-11-13T18:22:06.910164Z"
    },
    "papermill": {
     "duration": 0.047036,
     "end_time": "2024-11-13T18:22:06.913139",
     "exception": false,
     "start_time": "2024-11-13T18:22:06.866103",
     "status": "completed"
    },
    "tags": []
   },
   "outputs": [],
   "source": [
    "def cos_sim(a, b):\n",
    "    return 1 - spatial.distance.cosine(a, b)\n",
    "\n",
    "def retrieve(ques, df_kb, model):\n",
    "    question_embedding = model.encode(ques, convert_to_tensor=True).cpu().numpy()\n",
    "    # Copy the 'doc_url' and 'embedding' columns to a new dataframe\n",
    "    df_kb_copy = df_kb[['doc_url', 'embedding']].copy()\n",
    "     # Calculate the cosine similarity between the question embedding and all document embeddings\n",
    "    df_kb_copy['cosine_similarity'] = df_kb_copy['embedding'].apply(\n",
    "        lambda x: cos_sim(question_embedding, x))\n",
    "    # Sort the dataframe by the cosine similarity in descending order\n",
    "    df_kb_copy = df_kb_copy.sort_values(by='cosine_similarity', ascending=False)\n",
    "    ret_urls = df_kb_copy['doc_url'].values\n",
    "    return ret_urls\n",
    "\n",
    "def get_hard_negs(row):\n",
    "    \"\"\"\n",
    "    Get the hard negatives corresponding to a question by retrieving the relevant documents and\n",
    "    removing the relevant documents from the retrieved documents.\n",
    "    \"\"\"\n",
    "    ques = row['question']\n",
    "    ret_urls = retrieve(ques, df_kb, model)\n",
    "    rel_urls = row['relevant_docs_urls']\n",
    "    hard_negs = [url for url in ret_urls if url not in rel_urls]\n",
    "    return hard_negs"
   ]
  },
  {
   "cell_type": "code",
   "execution_count": 6,
   "id": "adb5d46a",
   "metadata": {
    "execution": {
     "iopub.execute_input": "2024-11-13T18:22:06.937690Z",
     "iopub.status.busy": "2024-11-13T18:22:06.937295Z",
     "iopub.status.idle": "2024-11-13T20:06:08.587622Z",
     "shell.execute_reply": "2024-11-13T20:06:08.585870Z"
    },
    "papermill": {
     "duration": 6241.668202,
     "end_time": "2024-11-13T20:06:08.592736",
     "exception": false,
     "start_time": "2024-11-13T18:22:06.924534",
     "status": "completed"
    },
    "tags": []
   },
   "outputs": [],
   "source": [
    "df_ques_url_train['hard_negatives_li'] = df_ques_url_train.apply(get_hard_negs, axis=1)\n",
    "df_ques_url_train.to_pickle('../../data/ques_rel_url_hard_negs_train.pkl')"
   ]
  },
  {
   "cell_type": "code",
   "execution_count": 7,
   "id": "c3444eba",
   "metadata": {
    "execution": {
     "iopub.execute_input": "2024-11-13T20:06:08.653490Z",
     "iopub.status.busy": "2024-11-13T20:06:08.652836Z",
     "iopub.status.idle": "2024-11-13T20:06:08.684854Z",
     "shell.execute_reply": "2024-11-13T20:06:08.683610Z"
    },
    "papermill": {
     "duration": 0.048141,
     "end_time": "2024-11-13T20:06:08.687106",
     "exception": false,
     "start_time": "2024-11-13T20:06:08.638965",
     "status": "completed"
    },
    "tags": []
   },
   "outputs": [
    {
     "data": {
      "text/html": [
       "<div>\n",
       "<style scoped>\n",
       "    .dataframe tbody tr th:only-of-type {\n",
       "        vertical-align: middle;\n",
       "    }\n",
       "\n",
       "    .dataframe tbody tr th {\n",
       "        vertical-align: top;\n",
       "    }\n",
       "\n",
       "    .dataframe thead th {\n",
       "        text-align: right;\n",
       "    }\n",
       "</style>\n",
       "<table border=\"1\" class=\"dataframe\">\n",
       "  <thead>\n",
       "    <tr style=\"text-align: right;\">\n",
       "      <th></th>\n",
       "      <th>question</th>\n",
       "      <th>relevant_docs_urls</th>\n",
       "      <th>num_rel_chunks</th>\n",
       "      <th>hard_negatives_li</th>\n",
       "    </tr>\n",
       "  </thead>\n",
       "  <tbody>\n",
       "    <tr>\n",
       "      <th>0</th>\n",
       "      <td>What is (are) keratoderma with woolly hair ?</td>\n",
       "      <td>[https://ghr.nlm.nih.gov/condition/keratoderma...</td>\n",
       "      <td>5</td>\n",
       "      <td>[https://www.nlm.nih.gov/medlineplus/ency/arti...</td>\n",
       "    </tr>\n",
       "    <tr>\n",
       "      <th>1</th>\n",
       "      <td>How many people are affected by keratoderma wi...</td>\n",
       "      <td>[https://ghr.nlm.nih.gov/condition/keratoderma...</td>\n",
       "      <td>5</td>\n",
       "      <td>[https://www.nlm.nih.gov/medlineplus/ency/arti...</td>\n",
       "    </tr>\n",
       "    <tr>\n",
       "      <th>2</th>\n",
       "      <td>What are the genetic changes related to kerato...</td>\n",
       "      <td>[https://ghr.nlm.nih.gov/condition/keratoderma...</td>\n",
       "      <td>5</td>\n",
       "      <td>[https://ghr.nlm.nih.gov/condition/monilethrix...</td>\n",
       "    </tr>\n",
       "    <tr>\n",
       "      <th>3</th>\n",
       "      <td>Is keratoderma with woolly hair inherited ?</td>\n",
       "      <td>[https://ghr.nlm.nih.gov/condition/keratoderma...</td>\n",
       "      <td>5</td>\n",
       "      <td>[https://www.nlm.nih.gov/medlineplus/ency/arti...</td>\n",
       "    </tr>\n",
       "    <tr>\n",
       "      <th>4</th>\n",
       "      <td>What are the treatments for keratoderma with w...</td>\n",
       "      <td>[https://ghr.nlm.nih.gov/condition/keratoderma...</td>\n",
       "      <td>5</td>\n",
       "      <td>[https://www.nlm.nih.gov/medlineplus/ency/arti...</td>\n",
       "    </tr>\n",
       "  </tbody>\n",
       "</table>\n",
       "</div>"
      ],
      "text/plain": [
       "                                            question  \\\n",
       "0       What is (are) keratoderma with woolly hair ?   \n",
       "1  How many people are affected by keratoderma wi...   \n",
       "2  What are the genetic changes related to kerato...   \n",
       "3        Is keratoderma with woolly hair inherited ?   \n",
       "4  What are the treatments for keratoderma with w...   \n",
       "\n",
       "                                  relevant_docs_urls  num_rel_chunks  \\\n",
       "0  [https://ghr.nlm.nih.gov/condition/keratoderma...               5   \n",
       "1  [https://ghr.nlm.nih.gov/condition/keratoderma...               5   \n",
       "2  [https://ghr.nlm.nih.gov/condition/keratoderma...               5   \n",
       "3  [https://ghr.nlm.nih.gov/condition/keratoderma...               5   \n",
       "4  [https://ghr.nlm.nih.gov/condition/keratoderma...               5   \n",
       "\n",
       "                                   hard_negatives_li  \n",
       "0  [https://www.nlm.nih.gov/medlineplus/ency/arti...  \n",
       "1  [https://www.nlm.nih.gov/medlineplus/ency/arti...  \n",
       "2  [https://ghr.nlm.nih.gov/condition/monilethrix...  \n",
       "3  [https://www.nlm.nih.gov/medlineplus/ency/arti...  \n",
       "4  [https://www.nlm.nih.gov/medlineplus/ency/arti...  "
      ]
     },
     "execution_count": 7,
     "metadata": {},
     "output_type": "execute_result"
    }
   ],
   "source": [
    "df_ques_url_train.head()"
   ]
  },
  {
   "cell_type": "code",
   "execution_count": 8,
   "id": "7ea7bfa7",
   "metadata": {
    "execution": {
     "iopub.execute_input": "2024-11-13T20:06:08.733520Z",
     "iopub.status.busy": "2024-11-13T20:06:08.732959Z",
     "iopub.status.idle": "2024-11-13T20:31:53.387787Z",
     "shell.execute_reply": "2024-11-13T20:31:53.385574Z"
    },
    "papermill": {
     "duration": 1544.671354,
     "end_time": "2024-11-13T20:31:53.390676",
     "exception": false,
     "start_time": "2024-11-13T20:06:08.719322",
     "status": "completed"
    },
    "tags": []
   },
   "outputs": [],
   "source": [
    "df_ques_url_test['hard_negatives_li'] = df_ques_url_test.apply(get_hard_negs, axis=1)\n",
    "df_ques_url_test.to_pickle('../../data/ques_rel_url_hard_negs_test.pkl')"
   ]
  },
  {
   "cell_type": "code",
   "execution_count": 9,
   "id": "793a35ff",
   "metadata": {
    "execution": {
     "iopub.execute_input": "2024-11-13T20:31:53.477320Z",
     "iopub.status.busy": "2024-11-13T20:31:53.476663Z",
     "iopub.status.idle": "2024-11-13T20:31:53.506789Z",
     "shell.execute_reply": "2024-11-13T20:31:53.505715Z"
    },
    "papermill": {
     "duration": 0.047439,
     "end_time": "2024-11-13T20:31:53.509226",
     "exception": false,
     "start_time": "2024-11-13T20:31:53.461787",
     "status": "completed"
    },
    "tags": []
   },
   "outputs": [
    {
     "data": {
      "text/html": [
       "<div>\n",
       "<style scoped>\n",
       "    .dataframe tbody tr th:only-of-type {\n",
       "        vertical-align: middle;\n",
       "    }\n",
       "\n",
       "    .dataframe tbody tr th {\n",
       "        vertical-align: top;\n",
       "    }\n",
       "\n",
       "    .dataframe thead th {\n",
       "        text-align: right;\n",
       "    }\n",
       "</style>\n",
       "<table border=\"1\" class=\"dataframe\">\n",
       "  <thead>\n",
       "    <tr style=\"text-align: right;\">\n",
       "      <th></th>\n",
       "      <th>question</th>\n",
       "      <th>relevant_docs_urls</th>\n",
       "      <th>num_rel_chunks</th>\n",
       "      <th>hard_negatives_li</th>\n",
       "    </tr>\n",
       "  </thead>\n",
       "  <tbody>\n",
       "    <tr>\n",
       "      <th>0</th>\n",
       "      <td>What are the symptoms of Diabetic hyperglycemi...</td>\n",
       "      <td>[https://www.nlm.nih.gov/medlineplus/ency/arti...</td>\n",
       "      <td>4</td>\n",
       "      <td>[https://www.nlm.nih.gov/medlineplus/hyperglyc...</td>\n",
       "    </tr>\n",
       "    <tr>\n",
       "      <th>1</th>\n",
       "      <td>How to diagnose Diabetic hyperglycemic hyperos...</td>\n",
       "      <td>[https://www.nlm.nih.gov/medlineplus/ency/arti...</td>\n",
       "      <td>4</td>\n",
       "      <td>[https://www.nlm.nih.gov/medlineplus/ency/arti...</td>\n",
       "    </tr>\n",
       "    <tr>\n",
       "      <th>2</th>\n",
       "      <td>What are the treatments for Diabetic hyperglyc...</td>\n",
       "      <td>[https://www.nlm.nih.gov/medlineplus/ency/arti...</td>\n",
       "      <td>4</td>\n",
       "      <td>[https://www.nlm.nih.gov/medlineplus/ency/arti...</td>\n",
       "    </tr>\n",
       "    <tr>\n",
       "      <th>3</th>\n",
       "      <td>What is the outlook for Diabetic hyperglycemic...</td>\n",
       "      <td>[https://www.nlm.nih.gov/medlineplus/ency/arti...</td>\n",
       "      <td>4</td>\n",
       "      <td>[https://www.nlm.nih.gov/medlineplus/ency/arti...</td>\n",
       "    </tr>\n",
       "    <tr>\n",
       "      <th>4</th>\n",
       "      <td>What are the complications of Diabetic hypergl...</td>\n",
       "      <td>[https://www.nlm.nih.gov/medlineplus/ency/arti...</td>\n",
       "      <td>4</td>\n",
       "      <td>[https://www.nlm.nih.gov/medlineplus/ency/arti...</td>\n",
       "    </tr>\n",
       "  </tbody>\n",
       "</table>\n",
       "</div>"
      ],
      "text/plain": [
       "                                            question  \\\n",
       "0  What are the symptoms of Diabetic hyperglycemi...   \n",
       "1  How to diagnose Diabetic hyperglycemic hyperos...   \n",
       "2  What are the treatments for Diabetic hyperglyc...   \n",
       "3  What is the outlook for Diabetic hyperglycemic...   \n",
       "4  What are the complications of Diabetic hypergl...   \n",
       "\n",
       "                                  relevant_docs_urls  num_rel_chunks  \\\n",
       "0  [https://www.nlm.nih.gov/medlineplus/ency/arti...               4   \n",
       "1  [https://www.nlm.nih.gov/medlineplus/ency/arti...               4   \n",
       "2  [https://www.nlm.nih.gov/medlineplus/ency/arti...               4   \n",
       "3  [https://www.nlm.nih.gov/medlineplus/ency/arti...               4   \n",
       "4  [https://www.nlm.nih.gov/medlineplus/ency/arti...               4   \n",
       "\n",
       "                                   hard_negatives_li  \n",
       "0  [https://www.nlm.nih.gov/medlineplus/hyperglyc...  \n",
       "1  [https://www.nlm.nih.gov/medlineplus/ency/arti...  \n",
       "2  [https://www.nlm.nih.gov/medlineplus/ency/arti...  \n",
       "3  [https://www.nlm.nih.gov/medlineplus/ency/arti...  \n",
       "4  [https://www.nlm.nih.gov/medlineplus/ency/arti...  "
      ]
     },
     "execution_count": 9,
     "metadata": {},
     "output_type": "execute_result"
    }
   ],
   "source": [
    "df_ques_url_test.head()"
   ]
  }
 ],
 "metadata": {
  "kernelspec": {
   "display_name": "nlp_new",
   "language": "python",
   "name": "python3"
  },
  "language_info": {
   "codemirror_mode": {
    "name": "ipython",
    "version": 3
   },
   "file_extension": ".py",
   "mimetype": "text/x-python",
   "name": "python",
   "nbconvert_exporter": "python",
   "pygments_lexer": "ipython3",
   "version": "3.10.15"
  },
  "papermill": {
   "default_parameters": {},
   "duration": 7798.800998,
   "end_time": "2024-11-13T20:31:56.566716",
   "environment_variables": {},
   "exception": null,
   "input_path": "12_gen_hard_negs.ipynb",
   "output_path": "12_gen_hard_negs_out.ipynb",
   "parameters": {},
   "start_time": "2024-11-13T18:21:57.765718",
   "version": "2.6.0"
  }
 },
 "nbformat": 4,
 "nbformat_minor": 5
}
