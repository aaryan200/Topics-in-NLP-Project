{
 "cells": [
  {
   "cell_type": "markdown",
   "id": "d8663cc6",
   "metadata": {},
   "source": [
    "# Evaluate the adapter fine-tuned on `mpnet` model"
   ]
  },
  {
   "cell_type": "code",
   "execution_count": 1,
   "id": "e956a237",
   "metadata": {
    "execution": {
     "iopub.execute_input": "2024-11-01T04:42:23.298201Z",
     "iopub.status.busy": "2024-11-01T04:42:23.297938Z",
     "iopub.status.idle": "2024-11-01T04:42:26.982418Z",
     "shell.execute_reply": "2024-11-01T04:42:26.980922Z"
    },
    "papermill": {
     "duration": 3.696509,
     "end_time": "2024-11-01T04:42:26.984464",
     "exception": false,
     "start_time": "2024-11-01T04:42:23.287955",
     "status": "completed"
    },
    "tags": []
   },
   "outputs": [],
   "source": [
    "import numpy as np\n",
    "import pandas as pd\n",
    "import matplotlib.pyplot as plt\n",
    "from scipy import spatial\n",
    "from llama_index.embeddings.adapter.utils import TwoLayerNN\n",
    "from llama_index.embeddings.adapter import AdapterEmbeddingModel\n",
    "from llama_index.core.embeddings import resolve_embed_model\n",
    "import time\n",
    "from IPython.display import clear_output"
   ]
  },
  {
   "cell_type": "code",
   "execution_count": 2,
   "id": "bf3d9920",
   "metadata": {
    "execution": {
     "iopub.execute_input": "2024-11-01T04:42:27.009775Z",
     "iopub.status.busy": "2024-11-01T04:42:27.008852Z",
     "iopub.status.idle": "2024-11-01T04:42:34.876835Z",
     "shell.execute_reply": "2024-11-01T04:42:34.876168Z"
    },
    "papermill": {
     "duration": 7.877687,
     "end_time": "2024-11-01T04:42:34.878007",
     "exception": false,
     "start_time": "2024-11-01T04:42:27.000320",
     "status": "completed"
    },
    "tags": []
   },
   "outputs": [],
   "source": [
    "model_name = \"sentence-transformers/paraphrase-mpnet-base-v2\"\n",
    "base_embed_model = resolve_embed_model(f\"local:{model_name}\")"
   ]
  },
  {
   "cell_type": "code",
   "execution_count": null,
   "id": "9b86a13b",
   "metadata": {
    "execution": {
     "iopub.execute_input": "2024-11-01T04:42:34.902351Z",
     "iopub.status.busy": "2024-11-01T04:42:34.901708Z",
     "iopub.status.idle": "2024-11-01T04:42:34.941460Z",
     "shell.execute_reply": "2024-11-01T04:42:34.940814Z"
    },
    "papermill": {
     "duration": 0.050984,
     "end_time": "2024-11-01T04:42:34.942187",
     "exception": false,
     "start_time": "2024-11-01T04:42:34.891203",
     "status": "completed"
    },
    "tags": []
   },
   "outputs": [
    {
     "name": "stderr",
     "output_type": "stream",
     "text": [
      "/export/home/co21btech11001/.conda/envs/nlp_env/lib/python3.10/site-packages/llama_index/embeddings/adapter/utils.py:49: FutureWarning: You are using `torch.load` with `weights_only=False` (the current default value), which uses the default pickle module implicitly. It is possible to construct malicious pickle data which will execute arbitrary code during unpickling (See https://github.com/pytorch/pytorch/blob/main/SECURITY.md#untrusted-models for more details). In a future release, the default value for `weights_only` will be flipped to `True`. This limits the functions that could be executed during unpickling. Arbitrary objects will no longer be allowed to be loaded via this mode unless they are explicitly allowlisted by the user via `torch.serialization.add_safe_globals`. We recommend you start setting `weights_only=True` for any use case where you don't have full control of the loaded file. Please open an issue on GitHub for any issues related to this experimental feature.\n",
      "  torch.load(\n"
     ]
    }
   ],
   "source": [
    "embed_model = AdapterEmbeddingModel(\n",
    "    base_embed_model,\n",
    "    \"mpnet_finetuned_ep8\",\n",
    "    TwoLayerNN,\n",
    "    device=\"cuda\"\n",
    ")"
   ]
  },
  {
   "cell_type": "code",
   "execution_count": 4,
   "id": "ba967fbd",
   "metadata": {
    "execution": {
     "iopub.execute_input": "2024-11-01T04:42:34.953356Z",
     "iopub.status.busy": "2024-11-01T04:42:34.952780Z",
     "iopub.status.idle": "2024-11-01T04:42:34.979342Z",
     "shell.execute_reply": "2024-11-01T04:42:34.978864Z"
    },
    "papermill": {
     "duration": 0.032602,
     "end_time": "2024-11-01T04:42:34.980134",
     "exception": false,
     "start_time": "2024-11-01T04:42:34.947532",
     "status": "completed"
    },
    "tags": []
   },
   "outputs": [
    {
     "name": "stdout",
     "output_type": "stream",
     "text": [
      "(20000, 3)\n",
      "(5000, 3)\n"
     ]
    },
    {
     "data": {
      "text/html": [
       "<div>\n",
       "<style scoped>\n",
       "    .dataframe tbody tr th:only-of-type {\n",
       "        vertical-align: middle;\n",
       "    }\n",
       "\n",
       "    .dataframe tbody tr th {\n",
       "        vertical-align: top;\n",
       "    }\n",
       "\n",
       "    .dataframe thead th {\n",
       "        text-align: right;\n",
       "    }\n",
       "</style>\n",
       "<table border=\"1\" class=\"dataframe\">\n",
       "  <thead>\n",
       "    <tr style=\"text-align: right;\">\n",
       "      <th></th>\n",
       "      <th>question</th>\n",
       "      <th>relevant_docs_urls</th>\n",
       "      <th>num_rel_chunks</th>\n",
       "    </tr>\n",
       "  </thead>\n",
       "  <tbody>\n",
       "    <tr>\n",
       "      <th>0</th>\n",
       "      <td>What is (are) keratoderma with woolly hair ?</td>\n",
       "      <td>[https://ghr.nlm.nih.gov/condition/keratoderma...</td>\n",
       "      <td>5</td>\n",
       "    </tr>\n",
       "    <tr>\n",
       "      <th>1</th>\n",
       "      <td>How many people are affected by keratoderma wi...</td>\n",
       "      <td>[https://ghr.nlm.nih.gov/condition/keratoderma...</td>\n",
       "      <td>5</td>\n",
       "    </tr>\n",
       "    <tr>\n",
       "      <th>2</th>\n",
       "      <td>What are the genetic changes related to kerato...</td>\n",
       "      <td>[https://ghr.nlm.nih.gov/condition/keratoderma...</td>\n",
       "      <td>5</td>\n",
       "    </tr>\n",
       "  </tbody>\n",
       "</table>\n",
       "</div>"
      ],
      "text/plain": [
       "                                            question  \\\n",
       "0       What is (are) keratoderma with woolly hair ?   \n",
       "1  How many people are affected by keratoderma wi...   \n",
       "2  What are the genetic changes related to kerato...   \n",
       "\n",
       "                                  relevant_docs_urls  num_rel_chunks  \n",
       "0  [https://ghr.nlm.nih.gov/condition/keratoderma...               5  \n",
       "1  [https://ghr.nlm.nih.gov/condition/keratoderma...               5  \n",
       "2  [https://ghr.nlm.nih.gov/condition/keratoderma...               5  "
      ]
     },
     "execution_count": 4,
     "metadata": {},
     "output_type": "execute_result"
    }
   ],
   "source": [
    "df_ques_url_train = pd.read_pickle('../../data/questions_relevant_urls_chunks_train.pkl')\n",
    "df_ques_url_test = pd.read_pickle('../../data/questions_relevant_urls_chunks_test.pkl')\n",
    "\n",
    "print(df_ques_url_train.shape)\n",
    "print(df_ques_url_test.shape)\n",
    "df_ques_url_train.head(3)"
   ]
  },
  {
   "cell_type": "code",
   "execution_count": 5,
   "id": "e2835974",
   "metadata": {
    "execution": {
     "iopub.execute_input": "2024-11-01T04:42:34.999328Z",
     "iopub.status.busy": "2024-11-01T04:42:34.998739Z",
     "iopub.status.idle": "2024-11-01T04:42:35.264587Z",
     "shell.execute_reply": "2024-11-01T04:42:35.264036Z"
    },
    "papermill": {
     "duration": 0.27909,
     "end_time": "2024-11-01T04:42:35.265557",
     "exception": false,
     "start_time": "2024-11-01T04:42:34.986467",
     "status": "completed"
    },
    "tags": []
   },
   "outputs": [
    {
     "name": "stdout",
     "output_type": "stream",
     "text": [
      "(33545, 3)\n"
     ]
    },
    {
     "data": {
      "text/html": [
       "<div>\n",
       "<style scoped>\n",
       "    .dataframe tbody tr th:only-of-type {\n",
       "        vertical-align: middle;\n",
       "    }\n",
       "\n",
       "    .dataframe tbody tr th {\n",
       "        vertical-align: top;\n",
       "    }\n",
       "\n",
       "    .dataframe thead th {\n",
       "        text-align: right;\n",
       "    }\n",
       "</style>\n",
       "<table border=\"1\" class=\"dataframe\">\n",
       "  <thead>\n",
       "    <tr style=\"text-align: right;\">\n",
       "      <th></th>\n",
       "      <th>doc_url</th>\n",
       "      <th>chunk_content</th>\n",
       "      <th>embedding</th>\n",
       "    </tr>\n",
       "  </thead>\n",
       "  <tbody>\n",
       "    <tr>\n",
       "      <th>0</th>\n",
       "      <td>https://ghr.nlm.nih.gov/condition/keratoderma-...</td>\n",
       "      <td>keratoderma with woolly hair : medlineplus gen...</td>\n",
       "      <td>[-0.0015540259191766381, 0.031236015260219574,...</td>\n",
       "    </tr>\n",
       "    <tr>\n",
       "      <th>1</th>\n",
       "      <td>https://ghr.nlm.nih.gov/condition/keratoderma-...</td>\n",
       "      <td>##ma, woolly hair, and a form of cardiomyopath...</td>\n",
       "      <td>[-0.03523554652929306, -0.03372985124588013, 0...</td>\n",
       "    </tr>\n",
       "    <tr>\n",
       "      <th>2</th>\n",
       "      <td>https://ghr.nlm.nih.gov/condition/keratoderma-...</td>\n",
       "      <td>##pathy in people with this group of condition...</td>\n",
       "      <td>[0.009989160113036633, 0.02316436544060707, 0....</td>\n",
       "    </tr>\n",
       "  </tbody>\n",
       "</table>\n",
       "</div>"
      ],
      "text/plain": [
       "                                             doc_url  \\\n",
       "0  https://ghr.nlm.nih.gov/condition/keratoderma-...   \n",
       "1  https://ghr.nlm.nih.gov/condition/keratoderma-...   \n",
       "2  https://ghr.nlm.nih.gov/condition/keratoderma-...   \n",
       "\n",
       "                                       chunk_content  \\\n",
       "0  keratoderma with woolly hair : medlineplus gen...   \n",
       "1  ##ma, woolly hair, and a form of cardiomyopath...   \n",
       "2  ##pathy in people with this group of condition...   \n",
       "\n",
       "                                           embedding  \n",
       "0  [-0.0015540259191766381, 0.031236015260219574,...  \n",
       "1  [-0.03523554652929306, -0.03372985124588013, 0...  \n",
       "2  [0.009989160113036633, 0.02316436544060707, 0....  "
      ]
     },
     "execution_count": 5,
     "metadata": {},
     "output_type": "execute_result"
    }
   ],
   "source": [
    "df_kb = pd.read_pickle('../../data/kb_chunks_emb_finetuned.pkl')\n",
    "print(df_kb.shape)\n",
    "df_kb.head(3)"
   ]
  },
  {
   "cell_type": "code",
   "execution_count": 6,
   "id": "9160c692",
   "metadata": {
    "execution": {
     "iopub.execute_input": "2024-11-01T04:42:35.285294Z",
     "iopub.status.busy": "2024-11-01T04:42:35.285096Z",
     "iopub.status.idle": "2024-11-01T04:42:35.287409Z",
     "shell.execute_reply": "2024-11-01T04:42:35.286988Z"
    },
    "papermill": {
     "duration": 0.015217,
     "end_time": "2024-11-01T04:42:35.288255",
     "exception": false,
     "start_time": "2024-11-01T04:42:35.273038",
     "status": "completed"
    },
    "tags": []
   },
   "outputs": [],
   "source": [
    "# from tqdm import tqdm\n",
    "# tqdm.pandas()"
   ]
  },
  {
   "cell_type": "code",
   "execution_count": 7,
   "id": "207c3bed",
   "metadata": {
    "execution": {
     "iopub.execute_input": "2024-11-01T04:42:35.302103Z",
     "iopub.status.busy": "2024-11-01T04:42:35.301898Z",
     "iopub.status.idle": "2024-11-01T04:56:25.026112Z",
     "shell.execute_reply": "2024-11-01T04:56:25.025136Z"
    },
    "papermill": {
     "duration": 829.732208,
     "end_time": "2024-11-01T04:56:25.027670",
     "exception": false,
     "start_time": "2024-11-01T04:42:35.295462",
     "status": "completed"
    },
    "tags": []
   },
   "outputs": [],
   "source": [
    "df_kb['embedding'] = df_kb['chunk_content'].apply(\n",
    "    lambda x: np.array(embed_model.get_text_embedding(x))\n",
    ")"
   ]
  },
  {
   "cell_type": "code",
   "execution_count": 8,
   "id": "e3bc7e10",
   "metadata": {
    "execution": {
     "iopub.execute_input": "2024-11-01T04:56:25.077089Z",
     "iopub.status.busy": "2024-11-01T04:56:25.076740Z",
     "iopub.status.idle": "2024-11-01T04:56:32.248344Z",
     "shell.execute_reply": "2024-11-01T04:56:32.247064Z"
    },
    "papermill": {
     "duration": 7.181663,
     "end_time": "2024-11-01T04:56:32.250321",
     "exception": false,
     "start_time": "2024-11-01T04:56:25.068658",
     "status": "completed"
    },
    "tags": []
   },
   "outputs": [],
   "source": [
    "df_kb.to_pickle('../../data/kb_chunks_emb_finetuned_ep8.pkl')"
   ]
  },
  {
   "cell_type": "code",
   "execution_count": 9,
   "id": "25e39071",
   "metadata": {
    "execution": {
     "iopub.execute_input": "2024-11-01T04:56:32.270858Z",
     "iopub.status.busy": "2024-11-01T04:56:32.269727Z",
     "iopub.status.idle": "2024-11-01T04:56:32.280633Z",
     "shell.execute_reply": "2024-11-01T04:56:32.279648Z"
    },
    "papermill": {
     "duration": 0.022662,
     "end_time": "2024-11-01T04:56:32.282124",
     "exception": false,
     "start_time": "2024-11-01T04:56:32.259462",
     "status": "completed"
    },
    "tags": []
   },
   "outputs": [],
   "source": [
    "def cos_sim(a, b):\n",
    "    return 1 - spatial.distance.cosine(a, b)\n",
    "\n",
    "def retrieve(ques, df_kb, model):\n",
    "    question_embedding = np.array(model.get_query_embedding(ques))\n",
    "    # Copy the 'doc_url' and 'embedding' columns to a new dataframe\n",
    "    df_kb_copy = df_kb[['doc_url', 'embedding']].copy()\n",
    "     # Calculate the cosine similarity between the question embedding and all document embeddings\n",
    "    df_kb_copy['cosine_similarity'] = df_kb_copy['embedding'].apply(\n",
    "        lambda x: cos_sim(question_embedding, x))\n",
    "    # Sort the dataframe by the cosine similarity in descending order\n",
    "    df_kb_copy = df_kb_copy.sort_values(by='cosine_similarity', ascending=False)\n",
    "    ret_urls = df_kb_copy['doc_url'].values\n",
    "    return ret_urls\n",
    "\n",
    "def recall_at_k(num_rel_chunks, relevant_docs_urls, top_retrieved_urls):\n",
    "    \"\"\"\n",
    "    Procedure:\n",
    "    - Among top_retrieved_urls, count the number of urls which are relevant\n",
    "    - Divide this count by the total number of relevant urls\n",
    "    \"\"\"\n",
    "    num_relevant = 0\n",
    "    for url in top_retrieved_urls:\n",
    "        if url in relevant_docs_urls:\n",
    "            num_relevant += 1\n",
    "    return num_relevant / num_rel_chunks\n",
    "\n",
    "def mrr_at_k(relevant_docs_urls, top_retrieved_urls):\n",
    "    \"\"\"\n",
    "    Procedure:\n",
    "    - For each relevant_docs_urls, find the top index in top_retrieved_urls\n",
    "    - Take the reciprocal of this index\n",
    "    - Return the mean of these reciprocals\n",
    "    \"\"\"\n",
    "    li = []\n",
    "    for url in relevant_docs_urls:\n",
    "        if url in top_retrieved_urls:\n",
    "            # list.index returns the first occurrence of the url\n",
    "            li.append(1 / (list(top_retrieved_urls).index(url) + 1))\n",
    "    if len(li) == 0:\n",
    "        return 0\n",
    "    return np.mean(li)"
   ]
  },
  {
   "cell_type": "code",
   "execution_count": 10,
   "id": "0733de54",
   "metadata": {
    "execution": {
     "iopub.execute_input": "2024-11-01T04:56:32.299883Z",
     "iopub.status.busy": "2024-11-01T04:56:32.299553Z",
     "iopub.status.idle": "2024-11-01T04:56:32.317025Z",
     "shell.execute_reply": "2024-11-01T04:56:32.316204Z"
    },
    "papermill": {
     "duration": 0.027416,
     "end_time": "2024-11-01T04:56:32.318454",
     "exception": false,
     "start_time": "2024-11-01T04:56:32.291038",
     "status": "completed"
    },
    "tags": []
   },
   "outputs": [],
   "source": [
    "def evaluate(df_ques_url):\n",
    "    recall_1_li = []; mrr_1_li = []\n",
    "    recall_3_li = []; mrr_3_li = []\n",
    "    recall_10_li = []; mrr_10_li = []\n",
    "    recall_100_li = []; mrr_100_li = []\n",
    "\n",
    "    start_time = time.time()\n",
    "    complete = 0\n",
    "    total = len(df_ques_url)\n",
    "    for _, row in df_ques_url.iterrows():\n",
    "        ques = row['question']\n",
    "        relevant_urls = row['relevant_docs_urls']\n",
    "        num_rel_chunks = row['num_rel_chunks']\n",
    "\n",
    "        retrieved_urls = retrieve(ques, df_kb, embed_model)\n",
    "\n",
    "        temp_recall_1 = recall_at_k(num_rel_chunks, relevant_urls, retrieved_urls[:1])\n",
    "        temp_mrr_1 = mrr_at_k(relevant_urls, retrieved_urls[:1])\n",
    "        temp_recall_3 = recall_at_k(num_rel_chunks, relevant_urls, retrieved_urls[:3])\n",
    "        temp_mrr_3 = mrr_at_k(relevant_urls, retrieved_urls[:3])\n",
    "        temp_recall_10 = recall_at_k(num_rel_chunks, relevant_urls, retrieved_urls[:10])\n",
    "        temp_mrr_10 = mrr_at_k(relevant_urls, retrieved_urls[:10])\n",
    "        temp_recall_100 = recall_at_k(num_rel_chunks, relevant_urls, retrieved_urls[:100])\n",
    "        temp_mrr_100 = mrr_at_k(relevant_urls, retrieved_urls[:100])\n",
    "\n",
    "        recall_1_li.append(temp_recall_1); mrr_1_li.append(temp_mrr_1)\n",
    "        recall_3_li.append(temp_recall_3); mrr_3_li.append(temp_mrr_3)\n",
    "        recall_10_li.append(temp_recall_10); mrr_10_li.append(temp_mrr_10)\n",
    "        recall_100_li.append(temp_recall_100); mrr_100_li.append(temp_mrr_100)\n",
    "\n",
    "        complete += 1\n",
    "        percent_comp = (complete/total)*100\n",
    "        clear_output(wait=True)\n",
    "        print(f\"Completed: {complete}/{total}: ({percent_comp:.2f}%)\")\n",
    "\n",
    "    end_time = time.time()\n",
    "    time_taken = end_time - start_time\n",
    "    print(f\"Time taken: {time_taken:.2f} seconds\")\n",
    "\n",
    "    return recall_1_li, mrr_1_li, recall_3_li, mrr_3_li, recall_10_li, mrr_10_li, recall_100_li, mrr_100_li\n",
    "\n",
    "def print_plot_results(df_ques_url):\n",
    "    recall_1, mrr_1, recall_3, mrr_3, \\\n",
    "    recall_10, mrr_10, recall_100, mrr_100 = evaluate(df_ques_url)\n",
    "\n",
    "    recall_1_score = np.mean(recall_1); mrr_1_score = np.mean(mrr_1)\n",
    "    recall_3_score = np.mean(recall_3); mrr_3_score = np.mean(mrr_3)\n",
    "    recall_10_score = np.mean(recall_10); mrr_10_score = np.mean(mrr_10)\n",
    "    recall_100_score = np.mean(recall_100); mrr_100_score = np.mean(mrr_100)\n",
    "\n",
    "    print(f\"Recall@1: {recall_1_score:.4f}\")\n",
    "    print(f\"Recall@3: {recall_3_score:.4f}\")\n",
    "    print(f\"Recall@10: {recall_10_score:.4f}\")\n",
    "    print(f\"Recall@100: {recall_100_score:.4f}\")\n",
    "    print()\n",
    "    print(f\"MRR@1: {mrr_1_score:.4f}\")\n",
    "    print(f\"MRR@3: {mrr_3_score:.4f}\")\n",
    "    print(f\"MRR@10: {mrr_10_score:.4f}\")\n",
    "    print(f\"MRR@100: {mrr_100_score:.4f}\")\n",
    "\n",
    "    # Plot recall scores on histograms\n",
    "    fig, ax = plt.subplots(2, 2, figsize=(15, 10))\n",
    "    ax[0, 0].hist(recall_1, bins=10, color='r', alpha=0.7)\n",
    "    ax[0, 0].set_title('Recall@1')\n",
    "    ax[0, 1].hist(recall_3, bins=10, color='g', alpha=0.7)\n",
    "    ax[0, 1].set_title('Recall@3')\n",
    "    ax[1, 0].hist(recall_10, bins=10, color='b', alpha=0.7)\n",
    "    ax[1, 0].set_title('Recall@10')\n",
    "    ax[1, 1].hist(recall_100, bins=10, color='y', alpha=0.7)\n",
    "    ax[1, 1].set_title('Recall@100')\n",
    "    plt.show()"
   ]
  },
  {
   "cell_type": "code",
   "execution_count": 11,
   "id": "48c5a8ff",
   "metadata": {
    "execution": {
     "iopub.execute_input": "2024-11-01T04:56:32.335704Z",
     "iopub.status.busy": "2024-11-01T04:56:32.335366Z",
     "iopub.status.idle": "2024-11-01T06:17:59.075312Z",
     "shell.execute_reply": "2024-11-01T06:17:59.074495Z"
    },
    "papermill": {
     "duration": 4886.749427,
     "end_time": "2024-11-01T06:17:59.076352",
     "exception": false,
     "start_time": "2024-11-01T04:56:32.326925",
     "status": "completed"
    },
    "tags": []
   },
   "outputs": [
    {
     "name": "stdout",
     "output_type": "stream",
     "text": [
      "Completed: 20000/20000: (100.00%)\n",
      "Time taken: 4886.29 seconds\n",
      "Recall@1: 0.1967\n",
      "Recall@3: 0.3817\n",
      "Recall@10: 0.5403\n",
      "Recall@100: 0.6920\n",
      "\n",
      "MRR@1: 0.7950\n",
      "MRR@3: 0.8512\n",
      "MRR@10: 0.8590\n",
      "MRR@100: 0.8593\n"
     ]
    },
    {
     "data": {
      "image/png": "[encoded data removed]",
      "text/plain": [
       "<Figure size 1500x1000 with 4 Axes>"
      ]
     },
     "metadata": {},
     "output_type": "display_data"
    }
   ],
   "source": [
    "print_plot_results(df_ques_url_train)"
   ]
  },
  {
   "cell_type": "code",
   "execution_count": 12,
   "id": "dad46aa6",
   "metadata": {
    "execution": {
     "iopub.execute_input": "2024-11-01T06:17:59.128521Z",
     "iopub.status.busy": "2024-11-01T06:17:59.128308Z",
     "iopub.status.idle": "2024-11-01T06:38:05.349140Z",
     "shell.execute_reply": "2024-11-01T06:38:05.348101Z"
    },
    "papermill": {
     "duration": 1206.230565,
     "end_time": "2024-11-01T06:38:05.350369",
     "exception": false,
     "start_time": "2024-11-01T06:17:59.119804",
     "status": "completed"
    },
    "tags": []
   },
   "outputs": [
    {
     "name": "stdout",
     "output_type": "stream",
     "text": [
      "Completed: 5000/5000: (100.00%)\n",
      "Time taken: 1205.87 seconds\n",
      "Recall@1: 0.2018\n",
      "Recall@3: 0.3686\n",
      "Recall@10: 0.5054\n",
      "Recall@100: 0.6519\n",
      "\n",
      "MRR@1: 0.7804\n",
      "MRR@3: 0.8434\n",
      "MRR@10: 0.8531\n",
      "MRR@100: 0.8543\n"
     ]
    },
    {
     "data": {
      "image/png": "[encoded data removed]",
      "text/plain": [
       "<Figure size 1500x1000 with 4 Axes>"
      ]
     },
     "metadata": {},
     "output_type": "display_data"
    }
   ],
   "source": [
    "print_plot_results(df_ques_url_test)"
   ]
  }
 ],
 "metadata": {
  "kernelspec": {
   "display_name": "nlp_env",
   "language": "python",
   "name": "python3"
  },
  "language_info": {
   "codemirror_mode": {
    "name": "ipython",
    "version": 3
   },
   "file_extension": ".py",
   "mimetype": "text/x-python",
   "name": "python",
   "nbconvert_exporter": "python",
   "pygments_lexer": "ipython3",
   "version": "3.10.15"
  },
  "papermill": {
   "default_parameters": {},
   "duration": 6946.106174,
   "end_time": "2024-11-01T06:38:08.458629",
   "environment_variables": {},
   "exception": null,
   "input_path": "04_eval_mpnet_adapter.ipynb",
   "output_path": "04_eval_mpnet_adapter_out.ipynb",
   "parameters": {},
   "start_time": "2024-11-01T04:42:22.352455",
   "version": "2.6.0"
  }
 },
 "nbformat": 4,
 "nbformat_minor": 5
}
