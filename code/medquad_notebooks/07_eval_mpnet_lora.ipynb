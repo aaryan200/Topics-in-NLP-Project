{
 "cells": [
  {
   "cell_type": "markdown",
   "id": "2bac2abe",
   "metadata": {},
   "source": [
    "# Evaluate LoRA-finetuned [paraphrase-mpnet-base-v2](https://huggingface.co/sentence-transformers/paraphrase-mpnet-base-v2) model"
   ]
  },
  {
   "cell_type": "code",
   "execution_count": 1,
   "id": "f9883107",
   "metadata": {
    "execution": {
     "iopub.execute_input": "2024-11-01T05:25:19.237702Z",
     "iopub.status.busy": "2024-11-01T05:25:19.237339Z",
     "iopub.status.idle": "2024-11-01T05:25:24.340684Z",
     "shell.execute_reply": "2024-11-01T05:25:24.339979Z"
    },
    "papermill": {
     "duration": 5.113622,
     "end_time": "2024-11-01T05:25:24.341790",
     "exception": false,
     "start_time": "2024-11-01T05:25:19.228168",
     "status": "completed"
    },
    "tags": []
   },
   "outputs": [],
   "source": [
    "from peft import AutoPeftModelForFeatureExtraction\n",
    "import torch\n",
    "from transformers import AutoTokenizer\n",
    "import matplotlib.pyplot as plt\n",
    "import pandas as pd\n",
    "# from tqdm.auto import tqdm\n",
    "import numpy as np\n",
    "from scipy import spatial\n",
    "from IPython.display import clear_output\n",
    "import time"
   ]
  },
  {
   "cell_type": "markdown",
   "id": "45a8178c",
   "metadata": {},
   "source": [
    "## Load data"
   ]
  },
  {
   "cell_type": "code",
   "execution_count": 2,
   "id": "4bb749c8",
   "metadata": {
    "execution": {
     "iopub.execute_input": "2024-11-01T05:25:24.362390Z",
     "iopub.status.busy": "2024-11-01T05:25:24.361870Z",
     "iopub.status.idle": "2024-11-01T05:25:24.386130Z",
     "shell.execute_reply": "2024-11-01T05:25:24.385665Z"
    },
    "papermill": {
     "duration": 0.036793,
     "end_time": "2024-11-01T05:25:24.386787",
     "exception": false,
     "start_time": "2024-11-01T05:25:24.349994",
     "status": "completed"
    },
    "tags": []
   },
   "outputs": [
    {
     "name": "stdout",
     "output_type": "stream",
     "text": [
      "(20000, 3)\n",
      "(5000, 3)\n"
     ]
    },
    {
     "data": {
      "text/html": [
       "<div>\n",
       "<style scoped>\n",
       "    .dataframe tbody tr th:only-of-type {\n",
       "        vertical-align: middle;\n",
       "    }\n",
       "\n",
       "    .dataframe tbody tr th {\n",
       "        vertical-align: top;\n",
       "    }\n",
       "\n",
       "    .dataframe thead th {\n",
       "        text-align: right;\n",
       "    }\n",
       "</style>\n",
       "<table border=\"1\" class=\"dataframe\">\n",
       "  <thead>\n",
       "    <tr style=\"text-align: right;\">\n",
       "      <th></th>\n",
       "      <th>question</th>\n",
       "      <th>relevant_docs_urls</th>\n",
       "      <th>num_rel_chunks</th>\n",
       "    </tr>\n",
       "  </thead>\n",
       "  <tbody>\n",
       "    <tr>\n",
       "      <th>0</th>\n",
       "      <td>What is (are) keratoderma with woolly hair ?</td>\n",
       "      <td>[https://ghr.nlm.nih.gov/condition/keratoderma...</td>\n",
       "      <td>5</td>\n",
       "    </tr>\n",
       "    <tr>\n",
       "      <th>1</th>\n",
       "      <td>How many people are affected by keratoderma wi...</td>\n",
       "      <td>[https://ghr.nlm.nih.gov/condition/keratoderma...</td>\n",
       "      <td>5</td>\n",
       "    </tr>\n",
       "    <tr>\n",
       "      <th>2</th>\n",
       "      <td>What are the genetic changes related to kerato...</td>\n",
       "      <td>[https://ghr.nlm.nih.gov/condition/keratoderma...</td>\n",
       "      <td>5</td>\n",
       "    </tr>\n",
       "  </tbody>\n",
       "</table>\n",
       "</div>"
      ],
      "text/plain": [
       "                                            question  \\\n",
       "0       What is (are) keratoderma with woolly hair ?   \n",
       "1  How many people are affected by keratoderma wi...   \n",
       "2  What are the genetic changes related to kerato...   \n",
       "\n",
       "                                  relevant_docs_urls  num_rel_chunks  \n",
       "0  [https://ghr.nlm.nih.gov/condition/keratoderma...               5  \n",
       "1  [https://ghr.nlm.nih.gov/condition/keratoderma...               5  \n",
       "2  [https://ghr.nlm.nih.gov/condition/keratoderma...               5  "
      ]
     },
     "execution_count": 2,
     "metadata": {},
     "output_type": "execute_result"
    }
   ],
   "source": [
    "df_ques_url_train = pd.read_pickle('../../data/questions_relevant_urls_chunks_train.pkl')\n",
    "df_ques_url_test = pd.read_pickle('../../data/questions_relevant_urls_chunks_test.pkl')\n",
    "\n",
    "print(df_ques_url_train.shape)\n",
    "print(df_ques_url_test.shape)\n",
    "df_ques_url_train.head(3)"
   ]
  },
  {
   "cell_type": "code",
   "execution_count": 3,
   "id": "84fbb248",
   "metadata": {
    "execution": {
     "iopub.execute_input": "2024-11-01T05:25:24.399113Z",
     "iopub.status.busy": "2024-11-01T05:25:24.398863Z",
     "iopub.status.idle": "2024-11-01T05:25:24.865495Z",
     "shell.execute_reply": "2024-11-01T05:25:24.864912Z"
    },
    "papermill": {
     "duration": 0.47363,
     "end_time": "2024-11-01T05:25:24.866461",
     "exception": false,
     "start_time": "2024-11-01T05:25:24.392831",
     "status": "completed"
    },
    "tags": []
   },
   "outputs": [
    {
     "name": "stdout",
     "output_type": "stream",
     "text": [
      "(33545, 3)\n"
     ]
    },
    {
     "data": {
      "text/html": [
       "<div>\n",
       "<style scoped>\n",
       "    .dataframe tbody tr th:only-of-type {\n",
       "        vertical-align: middle;\n",
       "    }\n",
       "\n",
       "    .dataframe tbody tr th {\n",
       "        vertical-align: top;\n",
       "    }\n",
       "\n",
       "    .dataframe thead th {\n",
       "        text-align: right;\n",
       "    }\n",
       "</style>\n",
       "<table border=\"1\" class=\"dataframe\">\n",
       "  <thead>\n",
       "    <tr style=\"text-align: right;\">\n",
       "      <th></th>\n",
       "      <th>doc_url</th>\n",
       "      <th>chunk_content</th>\n",
       "      <th>embedding</th>\n",
       "    </tr>\n",
       "  </thead>\n",
       "  <tbody>\n",
       "    <tr>\n",
       "      <th>0</th>\n",
       "      <td>https://ghr.nlm.nih.gov/condition/keratoderma-...</td>\n",
       "      <td>keratoderma with woolly hair : medlineplus gen...</td>\n",
       "      <td>[-0.0015540259191766381, 0.031236015260219574,...</td>\n",
       "    </tr>\n",
       "    <tr>\n",
       "      <th>1</th>\n",
       "      <td>https://ghr.nlm.nih.gov/condition/keratoderma-...</td>\n",
       "      <td>##ma, woolly hair, and a form of cardiomyopath...</td>\n",
       "      <td>[-0.03523554652929306, -0.03372985124588013, 0...</td>\n",
       "    </tr>\n",
       "    <tr>\n",
       "      <th>2</th>\n",
       "      <td>https://ghr.nlm.nih.gov/condition/keratoderma-...</td>\n",
       "      <td>##pathy in people with this group of condition...</td>\n",
       "      <td>[0.009989160113036633, 0.02316436544060707, 0....</td>\n",
       "    </tr>\n",
       "  </tbody>\n",
       "</table>\n",
       "</div>"
      ],
      "text/plain": [
       "                                             doc_url  \\\n",
       "0  https://ghr.nlm.nih.gov/condition/keratoderma-...   \n",
       "1  https://ghr.nlm.nih.gov/condition/keratoderma-...   \n",
       "2  https://ghr.nlm.nih.gov/condition/keratoderma-...   \n",
       "\n",
       "                                       chunk_content  \\\n",
       "0  keratoderma with woolly hair : medlineplus gen...   \n",
       "1  ##ma, woolly hair, and a form of cardiomyopath...   \n",
       "2  ##pathy in people with this group of condition...   \n",
       "\n",
       "                                           embedding  \n",
       "0  [-0.0015540259191766381, 0.031236015260219574,...  \n",
       "1  [-0.03523554652929306, -0.03372985124588013, 0...  \n",
       "2  [0.009989160113036633, 0.02316436544060707, 0....  "
      ]
     },
     "execution_count": 3,
     "metadata": {},
     "output_type": "execute_result"
    }
   ],
   "source": [
    "df_kb = pd.read_pickle('../../data/kb_chunks_emb_finetuned.pkl')\n",
    "print(df_kb.shape)\n",
    "df_kb.head(3)"
   ]
  },
  {
   "cell_type": "markdown",
   "id": "4bbb53ce",
   "metadata": {},
   "source": [
    "## Load finetuned model"
   ]
  },
  {
   "cell_type": "code",
   "execution_count": 4,
   "id": "658756c5",
   "metadata": {
    "execution": {
     "iopub.execute_input": "2024-11-01T05:25:24.889595Z",
     "iopub.status.busy": "2024-11-01T05:25:24.889342Z",
     "iopub.status.idle": "2024-11-01T05:25:27.140814Z",
     "shell.execute_reply": "2024-11-01T05:25:27.140226Z"
    },
    "papermill": {
     "duration": 2.259988,
     "end_time": "2024-11-01T05:25:27.141730",
     "exception": false,
     "start_time": "2024-11-01T05:25:24.881742",
     "status": "completed"
    },
    "tags": []
   },
   "outputs": [
    {
     "name": "stdout",
     "output_type": "stream",
     "text": [
      "Loaded model\n"
     ]
    }
   ],
   "source": [
    "model = AutoPeftModelForFeatureExtraction.from_pretrained(\"mpnet_peft_ft\").to(\"cuda\")\n",
    "print(\"Loaded model\")"
   ]
  },
  {
   "cell_type": "code",
   "execution_count": 5,
   "id": "4601e798",
   "metadata": {
    "execution": {
     "iopub.execute_input": "2024-11-01T05:25:27.159804Z",
     "iopub.status.busy": "2024-11-01T05:25:27.159614Z",
     "iopub.status.idle": "2024-11-01T05:25:27.794380Z",
     "shell.execute_reply": "2024-11-01T05:25:27.793830Z"
    },
    "papermill": {
     "duration": 0.645871,
     "end_time": "2024-11-01T05:25:27.795331",
     "exception": false,
     "start_time": "2024-11-01T05:25:27.149460",
     "status": "completed"
    },
    "tags": []
   },
   "outputs": [],
   "source": [
    "model_name = \"sentence-transformers/paraphrase-mpnet-base-v2\"\n",
    "tokenizer = AutoTokenizer.from_pretrained(model_name)"
   ]
  },
  {
   "cell_type": "code",
   "execution_count": 6,
   "id": "327d8280",
   "metadata": {
    "execution": {
     "iopub.execute_input": "2024-11-01T05:25:27.818028Z",
     "iopub.status.busy": "2024-11-01T05:25:27.817822Z",
     "iopub.status.idle": "2024-11-01T05:25:27.823938Z",
     "shell.execute_reply": "2024-11-01T05:25:27.823181Z"
    },
    "papermill": {
     "duration": 0.01543,
     "end_time": "2024-11-01T05:25:27.825424",
     "exception": false,
     "start_time": "2024-11-01T05:25:27.809994",
     "status": "completed"
    },
    "tags": []
   },
   "outputs": [],
   "source": [
    "def mean_pooling(model_output, attention_mask):\n",
    "    token_embeddings = model_output[0] #First element of model_output contains all token embeddings\n",
    "    input_mask_expanded = attention_mask.unsqueeze(-1).expand(token_embeddings.size()).float()\n",
    "    return torch.sum(token_embeddings * input_mask_expanded, 1) / torch.clamp(input_mask_expanded.sum(1), min=1e-9)\n",
    "\n",
    "def get_embedding(sentences):\n",
    "    inputs = tokenizer(sentences, padding=\"max_length\", truncation=True, return_tensors=\"pt\")\n",
    "    with torch.no_grad():\n",
    "        outputs = model(**inputs.to(model.device))\n",
    "\n",
    "    embeddings = mean_pooling(outputs, inputs['attention_mask']).cpu().numpy()\n",
    "    return embeddings"
   ]
  },
  {
   "cell_type": "code",
   "execution_count": 7,
   "id": "c2b8a154",
   "metadata": {
    "execution": {
     "iopub.execute_input": "2024-11-01T05:25:27.842010Z",
     "iopub.status.busy": "2024-11-01T05:25:27.841706Z",
     "iopub.status.idle": "2024-11-01T05:25:28.029344Z",
     "shell.execute_reply": "2024-11-01T05:25:28.028802Z"
    },
    "papermill": {
     "duration": 0.196966,
     "end_time": "2024-11-01T05:25:28.030164",
     "exception": false,
     "start_time": "2024-11-01T05:25:27.833198",
     "status": "completed"
    },
    "tags": []
   },
   "outputs": [
    {
     "name": "stdout",
     "output_type": "stream",
     "text": [
      "(2, 768)\n"
     ]
    }
   ],
   "source": [
    "sentences = [\"Hello world\", \"Hi there\"]\n",
    "embeddings = get_embedding(sentences)\n",
    "print(embeddings.shape)"
   ]
  },
  {
   "cell_type": "code",
   "execution_count": 8,
   "id": "2846554b",
   "metadata": {
    "execution": {
     "iopub.execute_input": "2024-11-01T05:25:28.045153Z",
     "iopub.status.busy": "2024-11-01T05:25:28.044663Z",
     "iopub.status.idle": "2024-11-01T05:25:28.048959Z",
     "shell.execute_reply": "2024-11-01T05:25:28.048563Z"
    },
    "papermill": {
     "duration": 0.012205,
     "end_time": "2024-11-01T05:25:28.049677",
     "exception": false,
     "start_time": "2024-11-01T05:25:28.037472",
     "status": "completed"
    },
    "tags": []
   },
   "outputs": [
    {
     "data": {
      "text/plain": [
       "np.float32(0.9985804)"
      ]
     },
     "execution_count": 8,
     "metadata": {},
     "output_type": "execute_result"
    }
   ],
   "source": [
    "1 - spatial.distance.cosine(embeddings[0], embeddings[1])"
   ]
  },
  {
   "cell_type": "code",
   "execution_count": 9,
   "id": "a6bc25e0",
   "metadata": {
    "execution": {
     "iopub.execute_input": "2024-11-01T05:25:28.064882Z",
     "iopub.status.busy": "2024-11-01T05:25:28.064630Z",
     "iopub.status.idle": "2024-11-01T05:35:03.775524Z",
     "shell.execute_reply": "2024-11-01T05:35:03.774417Z"
    },
    "papermill": {
     "duration": 575.721142,
     "end_time": "2024-11-01T05:35:03.777433",
     "exception": false,
     "start_time": "2024-11-01T05:25:28.056291",
     "status": "completed"
    },
    "tags": []
   },
   "outputs": [],
   "source": [
    "df_kb['embedding'] = df_kb['chunk_content'].apply(\n",
    "    lambda x: get_embedding([x])[0]\n",
    ")\n",
    "df_kb.to_pickle('../../data/kb_chunks_emb_finetuned_lora.pkl')"
   ]
  },
  {
   "cell_type": "markdown",
   "id": "30fd62d2",
   "metadata": {},
   "source": [
    "## Evaluate"
   ]
  },
  {
   "cell_type": "code",
   "execution_count": 10,
   "id": "4aa7a39f",
   "metadata": {
    "execution": {
     "iopub.execute_input": "2024-11-01T05:35:03.823818Z",
     "iopub.status.busy": "2024-11-01T05:35:03.823617Z",
     "iopub.status.idle": "2024-11-01T05:35:03.829851Z",
     "shell.execute_reply": "2024-11-01T05:35:03.829285Z"
    },
    "papermill": {
     "duration": 0.017664,
     "end_time": "2024-11-01T05:35:03.831356",
     "exception": false,
     "start_time": "2024-11-01T05:35:03.813692",
     "status": "completed"
    },
    "tags": []
   },
   "outputs": [],
   "source": [
    "def cos_sim(a, b):\n",
    "    return 1 - spatial.distance.cosine(a, b)\n",
    "\n",
    "def retrieve(ques, df_kb, model):\n",
    "    question_embedding = get_embedding([ques])[0]\n",
    "    # Copy the 'doc_url' and 'embedding' columns to a new dataframe\n",
    "    df_kb_copy = df_kb[['doc_url', 'embedding']].copy()\n",
    "     # Calculate the cosine similarity between the question embedding and all document embeddings\n",
    "    df_kb_copy['cosine_similarity'] = df_kb_copy['embedding'].apply(\n",
    "        lambda x: cos_sim(question_embedding, x))\n",
    "    # Sort the dataframe by the cosine similarity in descending order\n",
    "    df_kb_copy = df_kb_copy.sort_values(by='cosine_similarity', ascending=False)\n",
    "    ret_urls = df_kb_copy['doc_url'].values\n",
    "    return ret_urls\n",
    "\n",
    "def recall_at_k(num_rel_chunks, relevant_docs_urls, top_retrieved_urls):\n",
    "    \"\"\"\n",
    "    Procedure:\n",
    "    - Among top_retrieved_urls, count the number of urls which are relevant\n",
    "    - Divide this count by the total number of relevant urls\n",
    "    \"\"\"\n",
    "    num_relevant = 0\n",
    "    for url in top_retrieved_urls:\n",
    "        if url in relevant_docs_urls:\n",
    "            num_relevant += 1\n",
    "    return num_relevant / num_rel_chunks\n",
    "\n",
    "def mrr_at_k(relevant_docs_urls, top_retrieved_urls):\n",
    "    \"\"\"\n",
    "    Procedure:\n",
    "    - For each relevant_docs_urls, find the top index in top_retrieved_urls\n",
    "    - Take the reciprocal of this index\n",
    "    - Return the mean of these reciprocals\n",
    "    \"\"\"\n",
    "    li = []\n",
    "    for url in relevant_docs_urls:\n",
    "        if url in top_retrieved_urls:\n",
    "            # list.index returns the first occurrence of the url\n",
    "            li.append(1 / (list(top_retrieved_urls).index(url) + 1))\n",
    "    if len(li) == 0:\n",
    "        return 0\n",
    "    return np.mean(li)"
   ]
  },
  {
   "cell_type": "code",
   "execution_count": 11,
   "id": "eb0232e2",
   "metadata": {
    "execution": {
     "iopub.execute_input": "2024-11-01T05:35:03.850589Z",
     "iopub.status.busy": "2024-11-01T05:35:03.850393Z",
     "iopub.status.idle": "2024-11-01T05:35:03.858926Z",
     "shell.execute_reply": "2024-11-01T05:35:03.858380Z"
    },
    "papermill": {
     "duration": 0.019876,
     "end_time": "2024-11-01T05:35:03.860394",
     "exception": false,
     "start_time": "2024-11-01T05:35:03.840518",
     "status": "completed"
    },
    "tags": []
   },
   "outputs": [],
   "source": [
    "def evaluate(df_ques_url):\n",
    "    recall_1_li = []; mrr_1_li = []\n",
    "    recall_3_li = []; mrr_3_li = []\n",
    "    recall_10_li = []; mrr_10_li = []\n",
    "    recall_100_li = []; mrr_100_li = []\n",
    "\n",
    "    start_time = time.time()\n",
    "    complete = 0\n",
    "    total = len(df_ques_url)\n",
    "    for _, row in df_ques_url.iterrows():\n",
    "        ques = row['question']\n",
    "        relevant_urls = row['relevant_docs_urls']\n",
    "        num_rel_chunks = row['num_rel_chunks']\n",
    "\n",
    "        retrieved_urls = retrieve(ques, df_kb, model)\n",
    "\n",
    "        temp_recall_1 = recall_at_k(num_rel_chunks, relevant_urls, retrieved_urls[:1])\n",
    "        temp_mrr_1 = mrr_at_k(relevant_urls, retrieved_urls[:1])\n",
    "        temp_recall_3 = recall_at_k(num_rel_chunks, relevant_urls, retrieved_urls[:3])\n",
    "        temp_mrr_3 = mrr_at_k(relevant_urls, retrieved_urls[:3])\n",
    "        temp_recall_10 = recall_at_k(num_rel_chunks, relevant_urls, retrieved_urls[:10])\n",
    "        temp_mrr_10 = mrr_at_k(relevant_urls, retrieved_urls[:10])\n",
    "        temp_recall_100 = recall_at_k(num_rel_chunks, relevant_urls, retrieved_urls[:100])\n",
    "        temp_mrr_100 = mrr_at_k(relevant_urls, retrieved_urls[:100])\n",
    "\n",
    "        recall_1_li.append(temp_recall_1); mrr_1_li.append(temp_mrr_1)\n",
    "        recall_3_li.append(temp_recall_3); mrr_3_li.append(temp_mrr_3)\n",
    "        recall_10_li.append(temp_recall_10); mrr_10_li.append(temp_mrr_10)\n",
    "        recall_100_li.append(temp_recall_100); mrr_100_li.append(temp_mrr_100)\n",
    "\n",
    "        complete += 1\n",
    "        percent_comp = (complete/total)*100\n",
    "        clear_output(wait=True)\n",
    "        print(f\"Completed: {complete}/{total}: ({percent_comp:.2f}%)\")\n",
    "\n",
    "    end_time = time.time()\n",
    "    time_taken = end_time - start_time\n",
    "    print(f\"Time taken: {time_taken:.2f} seconds\")\n",
    "\n",
    "    return recall_1_li, mrr_1_li, recall_3_li, mrr_3_li, recall_10_li, mrr_10_li, recall_100_li, mrr_100_li\n",
    "\n",
    "def print_plot_results(df_ques_url):\n",
    "    recall_1, mrr_1, recall_3, mrr_3, \\\n",
    "    recall_10, mrr_10, recall_100, mrr_100 = evaluate(df_ques_url)\n",
    "\n",
    "    recall_1_score = np.mean(recall_1); mrr_1_score = np.mean(mrr_1)\n",
    "    recall_3_score = np.mean(recall_3); mrr_3_score = np.mean(mrr_3)\n",
    "    recall_10_score = np.mean(recall_10); mrr_10_score = np.mean(mrr_10)\n",
    "    recall_100_score = np.mean(recall_100); mrr_100_score = np.mean(mrr_100)\n",
    "\n",
    "    print(f\"Recall@1: {recall_1_score:.4f}\")\n",
    "    print(f\"Recall@3: {recall_3_score:.4f}\")\n",
    "    print(f\"Recall@10: {recall_10_score:.4f}\")\n",
    "    print(f\"Recall@100: {recall_100_score:.4f}\")\n",
    "    print()\n",
    "    print(f\"MRR@1: {mrr_1_score:.4f}\")\n",
    "    print(f\"MRR@3: {mrr_3_score:.4f}\")\n",
    "    print(f\"MRR@10: {mrr_10_score:.4f}\")\n",
    "    print(f\"MRR@100: {mrr_100_score:.4f}\")\n",
    "\n",
    "    # Plot recall scores on histograms\n",
    "    fig, ax = plt.subplots(2, 2, figsize=(15, 10))\n",
    "    ax[0, 0].hist(recall_1, bins=10, color='r', alpha=0.7)\n",
    "    ax[0, 0].set_title('Recall@1')\n",
    "    ax[0, 1].hist(recall_3, bins=10, color='g', alpha=0.7)\n",
    "    ax[0, 1].set_title('Recall@3')\n",
    "    ax[1, 0].hist(recall_10, bins=10, color='b', alpha=0.7)\n",
    "    ax[1, 0].set_title('Recall@10')\n",
    "    ax[1, 1].hist(recall_100, bins=10, color='y', alpha=0.7)\n",
    "    ax[1, 1].set_title('Recall@100')\n",
    "    plt.show()"
   ]
  },
  {
   "cell_type": "code",
   "execution_count": 12,
   "id": "c52c47bc",
   "metadata": {
    "execution": {
     "iopub.execute_input": "2024-11-01T05:35:03.879379Z",
     "iopub.status.busy": "2024-11-01T05:35:03.879215Z",
     "iopub.status.idle": "2024-11-01T07:02:04.472248Z",
     "shell.execute_reply": "2024-11-01T07:02:04.471481Z"
    },
    "papermill": {
     "duration": 5220.604587,
     "end_time": "2024-11-01T07:02:04.474141",
     "exception": false,
     "start_time": "2024-11-01T05:35:03.869554",
     "status": "completed"
    },
    "tags": []
   },
   "outputs": [
    {
     "name": "stdout",
     "output_type": "stream",
     "text": [
      "Completed: 20000/20000: (100.00%)\n",
      "Time taken: 5220.11 seconds\n",
      "Recall@1: 0.0046\n",
      "Recall@3: 0.0096\n",
      "Recall@10: 0.0211\n",
      "Recall@100: 0.0890\n",
      "\n",
      "MRR@1: 0.0182\n",
      "MRR@3: 0.0265\n",
      "MRR@10: 0.0339\n",
      "MRR@100: 0.0411\n"
     ]
    },
    {
     "data": {
      "image/png": "[encoded data removed]",
      "text/plain": [
       "<Figure size 1500x1000 with 4 Axes>"
      ]
     },
     "metadata": {},
     "output_type": "display_data"
    }
   ],
   "source": [
    "print_plot_results(df_ques_url_train)"
   ]
  },
  {
   "cell_type": "code",
   "execution_count": 13,
   "id": "1858dd6b",
   "metadata": {
    "execution": {
     "iopub.execute_input": "2024-11-01T07:02:04.529107Z",
     "iopub.status.busy": "2024-11-01T07:02:04.528827Z",
     "iopub.status.idle": "2024-11-01T07:24:09.871226Z",
     "shell.execute_reply": "2024-11-01T07:24:09.870178Z"
    },
    "papermill": {
     "duration": 1325.35667,
     "end_time": "2024-11-01T07:24:09.873007",
     "exception": false,
     "start_time": "2024-11-01T07:02:04.516337",
     "status": "completed"
    },
    "tags": []
   },
   "outputs": [
    {
     "name": "stdout",
     "output_type": "stream",
     "text": [
      "Completed: 5000/5000: (100.00%)\n",
      "Time taken: 1325.00 seconds\n",
      "Recall@1: 0.0047\n",
      "Recall@3: 0.0104\n",
      "Recall@10: 0.0227\n",
      "Recall@100: 0.0803\n",
      "\n",
      "MRR@1: 0.0174\n",
      "MRR@3: 0.0267\n",
      "MRR@10: 0.0338\n",
      "MRR@100: 0.0393\n"
     ]
    },
    {
     "data": {
      "image/png": "[encoded data removed]",
      "text/plain": [
       "<Figure size 1500x1000 with 4 Axes>"
      ]
     },
     "metadata": {},
     "output_type": "display_data"
    }
   ],
   "source": [
    "print_plot_results(df_ques_url_test)"
   ]
  }
 ],
 "metadata": {
  "kernelspec": {
   "display_name": "nlp_env",
   "language": "python",
   "name": "python3"
  },
  "language_info": {
   "codemirror_mode": {
    "name": "ipython",
    "version": 3
   },
   "file_extension": ".py",
   "mimetype": "text/x-python",
   "name": "python",
   "nbconvert_exporter": "python",
   "pygments_lexer": "ipython3",
   "version": "3.10.15"
  },
  "papermill": {
   "default_parameters": {},
   "duration": 7134.635967,
   "end_time": "2024-11-01T07:24:12.649854",
   "environment_variables": {},
   "exception": null,
   "input_path": "06_eval_mpnet_lora.ipynb",
   "output_path": "06_eval_mpnet_lora_out.ipynb",
   "parameters": {},
   "start_time": "2024-11-01T05:25:18.013887",
   "version": "2.6.0"
  }
 },
 "nbformat": 4,
 "nbformat_minor": 5
}
