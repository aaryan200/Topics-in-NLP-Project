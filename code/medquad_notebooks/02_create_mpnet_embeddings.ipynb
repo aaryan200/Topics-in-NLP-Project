{
 "cells": [
  {
   "cell_type": "markdown",
   "metadata": {},
   "source": [
    "## Notebook to create embedding from pre-trained [paraphrase-mpnet-base-v2](https://huggingface.co/sentence-transformers/paraphrase-mpnet-base-v2) model"
   ]
  },
  {
   "cell_type": "code",
   "execution_count": 1,
   "metadata": {},
   "outputs": [
    {
     "name": "stderr",
     "output_type": "stream",
     "text": [
      "/export/home/co21btech11001/.conda/envs/nlp_env/lib/python3.10/site-packages/sentence_transformers/cross_encoder/CrossEncoder.py:13: TqdmExperimentalWarning: Using `tqdm.autonotebook.tqdm` in notebook mode. Use `tqdm.tqdm` instead to force console mode (e.g. in jupyter console)\n",
      "  from tqdm.autonotebook import tqdm, trange\n"
     ]
    }
   ],
   "source": [
    "from sentence_transformers import SentenceTransformer\n",
    "from transformers import AutoTokenizer\n",
    "import matplotlib.pyplot as plt\n",
    "import pandas as pd\n",
    "from tqdm import tqdm\n",
    "import numpy as np\n",
    "from scipy import spatial\n",
    "from torchinfo import summary"
   ]
  },
  {
   "cell_type": "markdown",
   "metadata": {},
   "source": [
    "## Load Data and Model"
   ]
  },
  {
   "cell_type": "code",
   "execution_count": 3,
   "metadata": {},
   "outputs": [
    {
     "name": "stdout",
     "output_type": "stream",
     "text": [
      "(36925, 2)\n"
     ]
    },
    {
     "data": {
      "text/html": [
       "<div>\n",
       "<style scoped>\n",
       "    .dataframe tbody tr th:only-of-type {\n",
       "        vertical-align: middle;\n",
       "    }\n",
       "\n",
       "    .dataframe tbody tr th {\n",
       "        vertical-align: top;\n",
       "    }\n",
       "\n",
       "    .dataframe thead th {\n",
       "        text-align: right;\n",
       "    }\n",
       "</style>\n",
       "<table border=\"1\" class=\"dataframe\">\n",
       "  <thead>\n",
       "    <tr style=\"text-align: right;\">\n",
       "      <th></th>\n",
       "      <th>question</th>\n",
       "      <th>relevant_docs_urls</th>\n",
       "    </tr>\n",
       "  </thead>\n",
       "  <tbody>\n",
       "    <tr>\n",
       "      <th>0</th>\n",
       "      <td>What is (are) keratoderma with woolly hair ?</td>\n",
       "      <td>[https://ghr.nlm.nih.gov/condition/keratoderma...</td>\n",
       "    </tr>\n",
       "    <tr>\n",
       "      <th>1</th>\n",
       "      <td>How many people are affected by keratoderma wi...</td>\n",
       "      <td>[https://ghr.nlm.nih.gov/condition/keratoderma...</td>\n",
       "    </tr>\n",
       "    <tr>\n",
       "      <th>2</th>\n",
       "      <td>What are the genetic changes related to kerato...</td>\n",
       "      <td>[https://ghr.nlm.nih.gov/condition/keratoderma...</td>\n",
       "    </tr>\n",
       "  </tbody>\n",
       "</table>\n",
       "</div>"
      ],
      "text/plain": [
       "                                            question  \\\n",
       "0       What is (are) keratoderma with woolly hair ?   \n",
       "1  How many people are affected by keratoderma wi...   \n",
       "2  What are the genetic changes related to kerato...   \n",
       "\n",
       "                                  relevant_docs_urls  \n",
       "0  [https://ghr.nlm.nih.gov/condition/keratoderma...  \n",
       "1  [https://ghr.nlm.nih.gov/condition/keratoderma...  \n",
       "2  [https://ghr.nlm.nih.gov/condition/keratoderma...  "
      ]
     },
     "execution_count": 3,
     "metadata": {},
     "output_type": "execute_result"
    }
   ],
   "source": [
    "df_ques_url = pd.read_pickle('../../data/questions_relevant_urls.pkl')\n",
    "print(df_ques_url.shape)\n",
    "df_ques_url.head(3)"
   ]
  },
  {
   "cell_type": "code",
   "execution_count": 4,
   "metadata": {},
   "outputs": [
    {
     "name": "stdout",
     "output_type": "stream",
     "text": [
      "(7873, 2)\n"
     ]
    },
    {
     "data": {
      "text/html": [
       "<div>\n",
       "<style scoped>\n",
       "    .dataframe tbody tr th:only-of-type {\n",
       "        vertical-align: middle;\n",
       "    }\n",
       "\n",
       "    .dataframe tbody tr th {\n",
       "        vertical-align: top;\n",
       "    }\n",
       "\n",
       "    .dataframe thead th {\n",
       "        text-align: right;\n",
       "    }\n",
       "</style>\n",
       "<table border=\"1\" class=\"dataframe\">\n",
       "  <thead>\n",
       "    <tr style=\"text-align: right;\">\n",
       "      <th></th>\n",
       "      <th>document_url</th>\n",
       "      <th>document_content</th>\n",
       "    </tr>\n",
       "  </thead>\n",
       "  <tbody>\n",
       "    <tr>\n",
       "      <th>0</th>\n",
       "      <td>https://ghr.nlm.nih.gov/condition/keratoderma-...</td>\n",
       "      <td>Keratoderma with woolly hair: MedlinePlus Gene...</td>\n",
       "    </tr>\n",
       "    <tr>\n",
       "      <th>1</th>\n",
       "      <td>https://ghr.nlm.nih.gov/condition/kniest-dyspl...</td>\n",
       "      <td>Kniest dysplasia: MedlinePlus Genetics\\nSkip n...</td>\n",
       "    </tr>\n",
       "    <tr>\n",
       "      <th>2</th>\n",
       "      <td>https://ghr.nlm.nih.gov/condition/leukoencepha...</td>\n",
       "      <td>Leukoencephalopathy with vanishing white matte...</td>\n",
       "    </tr>\n",
       "  </tbody>\n",
       "</table>\n",
       "</div>"
      ],
      "text/plain": [
       "                                        document_url  \\\n",
       "0  https://ghr.nlm.nih.gov/condition/keratoderma-...   \n",
       "1  https://ghr.nlm.nih.gov/condition/kniest-dyspl...   \n",
       "2  https://ghr.nlm.nih.gov/condition/leukoencepha...   \n",
       "\n",
       "                                    document_content  \n",
       "0  Keratoderma with woolly hair: MedlinePlus Gene...  \n",
       "1  Kniest dysplasia: MedlinePlus Genetics\\nSkip n...  \n",
       "2  Leukoencephalopathy with vanishing white matte...  "
      ]
     },
     "execution_count": 4,
     "metadata": {},
     "output_type": "execute_result"
    }
   ],
   "source": [
    "df_doc_content = pd.read_pickle('../../data/docs_url_content.pkl')\n",
    "print(df_doc_content.shape)\n",
    "df_doc_content.head(3)"
   ]
  },
  {
   "cell_type": "code",
   "execution_count": 5,
   "metadata": {},
   "outputs": [
    {
     "data": {
      "text/plain": [
       "relevant_docs_urls\n",
       "1    36526\n",
       "2      375\n",
       "3       23\n",
       "4        1\n",
       "Name: count, dtype: int64"
      ]
     },
     "execution_count": 5,
     "metadata": {},
     "output_type": "execute_result"
    }
   ],
   "source": [
    "# A histogram of len of relevant_docs_urls\n",
    "num_rel_docs = df_ques_url['relevant_docs_urls'].apply(len)\n",
    "num_rel_docs.value_counts()"
   ]
  },
  {
   "cell_type": "code",
   "execution_count": 6,
   "metadata": {},
   "outputs": [],
   "source": [
    "model_name = \"sentence-transformers/paraphrase-mpnet-base-v2\"\n",
    "model = SentenceTransformer(model_name)\n",
    "model = model.to('cuda')\n",
    "tokenizer = AutoTokenizer.from_pretrained(model_name)"
   ]
  },
  {
   "cell_type": "code",
   "execution_count": 7,
   "metadata": {},
   "outputs": [
    {
     "data": {
      "text/plain": [
       "=====================================================================================\n",
       "Layer (type:depth-idx)                                       Param #\n",
       "=====================================================================================\n",
       "SentenceTransformer                                          --\n",
       "├─Transformer: 1-1                                           --\n",
       "│    └─MPNetModel: 2-1                                       --\n",
       "│    │    └─MPNetEmbeddings: 3-1                             23,841,024\n",
       "│    │    └─MPNetEncoder: 3-2                                85,054,848\n",
       "│    │    └─MPNetPooler: 3-3                                 590,592\n",
       "├─Pooling: 1-2                                               --\n",
       "=====================================================================================\n",
       "Total params: 109,486,464\n",
       "Trainable params: 109,486,464\n",
       "Non-trainable params: 0\n",
       "====================================================================================="
      ]
     },
     "execution_count": 7,
     "metadata": {},
     "output_type": "execute_result"
    }
   ],
   "source": [
    "summary(model)"
   ]
  },
  {
   "cell_type": "code",
   "execution_count": 8,
   "metadata": {},
   "outputs": [
    {
     "data": {
      "text/plain": [
       "512"
      ]
     },
     "execution_count": 8,
     "metadata": {},
     "output_type": "execute_result"
    }
   ],
   "source": [
    "model.get_max_seq_length()"
   ]
  },
  {
   "cell_type": "markdown",
   "metadata": {},
   "source": [
    "## Analyze the number of tokens"
   ]
  },
  {
   "cell_type": "code",
   "execution_count": 9,
   "metadata": {},
   "outputs": [
    {
     "name": "stderr",
     "output_type": "stream",
     "text": [
      "Token indices sequence length is longer than the specified maximum sequence length for this model (2472 > 512). Running this sequence through the model will result in indexing errors\n"
     ]
    },
    {
     "data": {
      "image/png": "[encoded data removed]",
      "text/plain": [
       "<Figure size 640x480 with 1 Axes>"
      ]
     },
     "metadata": {},
     "output_type": "display_data"
    }
   ],
   "source": [
    "# Plot a histogram of the number of tokens in the documents\n",
    "doc_lengths = df_doc_content['document_content'].apply(lambda x: len(tokenizer.encode(x)))\n",
    "plt.hist(doc_lengths, bins=100)\n",
    "plt.xlabel('Number of tokens')\n",
    "plt.ylabel('Number of documents')\n",
    "plt.title('Histogram of number of tokens in documents')\n",
    "plt.grid()\n",
    "plt.show()"
   ]
  },
  {
   "cell_type": "code",
   "execution_count": 10,
   "metadata": {},
   "outputs": [
    {
     "name": "stdout",
     "output_type": "stream",
     "text": [
      "Min number of tokens in the documents: 531\n",
      "Max number of tokens in the documents: 7952\n",
      "Mean number of tokens in the documents: 1918.5365172107201\n",
      "Median number of tokens in the documents: 1770.0\n",
      "99th percentile number of tokens in the documents: 4775.799999999997\n"
     ]
    }
   ],
   "source": [
    "# Print min, max, mean, median number of tokens in the documents\n",
    "print(f\"Min number of tokens in the documents: {doc_lengths.min()}\")\n",
    "print(f\"Max number of tokens in the documents: {doc_lengths.max()}\")\n",
    "print(f\"Mean number of tokens in the documents: {doc_lengths.mean()}\")\n",
    "print(f\"Median number of tokens in the documents: {doc_lengths.median()}\")\n",
    "print(f\"99th percentile number of tokens in the documents: {doc_lengths.quantile(0.99)}\")"
   ]
  },
  {
   "cell_type": "markdown",
   "metadata": {},
   "source": [
    "## Create chunks"
   ]
  },
  {
   "cell_type": "code",
   "execution_count": 11,
   "metadata": {},
   "outputs": [],
   "source": [
    "from langchain_text_splitters import SentenceTransformersTokenTextSplitter"
   ]
  },
  {
   "cell_type": "code",
   "execution_count": 12,
   "metadata": {},
   "outputs": [],
   "source": [
    "text_splitter = SentenceTransformersTokenTextSplitter(\n",
    "    model_name=model_name,\n",
    "    chunk_overlap  = 5\n",
    ")"
   ]
  },
  {
   "cell_type": "code",
   "execution_count": 15,
   "metadata": {},
   "outputs": [],
   "source": [
    "tqdm.pandas()"
   ]
  },
  {
   "cell_type": "code",
   "execution_count": 16,
   "metadata": {},
   "outputs": [
    {
     "name": "stderr",
     "output_type": "stream",
     "text": [
      "100%|██████████| 7873/7873 [01:28<00:00, 88.52it/s] \n"
     ]
    }
   ],
   "source": [
    "df_doc_content['document_chunks'] = df_doc_content['document_content'].progress_apply(\n",
    "    lambda x: text_splitter.split_text(x)\n",
    ")"
   ]
  },
  {
   "cell_type": "code",
   "execution_count": 17,
   "metadata": {},
   "outputs": [],
   "source": [
    "df_doc_content.to_pickle('../../data/docs_url_content_chunks.pkl')"
   ]
  },
  {
   "cell_type": "code",
   "execution_count": 18,
   "metadata": {},
   "outputs": [
    {
     "data": {
      "text/plain": [
       "document_chunks\n",
       "4     2855\n",
       "3     1897\n",
       "5     1461\n",
       "6      623\n",
       "2      519\n",
       "7      258\n",
       "8      107\n",
       "9       58\n",
       "10      25\n",
       "12      16\n",
       "14      15\n",
       "11      14\n",
       "15      10\n",
       "13       9\n",
       "16       6\n",
       "Name: count, dtype: int64"
      ]
     },
     "execution_count": 18,
     "metadata": {},
     "output_type": "execute_result"
    }
   ],
   "source": [
    "# Number of chunks\n",
    "num_chunks = df_doc_content['document_chunks'].apply(len)\n",
    "num_chunks.value_counts()"
   ]
  },
  {
   "cell_type": "code",
   "execution_count": 19,
   "metadata": {},
   "outputs": [
    {
     "name": "stdout",
     "output_type": "stream",
     "text": [
      "Total chunks: 33545\n",
      "Total documents: 7873\n",
      "Average number of chunks per document: 4.260764638638384\n",
      "Median number of chunks per document: 4.0\n",
      "Max number of chunks per document: 16\n",
      "99th percentile number of chunks per document: 10.0\n",
      "Min number of chunks per document: 2\n"
     ]
    }
   ],
   "source": [
    "print(\"Total chunks:\", num_chunks.sum())\n",
    "print(\"Total documents:\", len(df_doc_content))\n",
    "print(f\"Average number of chunks per document: {num_chunks.mean()}\")\n",
    "print(f\"Median number of chunks per document: {num_chunks.median()}\")\n",
    "print(f\"Max number of chunks per document: {num_chunks.max()}\")\n",
    "print(f\"99th percentile number of chunks per document: {num_chunks.quantile(0.99)}\")\n",
    "print(f\"Min number of chunks per document: {num_chunks.min()}\")"
   ]
  },
  {
   "cell_type": "markdown",
   "metadata": {},
   "source": [
    "### Store `len(relevant_chunks)` in `df_ques_url`"
   ]
  },
  {
   "cell_type": "code",
   "execution_count": 28,
   "metadata": {},
   "outputs": [
    {
     "name": "stderr",
     "output_type": "stream",
     "text": [
      "100%|██████████| 36925/36925 [00:21<00:00, 1742.49it/s]\n"
     ]
    },
    {
     "data": {
      "text/plain": [
       "(36925, 3)"
      ]
     },
     "execution_count": 28,
     "metadata": {},
     "output_type": "execute_result"
    }
   ],
   "source": [
    "def find_num_chunks(urls):\n",
    "    num_chunks = 0\n",
    "    for url in urls:\n",
    "        df_temp = df_doc_content[df_doc_content['document_url'] == url]\n",
    "        num_chunks += len(df_temp['document_chunks'].values[0])\n",
    "    return num_chunks\n",
    "\n",
    "df_ques_url['num_rel_chunks'] = df_ques_url['relevant_docs_urls'].progress_apply(\n",
    "    lambda x: find_num_chunks(x)\n",
    ")\n",
    "\n",
    "df_ques_url.to_pickle('../../data/questions_relevant_urls_chunks.pkl')\n",
    "df_ques_url.shape"
   ]
  },
  {
   "cell_type": "code",
   "execution_count": 30,
   "metadata": {},
   "outputs": [
    {
     "data": {
      "text/plain": [
       "num_rel_chunks\n",
       "4     12841\n",
       "5      8538\n",
       "3      5924\n",
       "6      4351\n",
       "7      2140\n",
       "8       965\n",
       "2       723\n",
       "9       580\n",
       "10      231\n",
       "14      141\n",
       "11      131\n",
       "12      127\n",
       "15       90\n",
       "13       70\n",
       "16       45\n",
       "17       13\n",
       "21        4\n",
       "31        2\n",
       "20        2\n",
       "19        2\n",
       "27        2\n",
       "24        1\n",
       "22        1\n",
       "29        1\n",
       "Name: count, dtype: int64"
      ]
     },
     "execution_count": 30,
     "metadata": {},
     "output_type": "execute_result"
    }
   ],
   "source": [
    "df_ques_url['num_rel_chunks'].value_counts()"
   ]
  },
  {
   "cell_type": "markdown",
   "metadata": {},
   "source": [
    "## Create Embeddings"
   ]
  },
  {
   "cell_type": "code",
   "execution_count": 23,
   "metadata": {},
   "outputs": [
    {
     "name": "stderr",
     "output_type": "stream",
     "text": [
      "100%|██████████| 7873/7873 [07:56<00:00, 16.52it/s]"
     ]
    },
    {
     "name": "stdout",
     "output_type": "stream",
     "text": [
      "(33545, 3)\n"
     ]
    },
    {
     "name": "stderr",
     "output_type": "stream",
     "text": [
      "\n"
     ]
    },
    {
     "data": {
      "text/html": [
       "<div>\n",
       "<style scoped>\n",
       "    .dataframe tbody tr th:only-of-type {\n",
       "        vertical-align: middle;\n",
       "    }\n",
       "\n",
       "    .dataframe tbody tr th {\n",
       "        vertical-align: top;\n",
       "    }\n",
       "\n",
       "    .dataframe thead th {\n",
       "        text-align: right;\n",
       "    }\n",
       "</style>\n",
       "<table border=\"1\" class=\"dataframe\">\n",
       "  <thead>\n",
       "    <tr style=\"text-align: right;\">\n",
       "      <th></th>\n",
       "      <th>doc_url</th>\n",
       "      <th>chunk_content</th>\n",
       "      <th>embedding</th>\n",
       "    </tr>\n",
       "  </thead>\n",
       "  <tbody>\n",
       "    <tr>\n",
       "      <th>0</th>\n",
       "      <td>https://ghr.nlm.nih.gov/condition/keratoderma-...</td>\n",
       "      <td>keratoderma with woolly hair : medlineplus gen...</td>\n",
       "      <td>[-0.0039987266, 0.08037464, 0.049785912, -0.12...</td>\n",
       "    </tr>\n",
       "    <tr>\n",
       "      <th>1</th>\n",
       "      <td>https://ghr.nlm.nih.gov/condition/keratoderma-...</td>\n",
       "      <td>##ma, woolly hair, and a form of cardiomyopath...</td>\n",
       "      <td>[-0.09539697, -0.09132044, 0.0027289127, 0.005...</td>\n",
       "    </tr>\n",
       "    <tr>\n",
       "      <th>2</th>\n",
       "      <td>https://ghr.nlm.nih.gov/condition/keratoderma-...</td>\n",
       "      <td>##pathy in people with this group of condition...</td>\n",
       "      <td>[0.026278932, 0.060939535, 0.031438153, -0.044...</td>\n",
       "    </tr>\n",
       "  </tbody>\n",
       "</table>\n",
       "</div>"
      ],
      "text/plain": [
       "                                             doc_url  \\\n",
       "0  https://ghr.nlm.nih.gov/condition/keratoderma-...   \n",
       "1  https://ghr.nlm.nih.gov/condition/keratoderma-...   \n",
       "2  https://ghr.nlm.nih.gov/condition/keratoderma-...   \n",
       "\n",
       "                                       chunk_content  \\\n",
       "0  keratoderma with woolly hair : medlineplus gen...   \n",
       "1  ##ma, woolly hair, and a form of cardiomyopath...   \n",
       "2  ##pathy in people with this group of condition...   \n",
       "\n",
       "                                           embedding  \n",
       "0  [-0.0039987266, 0.08037464, 0.049785912, -0.12...  \n",
       "1  [-0.09539697, -0.09132044, 0.0027289127, 0.005...  \n",
       "2  [0.026278932, 0.060939535, 0.031438153, -0.044...  "
      ]
     },
     "execution_count": 23,
     "metadata": {},
     "output_type": "execute_result"
    }
   ],
   "source": [
    "li = []\n",
    "\n",
    "for _, row in tqdm(df_doc_content.iterrows(), total=len(df_doc_content)):\n",
    "    for chunk in row['document_chunks']:\n",
    "        li.append({\n",
    "            'doc_url': row['document_url'],\n",
    "            'chunk_content': chunk,\n",
    "            'embedding': model.encode(chunk)\n",
    "        })\n",
    "\n",
    "df_chunks_emb = pd.DataFrame(li)\n",
    "print(df_chunks_emb.shape)\n",
    "df_chunks_emb.head(3)"
   ]
  },
  {
   "cell_type": "code",
   "execution_count": 26,
   "metadata": {},
   "outputs": [],
   "source": [
    "df_chunks_emb.to_pickle('../../data/kb_chunks_emb.pkl')"
   ]
  },
  {
   "cell_type": "markdown",
   "metadata": {},
   "source": [
    "## Split into train and test"
   ]
  },
  {
   "cell_type": "code",
   "execution_count": 31,
   "metadata": {},
   "outputs": [
    {
     "name": "stdout",
     "output_type": "stream",
     "text": [
      "(20000, 3)\n",
      "(16925, 3)\n"
     ]
    }
   ],
   "source": [
    "TRAIN_SIZE = 20_000\n",
    "TEST_SIZE = len(df_ques_url) - TRAIN_SIZE\n",
    "df_ques_url_train = df_ques_url[:TRAIN_SIZE].reset_index(drop=True)\n",
    "df_ques_url_test = df_ques_url[TRAIN_SIZE:].reset_index(drop=True)\n",
    "\n",
    "print(df_ques_url_train.shape)\n",
    "print(df_ques_url_test.shape)"
   ]
  },
  {
   "cell_type": "code",
   "execution_count": 32,
   "metadata": {},
   "outputs": [],
   "source": [
    "df_ques_url_train.to_pickle('../../data/questions_relevant_urls_chunks_train.pkl')\n",
    "df_ques_url_test.to_pickle('../../data/questions_relevant_urls_chunks_test.pkl')"
   ]
  }
 ],
 "metadata": {
  "kernelspec": {
   "display_name": "nlp_env",
   "language": "python",
   "name": "python3"
  },
  "language_info": {
   "codemirror_mode": {
    "name": "ipython",
    "version": 3
   },
   "file_extension": ".py",
   "mimetype": "text/x-python",
   "name": "python",
   "nbconvert_exporter": "python",
   "pygments_lexer": "ipython3",
   "version": "3.10.15"
  }
 },
 "nbformat": 4,
 "nbformat_minor": 2
}
