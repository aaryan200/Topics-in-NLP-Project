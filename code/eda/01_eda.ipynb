{
 "cells": [
  {
   "cell_type": "code",
   "execution_count": 1,
   "id": "35e1bf29",
   "metadata": {},
   "outputs": [],
   "source": [
    "import numpy as np\n",
    "import pandas as pd"
   ]
  },
  {
   "cell_type": "code",
   "execution_count": 2,
   "id": "8e563d2a",
   "metadata": {},
   "outputs": [],
   "source": [
    "CORPUS = 'data/collection.tsv'\n",
    "QUERIES = 'data/query.train.tsv'"
   ]
  },
  {
   "cell_type": "code",
   "execution_count": 3,
   "id": "95035bcd",
   "metadata": {},
   "outputs": [
    {
     "name": "stdout",
     "output_type": "stream",
     "text": [
      "(8841823, 2) (808731, 2)\n"
     ]
    }
   ],
   "source": [
    "df_corpus = pd.read_csv(CORPUS, sep='\\t', header=None)\n",
    "df_queries = pd.read_csv(QUERIES, sep='\\t', header=None)\n",
    "print(df_corpus.shape, df_queries.shape)"
   ]
  },
  {
   "cell_type": "code",
   "execution_count": 9,
   "id": "2170c4fe",
   "metadata": {},
   "outputs": [],
   "source": [
    "df_corpus = df_corpus.set_index(0)"
   ]
  },
  {
   "cell_type": "code",
   "execution_count": 10,
   "id": "0146b1ce",
   "metadata": {},
   "outputs": [
    {
     "data": {
      "text/html": [
       "<div>\n",
       "<style scoped>\n",
       "    .dataframe tbody tr th:only-of-type {\n",
       "        vertical-align: middle;\n",
       "    }\n",
       "\n",
       "    .dataframe tbody tr th {\n",
       "        vertical-align: top;\n",
       "    }\n",
       "\n",
       "    .dataframe thead th {\n",
       "        text-align: right;\n",
       "    }\n",
       "</style>\n",
       "<table border=\"1\" class=\"dataframe\">\n",
       "  <thead>\n",
       "    <tr style=\"text-align: right;\">\n",
       "      <th></th>\n",
       "      <th>1</th>\n",
       "    </tr>\n",
       "    <tr>\n",
       "      <th>0</th>\n",
       "      <th></th>\n",
       "    </tr>\n",
       "  </thead>\n",
       "  <tbody>\n",
       "    <tr>\n",
       "      <th>0</th>\n",
       "      <td>वैज्ञानिक दिमागों के बीच संचार की उपस्थिति मै...</td>\n",
       "    </tr>\n",
       "    <tr>\n",
       "      <th>1</th>\n",
       "      <td>मैनहट्टन परियोजना और उसके परमाणु बम ने द्विती...</td>\n",
       "    </tr>\n",
       "    <tr>\n",
       "      <th>2</th>\n",
       "      <td>मैनहट्टन परियोजना पर निबंध - मैनहट्टन परियोजन...</td>\n",
       "    </tr>\n",
       "    <tr>\n",
       "      <th>3</th>\n",
       "      <td>मैनहट्टन परियोजना द्वितीय विश्व युद्ध के दौरा...</td>\n",
       "    </tr>\n",
       "    <tr>\n",
       "      <th>4</th>\n",
       "      <td>प्रत्येक खंड के संस्करण तथा पूरक वेबसाइट.पहली...</td>\n",
       "    </tr>\n",
       "    <tr>\n",
       "      <th>5</th>\n",
       "      <td>मैनहट्टन परियोजना.इस एक बार गोपनीय तस्वीर में...</td>\n",
       "    </tr>\n",
       "    <tr>\n",
       "      <th>6</th>\n",
       "      <td>न ही यह परमाणु बमों और द्वितीय विश्व युद्ध के...</td>\n",
       "    </tr>\n",
       "    <tr>\n",
       "      <th>7</th>\n",
       "      <td>मैनहट्टन परियोजना.मैनहट्टन परियोजना द्वितीय व...</td>\n",
       "    </tr>\n",
       "    <tr>\n",
       "      <th>8</th>\n",
       "      <td>जून 1942 में, संयुक्त राज्य सेना के इंजीनियरो...</td>\n",
       "    </tr>\n",
       "    <tr>\n",
       "      <th>9</th>\n",
       "      <td>मैनहट्टन परियोजना के बी रिएक्टर के लिए हानफोर...</td>\n",
       "    </tr>\n",
       "  </tbody>\n",
       "</table>\n",
       "</div>"
      ],
      "text/plain": [
       "                                                   1\n",
       "0                                                   \n",
       "0   वैज्ञानिक दिमागों के बीच संचार की उपस्थिति मै...\n",
       "1   मैनहट्टन परियोजना और उसके परमाणु बम ने द्विती...\n",
       "2   मैनहट्टन परियोजना पर निबंध - मैनहट्टन परियोजन...\n",
       "3   मैनहट्टन परियोजना द्वितीय विश्व युद्ध के दौरा...\n",
       "4   प्रत्येक खंड के संस्करण तथा पूरक वेबसाइट.पहली...\n",
       "5   मैनहट्टन परियोजना.इस एक बार गोपनीय तस्वीर में...\n",
       "6   न ही यह परमाणु बमों और द्वितीय विश्व युद्ध के...\n",
       "7   मैनहट्टन परियोजना.मैनहट्टन परियोजना द्वितीय व...\n",
       "8   जून 1942 में, संयुक्त राज्य सेना के इंजीनियरो...\n",
       "9   मैनहट्टन परियोजना के बी रिएक्टर के लिए हानफोर..."
      ]
     },
     "execution_count": 10,
     "metadata": {},
     "output_type": "execute_result"
    }
   ],
   "source": [
    "df_corpus.head(10)"
   ]
  },
  {
   "cell_type": "code",
   "execution_count": 11,
   "id": "e04e5ebc",
   "metadata": {},
   "outputs": [
    {
     "data": {
      "text/html": [
       "<div>\n",
       "<style scoped>\n",
       "    .dataframe tbody tr th:only-of-type {\n",
       "        vertical-align: middle;\n",
       "    }\n",
       "\n",
       "    .dataframe tbody tr th {\n",
       "        vertical-align: top;\n",
       "    }\n",
       "\n",
       "    .dataframe thead th {\n",
       "        text-align: right;\n",
       "    }\n",
       "</style>\n",
       "<table border=\"1\" class=\"dataframe\">\n",
       "  <thead>\n",
       "    <tr style=\"text-align: right;\">\n",
       "      <th></th>\n",
       "      <th>0</th>\n",
       "      <th>1</th>\n",
       "    </tr>\n",
       "  </thead>\n",
       "  <tbody>\n",
       "    <tr>\n",
       "      <th>0</th>\n",
       "      <td>121352</td>\n",
       "      <td>चरम को परिभाषित करें</td>\n",
       "    </tr>\n",
       "    <tr>\n",
       "      <th>1</th>\n",
       "      <td>634306</td>\n",
       "      <td>क्रेडिट इतिहास पर चैटल का क्या अर्थ है</td>\n",
       "    </tr>\n",
       "    <tr>\n",
       "      <th>2</th>\n",
       "      <td>920825</td>\n",
       "      <td>क्या महान छलांग थी दिमाग़ में</td>\n",
       "    </tr>\n",
       "    <tr>\n",
       "      <th>3</th>\n",
       "      <td>510633</td>\n",
       "      <td>टैटू फिक्स्चर कितना यह लागत</td>\n",
       "    </tr>\n",
       "    <tr>\n",
       "      <th>4</th>\n",
       "      <td>737889</td>\n",
       "      <td>विकेन्द्रीकरण प्रक्रिया क्या है.</td>\n",
       "    </tr>\n",
       "    <tr>\n",
       "      <th>5</th>\n",
       "      <td>278900</td>\n",
       "      <td>ला जॉला कॉनकोर डी एलिगेंस में कितनी कारें शाम...</td>\n",
       "    </tr>\n",
       "    <tr>\n",
       "      <th>6</th>\n",
       "      <td>674172</td>\n",
       "      <td>बैंक ट्रान्जिट नंबर क्या है</td>\n",
       "    </tr>\n",
       "    <tr>\n",
       "      <th>7</th>\n",
       "      <td>303205</td>\n",
       "      <td>मैं कितना योगदान कर सकता हूँ गैर-घटाय योग्य इरा</td>\n",
       "    </tr>\n",
       "    <tr>\n",
       "      <th>8</th>\n",
       "      <td>570009</td>\n",
       "      <td>तत्वों के चार प्रमुख समूह क्या हैं</td>\n",
       "    </tr>\n",
       "    <tr>\n",
       "      <th>9</th>\n",
       "      <td>492875</td>\n",
       "      <td>सैनिटाइजर तापमान</td>\n",
       "    </tr>\n",
       "  </tbody>\n",
       "</table>\n",
       "</div>"
      ],
      "text/plain": [
       "        0                                                  1\n",
       "0  121352                              चरम को परिभाषित करें \n",
       "1  634306            क्रेडिट इतिहास पर चैटल का क्या अर्थ है \n",
       "2  920825                      क्या महान छलांग थी दिमाग़ में\n",
       "3  510633                       टैटू फिक्स्चर कितना यह लागत \n",
       "4  737889                   विकेन्द्रीकरण प्रक्रिया क्या है.\n",
       "5  278900   ला जॉला कॉनकोर डी एलिगेंस में कितनी कारें शाम...\n",
       "6  674172                       बैंक ट्रान्जिट नंबर क्या है \n",
       "7  303205   मैं कितना योगदान कर सकता हूँ गैर-घटाय योग्य इरा \n",
       "8  570009                तत्वों के चार प्रमुख समूह क्या हैं \n",
       "9  492875                                  सैनिटाइजर तापमान "
      ]
     },
     "execution_count": 11,
     "metadata": {},
     "output_type": "execute_result"
    }
   ],
   "source": [
    "df_queries.head(10)"
   ]
  },
  {
   "cell_type": "code",
   "execution_count": 19,
   "id": "75759c50",
   "metadata": {},
   "outputs": [
    {
     "name": "stdout",
     "output_type": "stream",
     "text": [
      "1067371\n",
      "Query:\n",
      "मेरी कार बारिश में क्यों थूकती है\n",
      "\n",
      "Text:\n",
      "विदेशी संपत्तियों का मूल्य कैसे निर्धारित करें.विदेशी वित्तीय परिसंपत्तियों का मूल्यांकन उस मुद्रा में उनके निष्पक्ष बाजार मूल्य का उपयोग करके किया जाता है जिसमें परिसंपत्ति का नामकरण किया गया है.करदाताओं को वर्ष के दौरान किसी भी समय उस परिसंपत्ति के लिए उच्चतम उचित बाजार मूल्य और वर्ष के अंतिम दिन उचित बाजार मूल्य दोनों को जानना होगा।.\n"
     ]
    }
   ],
   "source": [
    "idx = 35\n",
    "query_idx = df_queries.loc[idx, 0]\n",
    "query = df_queries.loc[idx, 1]\n",
    "print(query_idx)\n",
    "print(\"Query:\")\n",
    "print(query.strip() + \"\\n\")\n",
    "corr_text = df_corpus.loc[query_idx, 1]\n",
    "print(\"Text:\")\n",
    "print(corr_text.strip())"
   ]
  },
  {
   "cell_type": "code",
   "execution_count": null,
   "id": "655fa94a",
   "metadata": {},
   "outputs": [],
   "source": []
  }
 ],
 "metadata": {
  "kernelspec": {
   "display_name": "Python 3 (ipykernel)",
   "language": "python",
   "name": "python3"
  },
  "language_info": {
   "codemirror_mode": {
    "name": "ipython",
    "version": 3
   },
   "file_extension": ".py",
   "mimetype": "text/x-python",
   "name": "python",
   "nbconvert_exporter": "python",
   "pygments_lexer": "ipython3",
   "version": "3.9.18"
  }
 },
 "nbformat": 4,
 "nbformat_minor": 5
}
